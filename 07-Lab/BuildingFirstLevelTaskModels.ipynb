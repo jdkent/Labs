{
 "cells": [
  {
   "cell_type": "markdown",
   "metadata": {},
   "source": [
    "# Lab 06: Building a task model for a single subject\n",
    "\n",
    "The purpose of this lab is to walk through steps for building a statistical model for task-evoked changes in BOLD signal. Up to now we have practiced steps involved in preprocessing via the command-line. In today's lab we'll see how to set up these steps with the GUI in FSL, and then test for task-related activation on the preprocessed image. \n",
    "\n",
    "We will look at examples for both event-related and block design tasks, which are the two most common types of paradigms used in fMRI research."
   ]
  },
  {
   "cell_type": "code",
   "execution_count": null,
   "metadata": {},
   "outputs": [],
   "source": []
  }
 ],
 "metadata": {
  "kernelspec": {
   "display_name": "Bash",
   "language": "bash",
   "name": "bash"
  },
  "language_info": {
   "codemirror_mode": "shell",
   "file_extension": ".sh",
   "mimetype": "text/x-sh",
   "name": "bash"
  }
 },
 "nbformat": 4,
 "nbformat_minor": 2
}
