{
 "cells": [
  {
   "cell_type": "markdown",
   "metadata": {},
   "source": [
    "# Lab 07: Building a task model for a single subject\n",
    "\n",
    "The purpose of this lab is to walk through steps for building a statistical model for task-evoked changes in BOLD signal. Up to now we have practiced steps involved in preprocessing via the command-line. In today's lab we'll see how to set up these steps with the GUI in FSL, and then test for task-related activation. \n",
    "\n",
    "We will use our sub-97 test data, and get a feel for how different analytical decisions affect our result."
   ]
  },
  {
   "cell_type": "markdown",
   "metadata": {},
   "source": [
    "## Preparation"
   ]
  },
  {
   "cell_type": "code",
   "execution_count": 3,
   "metadata": {},
   "outputs": [],
   "source": [
    "# Download fresh data and task \"evs\" (explanatory variables)\n",
    "wget --quiet -O 07-Lab_data.tar.gz https://osf.io/92mpe/download &&\\\n",
    "tar -xf 07-Lab_data.tar.gz &&\\\n",
    "rm 07-Lab_data.tar.gz"
   ]
  },
  {
   "cell_type": "markdown",
   "metadata": {},
   "source": [
    "### Setting up a first-level design in FSL"
   ]
  },
  {
   "cell_type": "markdown",
   "metadata": {},
   "source": [
    "Why do we call this \"first-level\"?\n",
    "* Notes\n",
    "\n",
    "What is FSL's tool for running the general linear model with timeseries data?\n",
    "* Notes\n",
    "\n",
    "Workflow overview\n",
    "* set up analysis and task design in the FSL GUI with a pilot subject (practice today)\n",
    "* inspect results (practice today)\n",
    "* use the text file with extension .fsf as your template for analyses of other subjects\n",
    "    * run in a script with new subjects by using programming to search and replace values that change per subject\n",
    "    "
   ]
  },
  {
   "cell_type": "code",
   "execution_count": 4,
   "metadata": {},
   "outputs": [
    {
     "name": "stdout",
     "output_type": "stream",
     "text": [
      "[1] 11639\n"
     ]
    }
   ],
   "source": [
    "# Open FSL GUI\n",
    "fsl &"
   ]
  },
  {
   "cell_type": "code",
   "execution_count": null,
   "metadata": {},
   "outputs": [],
   "source": []
  }
 ],
 "metadata": {
  "kernelspec": {
   "display_name": "Bash",
   "language": "bash",
   "name": "bash"
  },
  "language_info": {
   "codemirror_mode": "shell",
   "file_extension": ".sh",
   "mimetype": "text/x-sh",
   "name": "bash"
  }
 },
 "nbformat": 4,
 "nbformat_minor": 2
}
