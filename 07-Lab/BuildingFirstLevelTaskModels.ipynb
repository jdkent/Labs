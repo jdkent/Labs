{
 "cells": [
  {
   "cell_type": "markdown",
   "metadata": {},
   "source": [
    "# Lab 07: Building a task model for a single subject\n",
    "\n",
    "The purpose of this lab is to walk through steps for building a statistical model for task-evoked changes in BOLD signal. Up to now we have practiced steps involved in preprocessing via the command-line. In today's lab we'll see how to set up these steps with the GUI in FSL, and then test for task-related activation. \n",
    "\n",
    "We will use our sub-97 test data, and get a feel for how different analytical decisions affect our result."
   ]
  },
  {
   "cell_type": "markdown",
   "metadata": {},
   "source": [
    "## Preparation"
   ]
  },
  {
   "cell_type": "code",
   "execution_count": null,
   "metadata": {},
   "outputs": [],
   "source": [
    "# Steps fix the python version of one of FSL's scripts\n",
    "\n",
    "# # step 1\n",
    "# cd /usr/share/fsl/5.0/bin\n",
    "\n",
    "# # step 2\n",
    "# sudo chmod 777 imglob\n",
    "\n",
    "# # step 3\n",
    "# atom imglob\n",
    "\n",
    "# # step 4, \n",
    "# # on the first line change #!/usr/bin/env python to #!/usr/bin/env python2"
   ]
  },
  {
   "cell_type": "code",
   "execution_count": 4,
   "metadata": {},
   "outputs": [],
   "source": [
    "# Download fresh data and task \"evs\" (explanatory variables)\n",
    "wget --quiet -O 07-Lab_data.tar.gz https://osf.io/v9hcq/download &&\\\n",
    "tar -xf 07-Lab_data.tar.gz &&\\\n",
    "rm 07-Lab_data.tar.gz"
   ]
  },
  {
   "cell_type": "markdown",
   "metadata": {},
   "source": [
    "## The task\n",
    "\n",
    "The task is called the **\"flanker\" task** because the goal during task performance is to respond to a central stimulus while ignoring stimuli that \"flank\" the target\n",
    "* This task used arrows as the stimulus type (> or <)\n",
    "* Participants respond to the central arrow with the key press indicating its direction\n",
    "* Three trial types\n",
    "    * _Congruent_: all arrows going in the same direction (>>>>>)\n",
    "    * _Incongruent_: the flanking arrows are going in the opposite direction (>><>>)\n",
    "    * _Neutral_: the flankers have no intrinsic direction (-->--)\n",
    "    * _Contrast of interest_: what regions are involved in resolving the response conflict elicited by the incongruent condition compared to the congruent and neutral conditions?\n",
    "* Trial information\n",
    "    * Stimuli on the screen for 200ms with a 2200ms response window\n",
    "    * Inter-trial interval was 2.72 seconds with \"null\" fixation events to add jitter\n",
    "    * 40 trials of each condition (120 total) with 40 \"null\" trials of fixation only in an order determined by optseq"
   ]
  },
  {
   "cell_type": "markdown",
   "metadata": {},
   "source": [
    "## Setting up a first-level design in FSL"
   ]
  },
  {
   "cell_type": "markdown",
   "metadata": {},
   "source": [
    "Why do we call this \"first-level\"?\n",
    "* Notes\n",
    "\n",
    "What is FSL's tool for running the general linear model with timeseries data?\n",
    "* Notes\n",
    "\n",
    "Workflow overview\n",
    "* set up analysis and task design in the FSL GUI with a pilot subject (practice today)\n",
    "* inspect results (practice today)\n",
    "* use the text file with extension .fsf as your template for analyses of other subjects\n",
    "    * run in a script with new subjects by using programming to search and replace values that change per subject\n",
    "    "
   ]
  },
  {
   "cell_type": "code",
   "execution_count": 3,
   "metadata": {},
   "outputs": [
    {
     "name": "stdout",
     "output_type": "stream",
     "text": [
      "\n",
      "------------------------------- RUNNING ICA-AROMA ------------------------------- \n",
      "--------------- 'ICA-based Automatic Removal Of Motion Artifacts' --------------- \n",
      "\n",
      "Step 1) MELODIC\n",
      "Step 2) Automatic classification of the components\n",
      "  - registering the spatial maps to MNI\n",
      "  - extracting the CSF & Edge fraction features\n",
      "  - extracting the Maximum RP correlation feature\n",
      "  - extracting the High-frequency content feature\n",
      "  - classification\n",
      "Step 3) Data denoising\n",
      "\n",
      "----------------------------------- Finished -----------------------------------\n",
      "\n"
     ]
    }
   ],
   "source": [
    "python ICA-AROMA/ICA_AROMA.py -feat ../preproc.feat -out ../preproc.feat/ICA_AROMA/"
   ]
  },
  {
   "cell_type": "code",
   "execution_count": null,
   "metadata": {},
   "outputs": [],
   "source": []
  }
 ],
 "metadata": {
  "kernelspec": {
   "display_name": "Bash",
   "language": "bash",
   "name": "bash"
  },
  "language_info": {
   "codemirror_mode": "shell",
   "file_extension": ".sh",
   "mimetype": "text/x-sh",
   "name": "bash"
  }
 },
 "nbformat": 4,
 "nbformat_minor": 2
}
