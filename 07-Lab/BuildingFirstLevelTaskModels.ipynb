{
 "cells": [
  {
   "cell_type": "markdown",
   "metadata": {},
   "source": [
    "# Lab 07: Building a task model for a single subject\n",
    "\n",
    "The purpose of this lab is to walk through steps for building a statistical model for task-evoked changes in BOLD signal. Up to now we have practiced steps involved in preprocessing via the command-line. In today's lab we'll see how to set up these steps with the GUI in FSL, and then test for task-related activation. \n",
    "\n",
    "We will use our sub-97 test data, and get a feel for how different analytical decisions affect our result."
   ]
  },
  {
   "cell_type": "markdown",
   "metadata": {},
   "source": [
    "## Preparation"
   ]
  },
  {
   "cell_type": "code",
   "execution_count": null,
   "metadata": {},
   "outputs": [],
   "source": [
    "# Steps fix the python version of one of FSL's scripts\n",
    "\n",
    "# # step 1\n",
    "# cd /usr/share/fsl/5.0/bin\n",
    "\n",
    "# # step 2\n",
    "# sudo chmod 777 imglob\n",
    "\n",
    "# # step 3\n",
    "# atom imglob\n",
    "\n",
    "# # step 4, \n",
    "# # on the first line change #!/usr/bin/env python to #!/usr/bin/env python2"
   ]
  },
  {
   "cell_type": "code",
   "execution_count": 4,
   "metadata": {},
   "outputs": [],
   "source": [
    "# Download fresh data and task \"evs\" (explanatory variables)\n",
    "wget --quiet -O 07-Lab_data.tar.gz https://osf.io/v9hcq/download &&\\\n",
    "tar -xf 07-Lab_data.tar.gz &&\\\n",
    "rm 07-Lab_data.tar.gz"
   ]
  },
  {
   "cell_type": "markdown",
   "metadata": {},
   "source": [
    "## The cognitive task: flanker\n",
    "\n",
    "![fig](img/task.png)\n",
    "\n",
    "* Three trial types\n",
    "    * _Congruent_: all arrows going in the same direction (>>>>>)\n",
    "    * _Incongruent_: the flanking arrows are going in the opposite direction (>><>>)\n",
    "    * _Neutral_: the flankers have no intrinsic direction (-->--)\n",
    "    * _Contrast of interest_: what regions are involved in resolving the response conflict elicited by the incongruent condition compared to the congruent and neutral conditions?\n",
    "* Trial information\n",
    "    * Inter-trial interval was 2.72 seconds with \"null\" fixation events to add jitter\n",
    "    * 40 trials of each condition (120 total) with 40 \"null\" trials of fixation only in an order determined by optseq\n",
    "  "
   ]
  },
  {
   "cell_type": "markdown",
   "metadata": {},
   "source": [
    "## Setting up a first-level design in FSL"
   ]
  },
  {
   "cell_type": "markdown",
   "metadata": {},
   "source": [
    "Why do we call this \"first-level\"?\n",
    "* Notes\n",
    "\n",
    "What is FSL's tool for running the general linear model with timeseries data?\n",
    "* Notes\n",
    "\n",
    "What is the parameter file that specifies your preprocessing and/or first-level design after set up with FSL?\n",
    "* Notes\n",
    "\n",
    "Workflow overview\n",
    "* set up analysis and task design in the FSL GUI with a pilot subject (practice today)\n",
    "* inspect results (practice today)\n",
    "* use optimal design file as a template and fill in information unique to each subject and run (practice later)\n",
    "    * run in a script with new subjects by using programming to search and replace values that change per subject\n",
    "    "
   ]
  },
  {
   "cell_type": "markdown",
   "metadata": {},
   "source": [
    "## Open example design file"
   ]
  },
  {
   "cell_type": "markdown",
   "metadata": {},
   "source": [
    "## Problem sets"
   ]
  },
  {
   "cell_type": "markdown",
   "metadata": {},
   "source": [
    "_1)_ Determine if using task regressors that account for trial-by-trial RT changes the results"
   ]
  },
  {
   "cell_type": "markdown",
   "metadata": {},
   "source": [
    "Explain your steps and show a figure to highlight similarities and/or differences"
   ]
  },
  {
   "cell_type": "markdown",
   "metadata": {},
   "source": [
    "_2)_ Use the manual for ICA-AROMA to run your fixed trial duration design following clean-up with ICA-AROMA"
   ]
  },
  {
   "cell_type": "markdown",
   "metadata": {},
   "source": [
    "_a)_ First run a design where you only run preprocessing without high-pass filtering"
   ]
  },
  {
   "cell_type": "markdown",
   "metadata": {},
   "source": [
    "_b)_ Next use the cleaned functional image from ICA-AROMA as your input 4D and set up your task design as shown above. Comment on the main differences you observed and include a figure of that activation map in a markdown cell below."
   ]
  },
  {
   "cell_type": "markdown",
   "metadata": {},
   "source": [
    "Your notes here."
   ]
  },
  {
   "cell_type": "markdown",
   "metadata": {},
   "source": [
    "_3)_ Featquery?"
   ]
  },
  {
   "cell_type": "code",
   "execution_count": null,
   "metadata": {},
   "outputs": [],
   "source": []
  }
 ],
 "metadata": {
  "kernelspec": {
   "display_name": "Bash",
   "language": "bash",
   "name": "bash"
  },
  "language_info": {
   "codemirror_mode": "shell",
   "file_extension": ".sh",
   "mimetype": "text/x-sh",
   "name": "bash"
  }
 },
 "nbformat": 4,
 "nbformat_minor": 2
}
