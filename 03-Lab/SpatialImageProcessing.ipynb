{
 "cells": [
  {
   "cell_type": "markdown",
   "metadata": {},
   "source": [
    "# Lab 03: Spatial image processing\n",
    "\n",
    "The purpose of this lab is to practice preprocessing needed on T1 images images and spatial normalization. Although spatial normalization is needed for the functional images as well, we will first get used to the concept with structural images."
   ]
  },
  {
   "cell_type": "markdown",
   "metadata": {},
   "source": [
    "## Preparation\n",
    "* import python tools for plotting 3D images\n",
    "* copy basic T1 images from our osfshare for easy access to the files for this lab"
   ]
  },
  {
   "cell_type": "code",
   "execution_count": null,
   "metadata": {},
   "outputs": [],
   "source": [
    "%matplotlib inline\n",
    "from nilearn import plotting\n",
    "from nilearn import image"
   ]
  },
  {
   "cell_type": "code",
   "execution_count": null,
   "metadata": {
    "collapsed": true
   },
   "outputs": [],
   "source": [
    "%%bash\n",
    "# Copy files from lab 01 for easier work with them here\n",
    "# Name them generic names for ease of seeing how the command line programs work\n",
    "cp ../01-Lab/osfshare/sub-97-T1w_brain.nii.gz my_T1_brain.nii.gz\n",
    "cp ../01-Lab/osfshare/sub-97-T1w_defaced.nii.gz my_T1.nii.gz"
   ]
  },
  {
   "cell_type": "markdown",
   "metadata": {},
   "source": [
    "### How did we get that \"brain\" image with the skull stripped  again?\n",
    "* FSL provides a tool called _bet_ which stands for _brain extraction tool_. See the [bet user manual here](https://fsl.fmrib.ox.ac.uk/fsl/fslwiki/BET/UserGuide). \n",
    "* It requires only the brain image with skull as input and has relatively few options. Performance is generally OK, but it is common to need to tweak the -f and -g options. \n",
    "* If you want to get serious about getting a great brain mask (e.g., your brains have many individual differences in shape due to atrophy), you should look to [ANTs](http://stnava.github.io/ANTs/). Here is an [example](https://dpaniukov.github.io/2016/06/06/brain-extraction-with-ants.html) of using their brain extraction tool\n",
    "* *Good brain extraction is essential to good registration*. If you see poor registration of your images later on then one place to start trouble-shooting is to look at the quality of your brain extraction by comparing the brain mask (what the program thinks is brain) to the image with the skull (did the program include non-brain tissues in the mask OR chop off part of the brain?)\n",
    "    - Never assume BET worked great, always check!!"
   ]
  },
  {
   "cell_type": "code",
   "execution_count": null,
   "metadata": {},
   "outputs": [],
   "source": [
    "%%bash\n",
    "# refresher, are my images here?\n",
    "ls"
   ]
  },
  {
   "cell_type": "markdown",
   "metadata": {},
   "source": [
    "## T1 image bias correction and image segmentation\n",
    "* FSL provides a nice tool called [FAST](https://fsl.fmrib.ox.ac.uk/fsl/fslwiki/FAST) that combines bias field correction (see Handbook p56) and tissue segmentation\n",
    "* You will need to input a T1 image of the brain without skull, so brain extraction should be run before-hand"
   ]
  },
  {
   "cell_type": "code",
   "execution_count": null,
   "metadata": {},
   "outputs": [],
   "source": [
    "%%bash\n",
    "# Look at usage\n",
    "fast"
   ]
  },
  {
   "cell_type": "code",
   "execution_count": null,
   "metadata": {
    "collapsed": true
   },
   "outputs": [],
   "source": [
    "%%bash\n",
    "# example usage below\n",
    "# running this should take ~10 minutes\n",
    "fast -t 1 -n 3 -g -b -B -v -o my_T1_brain my_T1_brain.nii.gz > fast.log"
   ]
  },
  {
   "cell_type": "code",
   "execution_count": null,
   "metadata": {},
   "outputs": [],
   "source": [
    "%%bash\n",
    "# get the documentation\n",
    "fast -h"
   ]
  },
  {
   "cell_type": "markdown",
   "metadata": {},
   "source": [
    "#### Write out what these options are doing\n",
    "Verbose output can help with seeing under the hood and tracking the process\n",
    "\n",
    "-t 1:\n",
    "\n",
    "-n 3:\n",
    "\n",
    "-g:\n",
    "\n",
    "-b:\n",
    "\n",
    "-B:\n",
    "\n",
    "-v:\n",
    "\n",
    "-o:\n"
   ]
  },
  {
   "cell_type": "code",
   "execution_count": null,
   "metadata": {},
   "outputs": [],
   "source": [
    "%%bash\n",
    "# Check outputs\n",
    "ls"
   ]
  },
  {
   "cell_type": "markdown",
   "metadata": {},
   "source": [
    "### Practice: \n",
    "* Use FSLview to open your T1 image with the \"seg\" images overlayed on top\n",
    "* What do these images represent?"
   ]
  },
  {
   "cell_type": "code",
   "execution_count": null,
   "metadata": {},
   "outputs": [],
   "source": [
    "%%bash\n",
    "# Your code"
   ]
  },
  {
   "cell_type": "markdown",
   "metadata": {},
   "source": [
    "* The bias corrected image ends with \"restore\" - take a look and compare values in the view and by looking at their histograms"
   ]
  },
  {
   "cell_type": "code",
   "execution_count": null,
   "metadata": {
    "collapsed": true
   },
   "outputs": [],
   "source": [
    "%%bash\n",
    "# Your code"
   ]
  },
  {
   "cell_type": "markdown",
   "metadata": {},
   "source": [
    "## Spatial registration\n",
    "* Now let's walk through how to spatially align our high-resolution T1 image and our functional bold image to the MNI-152 standard template."
   ]
  },
  {
   "cell_type": "markdown",
   "metadata": {},
   "source": [
    "### Open MNI 152 template in FSLview\n",
    "* Open standard > MNI152_T1_2mm_brain\n",
    "* Where is origin?\n",
    "* What does 2mm refer to in the file name?"
   ]
  },
  {
   "cell_type": "code",
   "execution_count": null,
   "metadata": {},
   "outputs": [],
   "source": [
    "%%bash\n",
    "# Copy variants of MNI to our local directory for easy access\n",
    "cp /usr/share/fsl/5.0/data/standard/MNI152_T1_2mm_brain.nii.gz ./MNI152_T1_2mm_brain.nii.gz\n",
    "cp /usr/share/fsl/5.0/data/standard/MNI152_T1_2mm.nii.gz ./MNI152_T1_2mm.nii.gz\n",
    "cp /usr/share/fsl/5.0/data/standard/MNI152_T1_2mm_brain_mask_dil.nii.gz ./MNI152_T1_2mm_brain_mask_dil.nii.gz\n",
    "ls"
   ]
  },
  {
   "cell_type": "markdown",
   "metadata": {},
   "source": [
    "### Preliminary steps\n",
    "Before registration it is nice if:\n",
    "* Images are all in same orientation as MNI (such as RPI)\n",
    "* If you want to do non-linear registration, FSL requires you have both the skulled and brain-extracted image available\n",
    "* You may get better results if you have bias-field corrected image. We will use our base images for the examples.  "
   ]
  },
  {
   "cell_type": "markdown",
   "metadata": {},
   "source": [
    "### The core tools in FSL for registration are:\n",
    "* [FLIRT](https://fsl.fmrib.ox.ac.uk/fsl/fslwiki/FLIRT) for linear registration problems\n",
    "    - FLIRT [user guide](https://fsl.fmrib.ox.ac.uk/fsl/fslwiki/FLIRT/UserGuide#flirt) which includes examples\n",
    "    - Notice in usage that *estimation* of the transformation and *application* of the transform are separate options\n",
    "    - FLIRT can also be run with [BBR](https://fsl.fmrib.ox.ac.uk/fsl/fslwiki/FLIRT_BBR) if your functional image has good gray matter/white matter contrast. BBR best run on the command-line using the epi_reg program.\n",
    "* [FNIRT](https://fsl.fmrib.ox.ac.uk/fsl/fslwiki/FNIRT) for non-linear registration "
   ]
  },
  {
   "cell_type": "markdown",
   "metadata": {},
   "source": [
    "### Registration of our T1 to the MNI 152 template"
   ]
  },
  {
   "cell_type": "markdown",
   "metadata": {},
   "source": [
    "#### Step 1: Use FLIRT for estimation of linear transformation between T1 and MNI. Any linear transformation will be represented by a 4 x 4 affine matrix (the files that typically end in .mat)"
   ]
  },
  {
   "cell_type": "code",
   "execution_count": null,
   "metadata": {},
   "outputs": [],
   "source": [
    "%%bash\n",
    "# Open the GUI (graphical user interface) and click on FLIRT linear registration\n",
    "# Note the default options\n",
    "\n",
    "fsl"
   ]
  },
  {
   "cell_type": "code",
   "execution_count": null,
   "metadata": {},
   "outputs": [],
   "source": [
    "%%bash\n",
    "# Flirt to align T1 to MNI with an affine transformation, with defaults set on command line\n",
    "# Note the back-slashes (\\) are to tell bash to continue the command across a new line, which helps with readability\n",
    "flirt -in my_T1_brain.nii.gz -ref MNI152_T1_2mm_brain.nii.gz \\\n",
    "-out T1_2_MNI_aff.nii.gz -omat T1_2_MNI.mat \\\n",
    "-cost corratio -dof 12 -searchrx -90 90 -searchry -90 90 -interp trilinear"
   ]
  },
  {
   "cell_type": "code",
   "execution_count": null,
   "metadata": {},
   "outputs": [],
   "source": [
    "%%bash\n",
    "ls"
   ]
  },
  {
   "cell_type": "code",
   "execution_count": null,
   "metadata": {},
   "outputs": [],
   "source": [
    "%%bash\n",
    "# We can look at the affine matrix\n",
    "cat T1_2_MNI.mat"
   ]
  },
  {
   "cell_type": "code",
   "execution_count": null,
   "metadata": {},
   "outputs": [],
   "source": [
    "%%bash\n",
    "# We can see the separate components of the transformation with avscale\n",
    "avscale T1_2_MNI.mat"
   ]
  },
  {
   "cell_type": "code",
   "execution_count": null,
   "metadata": {
    "collapsed": true
   },
   "outputs": [],
   "source": [
    "%%bash\n",
    "# Let's compare alignment for caudate and gyri\n",
    "fslview MNI152_T1_2mm_brain.nii.gz T1_2_MNI_aff.nii.gz"
   ]
  },
  {
   "cell_type": "markdown",
   "metadata": {},
   "source": [
    "#### Step 2: Use FNIRT to estimate a more refined non-linear \"warp field\" to align structures more locally"
   ]
  },
  {
   "cell_type": "code",
   "execution_count": null,
   "metadata": {},
   "outputs": [],
   "source": [
    "%%bash\n",
    "fnirt"
   ]
  },
  {
   "cell_type": "code",
   "execution_count": null,
   "metadata": {},
   "outputs": [],
   "source": [
    "%%bash\n",
    "ls"
   ]
  },
  {
   "cell_type": "code",
   "execution_count": null,
   "metadata": {
    "collapsed": true
   },
   "outputs": [],
   "source": [
    "%%bash\n",
    "# FNIRT with default parameters\n",
    "fnirt --iout=T1_2_MNI_head --in=my_T1 --aff=T1_2_MNI.mat \\\n",
    "--cout=T1_2_MNI_warp --iout=T1_2_MNI --jout=T1_2_MNI_jac \\\n",
    "--config=T1_2_MNI152_2mm \\\n",
    "--ref=MNI152_T1_2mm.nii.gz --refmask=MNI152_T1_2mm_brain_mask_dil.nii.gz \\\n",
    "--warpres=10,10,10"
   ]
  },
  {
   "cell_type": "code",
   "execution_count": null,
   "metadata": {},
   "outputs": [],
   "source": [
    "%%bash\n",
    "ls"
   ]
  },
  {
   "cell_type": "code",
   "execution_count": null,
   "metadata": {
    "collapsed": true
   },
   "outputs": [],
   "source": [
    "%%bash\n",
    "# Again compare alignment for caudate and gyri\n",
    "fslview MNI152_T1_2mm_brain.nii.gz T1_2_MNI.nii.gz"
   ]
  },
  {
   "cell_type": "markdown",
   "metadata": {},
   "source": [
    "#### Step 3: Apply these transforms together to your T1 image"
   ]
  },
  {
   "cell_type": "code",
   "execution_count": null,
   "metadata": {},
   "outputs": [],
   "source": [
    "%%bash\n",
    "applywarp"
   ]
  },
  {
   "cell_type": "code",
   "execution_count": null,
   "metadata": {
    "collapsed": true
   },
   "outputs": [],
   "source": [
    "%%bash\n",
    "applywarp -i my_T1_brain.nii.gz -r MNI152_T1_2mm_brain.nii.gz -o T1_2_MNI_nonlin.nii.gz -w T1_2_MNI_warp.nii.gz"
   ]
  },
  {
   "cell_type": "code",
   "execution_count": null,
   "metadata": {
    "collapsed": true
   },
   "outputs": [],
   "source": [
    "%%bash\n",
    "# compare the linear registration to the non-linear registration\n",
    "fslview MNI152_T1_2mm_brain.nii.gz T1_2_MNI_nonlin.nii.gz T1_2_MNI_aff.nii.gz &\n"
   ]
  },
  {
   "cell_type": "markdown",
   "metadata": {},
   "source": [
    "#### Nilearn plotting tools allow you to easily plot co-registered images together with \"edge\" maps"
   ]
  },
  {
   "cell_type": "code",
   "execution_count": null,
   "metadata": {
    "scrolled": true
   },
   "outputs": [],
   "source": [
    "# Show our MNI as the base and our T1 as edges\n",
    "mni=\"MNI152_T1_2mm.nii.gz\"\n",
    "img=\"T1_2_MNI_nonlin.nii.gz\"\n",
    "display=plotting.plot_anat(mni, display_mode=\"z\",cut_coords=10)\n",
    "display.add_edges(img)"
   ]
  },
  {
   "cell_type": "markdown",
   "metadata": {},
   "source": [
    "# Practice problem"
   ]
  },
  {
   "cell_type": "markdown",
   "metadata": {},
   "source": [
    "Download a new T1 image from OpenfMRI, and complete the following:\n",
    "* Run brain extraction with bet \n",
    "* Run segmentation with FAST\n",
    "* Register the T1 image to the MNI template using the same strategy as we did above\n",
    "* Make a plot in your notebook showing the edges of the registered T1 image on top of the MNI standard brain"
   ]
  },
  {
   "cell_type": "code",
   "execution_count": null,
   "metadata": {
    "collapsed": true,
    "scrolled": false
   },
   "outputs": [],
   "source": [
    "%%bash\n",
    "# We will download the T1 image from the first subject in this [dataset](https://openfmri.org/dataset/ds000101/).\n",
    "# Code to download new image from Open fMRI\n",
    "# The image will be named sub-01_T1w.nii.gz \n",
    "wget -O sub-01_T1w.nii.gz https://s3.amazonaws.com/openneuro/ds000101/ds000101_R2.0.0/uncompressed/sub-01/anat/sub-01_T1w.nii.gz"
   ]
  },
  {
   "cell_type": "code",
   "execution_count": null,
   "metadata": {
    "collapsed": true
   },
   "outputs": [],
   "source": [
    "%%bash\n",
    "# Your code to run bet\n",
    "# You should NOT need any additional parameters other than input and output, and specifcy that you want a mask\n",
    "# Name your skull-stripped output sub-01_T1w_brain.nii.gz\n",
    "\n",
    "\n"
   ]
  },
  {
   "cell_type": "code",
   "execution_count": null,
   "metadata": {
    "collapsed": true
   },
   "outputs": [],
   "source": [
    "%%bash\n",
    "# Code to run FAST\n",
    "\n"
   ]
  },
  {
   "cell_type": "code",
   "execution_count": null,
   "metadata": {
    "collapsed": true
   },
   "outputs": [],
   "source": [
    "%%bash\n",
    "# Code to estimate an affine transform\n",
    "# Name your image sub-01-T1_2_MNI_aff\n",
    "# Name your affine transform sub-01-T1_2_MNI.mat\n",
    "\n"
   ]
  },
  {
   "cell_type": "code",
   "execution_count": null,
   "metadata": {
    "collapsed": true
   },
   "outputs": [],
   "source": [
    "%%bash\n",
    "# Code to estimate a non-linear transform\n",
    "\n",
    "\n"
   ]
  },
  {
   "cell_type": "code",
   "execution_count": null,
   "metadata": {
    "collapsed": true
   },
   "outputs": [],
   "source": [
    "%%bash\n",
    "# Code to apply transforms to T1\n",
    "# Name your output sub-01_T1_2_MNI_nonlin.nii.gz\n"
   ]
  },
  {
   "cell_type": "code",
   "execution_count": null,
   "metadata": {
    "collapsed": true
   },
   "outputs": [],
   "source": [
    "# Plot your images\n",
    "\n",
    "\n"
   ]
  }
 ],
 "metadata": {
  "kernelspec": {
   "display_name": "Python 3",
   "language": "python",
   "name": "python3"
  },
  "language_info": {
   "codemirror_mode": {
    "name": "ipython",
    "version": 3
   },
   "file_extension": ".py",
   "mimetype": "text/x-python",
   "name": "python",
   "nbconvert_exporter": "python",
   "pygments_lexer": "ipython3",
   "version": "3.6.1"
  }
 },
 "nbformat": 4,
 "nbformat_minor": 2
}
