{
 "cells": [
  {
   "cell_type": "markdown",
   "metadata": {},
   "source": [
    "# Lab 03: Spatial image processing\n",
    "\n",
    "The purpose of this lab is to practice preprocessing needed on T1 images images and spatial normalization. Although spatial normalization is needed for the functional images as well, we will first get used to the concept with structural images."
   ]
  },
  {
   "cell_type": "markdown",
   "metadata": {},
   "source": [
    "## Preparation\n",
    "* import python tools for plotting 3D images\n",
    "* copy basic T1 and bold image from our osfshare for easy access to the files for this lab"
   ]
  },
  {
   "cell_type": "code",
   "execution_count": 1,
   "metadata": {},
   "outputs": [],
   "source": [
    "from nilearn import plotting\n",
    "from nilearn import image"
   ]
  },
  {
   "cell_type": "code",
   "execution_count": 22,
   "metadata": {},
   "outputs": [],
   "source": [
    "%%bash\n",
    "# Copy files from lab 01 for easier work with them here\n",
    "# Name them generic names for ease of seeing how the command line programs work\n",
    "cp ../01-Lab/osfshare/sub-97-T1w_brain.nii.gz my_T1_brain.nii.gz\n",
    "cp ../01-Lab/osfshare/sub-97-T1w_defaced.nii.gz my_T1.nii.gz"
   ]
  },
  {
   "cell_type": "markdown",
   "metadata": {},
   "source": [
    "### How did we get that \"brain\" image with the skull stripped  again?\n",
    "* FSL provides a tool called _bet_ which stands for _brain extraction tool_. See the [bet user manual here](https://fsl.fmrib.ox.ac.uk/fsl/fslwiki/BET/UserGuide). \n",
    "* It requires only the brain image with skull as input and has relatively few options. Performance is generally OK, but it is common to need to tweak the -f and -g options. \n",
    "* If you want to get serious about getting a great brain mask (e.g., your brains have many individual differences in shape due to atrophy), you should look to [ANTs](http://stnava.github.io/ANTs/). Here is an [example](https://dpaniukov.github.io/2016/06/06/brain-extraction-with-ants.html) of using their brain extraction tool\n",
    "* *Good brain extraction is essential to good registration*. If you see poor registration of your images later on then one place to start trouble-shooting is to look at the quality of your brain extraction by comparing the brain mask (what the program thinks is brain) to the image with the skull (did the program include non-brain tissues in the mask OR chop off part of the brain?)\n",
    "    - Never assume BET worked great, always check!!"
   ]
  },
  {
   "cell_type": "code",
   "execution_count": 23,
   "metadata": {},
   "outputs": [
    {
     "name": "stdout",
     "output_type": "stream",
     "text": [
      "fast.log\t\t      my_T1_brain_pveseg.nii.gz\r\n",
      "MNI152_T1_2mm_brain.nii.gz    my_T1_brain_restore.nii.gz\r\n",
      "my_bold.nii.gz\t\t      my_T1_brain_seg_0.nii.gz\r\n",
      "my_T1_brain_bias.nii.gz       my_T1_brain_seg_1.nii.gz\r\n",
      "my_T1_brain_mixeltype.nii.gz  my_T1_brain_seg_2.nii.gz\r\n",
      "my_T1_brain.nii.gz\t      my_T1_brain_seg.nii.gz\r\n",
      "my_T1_brain_pve_0.nii.gz      my_T1.nii.gz\r\n",
      "my_T1_brain_pve_1.nii.gz      SpatialImageProcessing.ipynb\r\n",
      "my_T1_brain_pve_2.nii.gz\r\n"
     ]
    }
   ],
   "source": [
    "# refresher, are my images here?\n",
    "!ls"
   ]
  },
  {
   "cell_type": "markdown",
   "metadata": {},
   "source": [
    "## T1 image bias correction and image segmentation\n",
    "* FSL provides a nice tool called [FAST](https://fsl.fmrib.ox.ac.uk/fsl/fslwiki/FAST) that combines bias field correction (see Handbook p56) and tissue segmentation\n",
    "* You will need to input a T1 image of the brain without skull, so brain extraction should be run before-hand"
   ]
  },
  {
   "cell_type": "code",
   "execution_count": 5,
   "metadata": {},
   "outputs": [
    {
     "name": "stdout",
     "output_type": "stream",
     "text": [
      "\r\n",
      "Part of FSL (build 509)\r\n",
      "FAST \r\n",
      "Copyright(c) 2004-2012, University of Oxford\r\n",
      "\r\n",
      "Usage: \r\n",
      "fast [options] file(s)\r\n",
      "\r\n",
      "Optional arguments (You may optionally specify one or more of):\r\n",
      "\t-n,--class\tnumber of tissue-type classes; default=3\r\n",
      "\t-I,--iter\tnumber of main-loop iterations during bias-field removal; default=4\r\n",
      "\t-l,--lowpass\tbias field smoothing extent (FWHM) in mm; default=20\r\n",
      "\t-t,--type\ttype of image 1=T1, 2=T2, 3=PD; default=T1\r\n",
      "\t-f,--fHard\tinitial segmentation spatial smoothness (during bias field estimation); default=0.02\r\n",
      "\t-g,--segments\toutputs a separate binary image for each tissue type\r\n",
      "\t-a <standard2input.mat> initialise using priors; you must supply a FLIRT transform\r\n",
      "\t-A <prior1> <prior2> <prior3>    alternative prior images\r\n",
      "\t--nopve\tturn off PVE (partial volume estimation)\r\n",
      "\t-b\t\toutput estimated bias field\r\n",
      "\t-B\t\toutput bias-corrected image\r\n",
      "\t-N,--nobias\tdo not remove bias field\r\n",
      "\t-S,--channels\tnumber of input images (channels); default 1\r\n",
      "\t-o,--out\toutput basename\r\n",
      "\t-P,--Prior\tuse priors throughout; you must also set the -a option\r\n",
      "\t-W,--init\tnumber of segmentation-initialisation iterations; default=15\r\n",
      "\t-R,--mixel\tspatial smoothness for mixeltype; default=0.3\r\n",
      "\t-O,--fixed\tnumber of main-loop iterations after bias-field removal; default=4\r\n",
      "\t-H,--Hyper\tsegmentation spatial smoothness; default=0.1\r\n",
      "\t-v,--verbose\tswitch on diagnostic messages\r\n",
      "\t-h,--help\tdisplay this message\r\n",
      "\t-s,--manualseg=<filename> Filename containing intensities\r\n",
      "\t-p\t\toutputs individual probability maps\r\n",
      "\r\n",
      "\r\n"
     ]
    }
   ],
   "source": [
    "# Look at usage\n",
    "!fast"
   ]
  },
  {
   "cell_type": "code",
   "execution_count": 7,
   "metadata": {},
   "outputs": [],
   "source": [
    "%%bash\n",
    "# example usage below\n",
    "# running this should take ~10 minutes\n",
    "fast -t 1 -n 3 -g -b -B -v -o my_T1_brain my_T1_brain.nii.gz > fast.log"
   ]
  },
  {
   "cell_type": "code",
   "execution_count": null,
   "metadata": {},
   "outputs": [],
   "source": [
    "# Write out what these options are doing\n",
    "# Verbose output can help with seeing under the hood and tracking the process"
   ]
  },
  {
   "cell_type": "code",
   "execution_count": 8,
   "metadata": {},
   "outputs": [
    {
     "name": "stdout",
     "output_type": "stream",
     "text": [
      "fast.log\t\t      my_T1_brain_pveseg.nii.gz\r\n",
      "my_bold.nii.gz\t\t      my_T1_brain_restore.nii.gz\r\n",
      "my_T1_brain_bias.nii.gz       my_T1_brain_seg_0.nii.gz\r\n",
      "my_T1_brain_mixeltype.nii.gz  my_T1_brain_seg_1.nii.gz\r\n",
      "my_T1_brain.nii.gz\t      my_T1_brain_seg_2.nii.gz\r\n",
      "my_T1_brain_pve_0.nii.gz      my_T1_brain_seg.nii.gz\r\n",
      "my_T1_brain_pve_1.nii.gz      SpatialImageProcessing.ipynb\r\n",
      "my_T1_brain_pve_2.nii.gz\r\n"
     ]
    }
   ],
   "source": [
    "# Check outputs\n",
    "!ls"
   ]
  },
  {
   "cell_type": "markdown",
   "metadata": {},
   "source": [
    "### Practice: \n",
    "* Use FSLview to open your T1 image with the \"seg\" images overlayed on top\n",
    "* What do these images represent?"
   ]
  },
  {
   "cell_type": "code",
   "execution_count": 9,
   "metadata": {},
   "outputs": [],
   "source": [
    "!fslview my_T1_brain.nii.gz my_T1_brain_seg_0.nii.gz my_T1_brain_seg_1.nii.gz my_T1_brain_seg_2.nii.gz"
   ]
  },
  {
   "cell_type": "markdown",
   "metadata": {},
   "source": [
    "* The bias corrected image ends with \"restore\" - take a look and compare values in the view and by looking at their histograms"
   ]
  },
  {
   "cell_type": "markdown",
   "metadata": {},
   "source": [
    "## Spatial registration\n",
    "* Now let's walk through how to spatially align our high-resolution T1 image and our functional bold image to the MNI-152 standard template."
   ]
  },
  {
   "cell_type": "markdown",
   "metadata": {},
   "source": [
    "### Open MNI 152 template in FSLview\n",
    "* Open standard > MNI152_T1_2mm_brain\n",
    "* Where is origin?\n",
    "* What does 2mm refer to in the file name?"
   ]
  },
  {
   "cell_type": "code",
   "execution_count": 17,
   "metadata": {},
   "outputs": [],
   "source": [
    "%%bash\n",
    "fslview"
   ]
  },
  {
   "cell_type": "code",
   "execution_count": 35,
   "metadata": {},
   "outputs": [
    {
     "name": "stdout",
     "output_type": "stream",
     "text": [
      "fast.log\t\t\t     my_T1_brain_pveseg.nii.gz\r\n",
      "MNI152_T1_2mm_brain_mask_dil.nii.gz  my_T1_brain_restore.nii.gz\r\n",
      "MNI152_T1_2mm_brain.nii.gz\t     my_T1_brain_seg_0.nii.gz\r\n",
      "MNI152_T1_2mm.nii.gz\t\t     my_T1_brain_seg_1.nii.gz\r\n",
      "my_bold.nii.gz\t\t\t     my_T1_brain_seg_2.nii.gz\r\n",
      "my_T1_brain_bias.nii.gz\t\t     my_T1_brain_seg.nii.gz\r\n",
      "my_T1_brain_mixeltype.nii.gz\t     my_T1.nii.gz\r\n",
      "my_T1_brain.nii.gz\t\t     SpatialImageProcessing.ipynb\r\n",
      "my_T1_brain_pve_0.nii.gz\t     T1_2_MNI.mat\r\n",
      "my_T1_brain_pve_1.nii.gz\t     T1_2_MNI.nii.gz\r\n",
      "my_T1_brain_pve_2.nii.gz\r\n"
     ]
    }
   ],
   "source": [
    "# Copy variants of MNI to our local directory for easy access\n",
    "!cp /usr/share/fsl/5.0/data/standard/MNI152_T1_2mm_brain.nii.gz ./MNI152_T1_2mm_brain.nii.gz\n",
    "!cp /usr/share/fsl/5.0/data/standard/MNI152_T1_2mm.nii.gz ./MNI152_T1_2mm.nii.gz\n",
    "!cp /usr/share/fsl/5.0/data/standard/MNI152_T1_2mm_brain_mask_dil.nii.gz ./MNI152_T1_2mm_brain_mask_dil.nii.gz\n",
    "!ls"
   ]
  },
  {
   "cell_type": "markdown",
   "metadata": {},
   "source": [
    "### Preliminary steps\n",
    "Before registration it is nice if:\n",
    "* Images are all in same orientation as MNI (such as RPI)\n",
    "* If you want to do non-linear registration, FSL requires you have both the skulled and brain-extracted image available\n",
    "* You may get better results if you have bias-field corrected image, but we use our base images for example"
   ]
  },
  {
   "cell_type": "markdown",
   "metadata": {},
   "source": [
    "### The core tools in FSL for registration are:\n",
    "* [FLIRT](https://fsl.fmrib.ox.ac.uk/fsl/fslwiki/FLIRT) for linear registration problems\n",
    "    - FLIRT [user guide](https://fsl.fmrib.ox.ac.uk/fsl/fslwiki/FLIRT/UserGuide#flirt) which includes examples\n",
    "    - Notice in usage that *estimation* of the transformation and *application* of the transform are separate options\n",
    "    - FLIRT can also be run with [BBR](https://fsl.fmrib.ox.ac.uk/fsl/fslwiki/FLIRT_BBR) if your functional image has good gray matter/white matter contrast. BBR best run on the command-line using the epi_reg program.\n",
    "* [FNIRT](https://fsl.fmrib.ox.ac.uk/fsl/fslwiki/FNIRT) for non-linear registration "
   ]
  },
  {
   "cell_type": "markdown",
   "metadata": {},
   "source": [
    "### Registration of our T1 to the MNI 152 template"
   ]
  },
  {
   "cell_type": "markdown",
   "metadata": {},
   "source": [
    "#### Step 1: Use FLIRT for estimation of linear transformation between T1 and MNI. Any linear transformation will be represented by a 4 x 4 affine matrix (the files that typically end in .mat)"
   ]
  },
  {
   "cell_type": "code",
   "execution_count": 25,
   "metadata": {},
   "outputs": [],
   "source": [
    "# Look at GUI form of FLIRT and noted defaults\n",
    "!fsl"
   ]
  },
  {
   "cell_type": "code",
   "execution_count": 42,
   "metadata": {},
   "outputs": [],
   "source": [
    "%%bash\n",
    "# Flirt to align T1 to MNI with an affine transformation, with defaults set on command line\n",
    "# Note the back-slashes (\\) are to tell bash to continue the command across a new line, which helps with readability\n",
    "flirt -in my_T1_brain.nii.gz -ref MNI152_T1_2mm_brain.nii.gz \\\n",
    "-out T1_2_MNI_aff.nii.gz -omat T1_2_MNI.mat \\\n",
    "-cost corratio -dof 12 -searchrx -90 90 -searchry -90 90 -interp trilinear"
   ]
  },
  {
   "cell_type": "code",
   "execution_count": 43,
   "metadata": {},
   "outputs": [
    {
     "name": "stdout",
     "output_type": "stream",
     "text": [
      "fast.log\t\t\t     my_T1_brain_seg_0.nii.gz\r\n",
      "MNI152_T1_2mm_brain_mask_dil.nii.gz  my_T1_brain_seg_1.nii.gz\r\n",
      "MNI152_T1_2mm_brain.nii.gz\t     my_T1_brain_seg_2.nii.gz\r\n",
      "MNI152_T1_2mm.nii.gz\t\t     my_T1_brain_seg.nii.gz\r\n",
      "my_bold.nii.gz\t\t\t     my_T1.nii.gz\r\n",
      "my_T1_brain_bias.nii.gz\t\t     my_T1_to_MNI152_T1_2mm.log\r\n",
      "my_T1_brain_mixeltype.nii.gz\t     SpatialImageProcessing.ipynb\r\n",
      "my_T1_brain.nii.gz\t\t     T1_2_MNI_aff.nii.gz\r\n",
      "my_T1_brain_pve_0.nii.gz\t     T1_2_MNI_jac.nii.gz\r\n",
      "my_T1_brain_pve_1.nii.gz\t     T1_2_MNI.mat\r\n",
      "my_T1_brain_pve_2.nii.gz\t     T1_2_MNI.nii.gz\r\n",
      "my_T1_brain_pveseg.nii.gz\t     T1_2_MNI_warp.nii.gz\r\n",
      "my_T1_brain_restore.nii.gz\r\n"
     ]
    }
   ],
   "source": [
    "!ls"
   ]
  },
  {
   "cell_type": "code",
   "execution_count": 39,
   "metadata": {},
   "outputs": [
    {
     "name": "stdout",
     "output_type": "stream",
     "text": [
      "1.027140828  0.01351613128  -0.05340760123  -29.44468889  \r\n",
      "0.006875459172  1.061489044  0.07578740997  -22.65620149  \r\n",
      "0.05011516494  -0.132928273  1.149060008  -54.7449717  \r\n",
      "0  0  0  1  \r\n"
     ]
    }
   ],
   "source": [
    "# We can look at the affine matrix\n",
    "!cat T1_2_MNI.mat"
   ]
  },
  {
   "cell_type": "code",
   "execution_count": 38,
   "metadata": {},
   "outputs": [
    {
     "name": "stdout",
     "output_type": "stream",
     "text": [
      "Rotation & Translation Matrix:\r\n",
      "0.998789 -0.000547 -0.049185 -29.444689 \r\n",
      "0.006686 0.992169 0.124724 -22.656201 \r\n",
      "0.048732 -0.124902 0.990972 -54.744972 \r\n",
      "0.000000 0.000000 0.000000 1.000000 \r\n",
      "\r\n",
      "Scales (x,y,z) = 1.028386 1.069772 1.150765 \r\n",
      "\r\n",
      "Skews (xy,xz,yz) = 0.013198 0.002746 -0.059349 \r\n",
      "\r\n",
      "Average scaling = 1.08297\r\n",
      "\r\n",
      "Determinant = 1.266\r\n",
      "Left-Right orientation: preserved\r\n",
      "\r\n",
      "Forward half transform =\r\n",
      "1.013786 0.005743 -0.024875 -14.939754 \r\n",
      "0.002617 1.032288 0.035307 -10.652573 \r\n",
      "0.024823 -0.064549 1.072341 -26.543653 \r\n",
      "0.000000 0.000000 0.000000 1.000000 \r\n",
      "\r\n",
      "Backward half transform =\r\n",
      "0.985833 -0.004081 0.024442 15.333411 \r\n",
      "-0.002312 0.968356 -0.033250 9.398382 \r\n",
      "-0.021511 0.055745 0.928557 24.919749 \r\n",
      "0.000000 0.000000 0.000000 1.000000 \r\n",
      "\r\n"
     ]
    }
   ],
   "source": [
    "# We can see the separate components of the transformation with avscale\n",
    "!avscale T1_2_MNI.mat"
   ]
  },
  {
   "cell_type": "code",
   "execution_count": 45,
   "metadata": {},
   "outputs": [],
   "source": [
    "# Let's compare alignment for caudate and gyri\n",
    "!fslview MNI152_T1_2mm_brain.nii.gz T1_2_MNI_aff.nii.gz"
   ]
  },
  {
   "cell_type": "markdown",
   "metadata": {},
   "source": [
    "#### Step 2: Use FNIRT to estimate a more refined non-linear \"warp field\" to align structures more locally"
   ]
  },
  {
   "cell_type": "code",
   "execution_count": 33,
   "metadata": {},
   "outputs": [
    {
     "name": "stdout",
     "output_type": "stream",
     "text": [
      "\r\n",
      "\r\n",
      "\r\n",
      "Part of FSL (build 509)\r\n",
      "fnirt\r\n",
      "\r\n",
      "Usage: \r\n",
      "fnirt --ref=<some template> --in=<some image>\r\n",
      "fnirt --ref=<some template> --in=<some image> --infwhm=8,4,2 --subsamp=4,2,1 --warpres=8,8,8\r\n",
      "\r\n",
      "Compulsory arguments (You MUST set one or more of):\r\n",
      "\t--ref\t\tname of reference image\r\n",
      "\t--in\t\tname of input image\r\n",
      "\r\n",
      "Optional arguments (You may optionally specify one or more of):\r\n",
      "\t--aff\t\tname of file containing affine transform\r\n",
      "\t--inwarp\tname of file containing initial non-linear warps\r\n",
      "\t--intin\t\tname of file/files containing initial intensity mapping\r\n",
      "\t--cout\t\tname of output file with field coefficients\r\n",
      "\t--iout\t\tname of output image\r\n",
      "\t--fout\t\tname of output file with field\r\n",
      "\t--jout\t\tname of file for writing out the Jacobian of the field (for diagnostic or VBM purposes)\r\n",
      "\t--refout\tname of file for writing out intensity modulated --ref (for diagnostic purposes)\r\n",
      "\t--intout\tname of files for writing information pertaining to intensity mapping\r\n",
      "\t--logout\tName of log-file\r\n",
      "\t--config\tName of config file specifying command line arguments\r\n",
      "\t--refmask\tname of file with mask in reference space\r\n",
      "\t--inmask\tname of file with mask in input image space\r\n",
      "\t--applyrefmask\tUse specified refmask if set, default 1 (true)\r\n",
      "\t--applyinmask\tUse specified inmask if set, default 1 (true)\r\n",
      "\t--imprefm\tIf =1, use implicit masking based on value in --ref image. Default =1\r\n",
      "\t--impinm\tIf =1, use implicit masking based on value in --in image, Default =1\r\n",
      "\t--imprefval\tValue to mask out in --ref image. Default =0.0\r\n",
      "\t--impinval\tValue to mask out in --in image. Default =0.0\r\n",
      "\t--minmet\tnon-linear minimisation method [lm | scg] (Levenberg-Marquardt or Scaled Conjugate Gradient)\r\n",
      "\t--miter\t\tMax # of non-linear iterations, default 5,5,5,5\r\n",
      "\t--subsamp\tsub-sampling scheme, default 4,2,1,1\r\n",
      "\t--warpres\t(approximate) resolution (in mm) of warp basis in x-, y- and z-direction, default 10,10,10\r\n",
      "\t--splineorder\tOrder of spline, 2->Quadratic spline, 3->Cubic spline. Default=3\r\n",
      "\t--infwhm\tFWHM (in mm) of gaussian smoothing kernel for input volume, default 6,4,2,2\r\n",
      "\t--reffwhm\tFWHM (in mm) of gaussian smoothing kernel for ref volume, default 4,2,0,0\r\n",
      "\t--regmod\tModel for regularisation of warp-field [membrane_energy bending_energy], default bending_energy\r\n",
      "\t--lambda\tWeight of regularisation, default depending on --ssqlambda and --regmod switches. See user documentation.\r\n",
      "\t--ssqlambda\tIf set (=1), lambda is weighted by current ssq, default 1\r\n",
      "\t--jacrange\tAllowed range of Jacobian determinants, default 0.01,100.0\r\n",
      "\t--refderiv\tIf =1, ref image is used to calculate derivatives. Default =0\r\n",
      "\t--intmod\tModel for intensity-mapping [none global_linear global_non_linear local_linear global_non_linear_with_bias local_non_linear]\r\n",
      "\t--intorder\tOrder of polynomial for mapping intensities, default 5\r\n",
      "\t--biasres\tResolution (in mm) of bias-field modelling local intensities, default 50,50,50\r\n",
      "\t--biaslambda\tWeight of regularisation for bias-field, default 10000\r\n",
      "\t--estint\tEstimate intensity-mapping if set, default 1 (true)\r\n",
      "\t--numprec\tPrecision for representing Hessian, double or float. Default double\r\n",
      "\t--interp\tImage interpolation model, linear or spline. Default linear\r\n",
      "\t-v,--verbose\tPrint diagnostic information while running\r\n",
      "\t-h,--help\tdisplay help info\r\n",
      "\r\n",
      "\r\n"
     ]
    }
   ],
   "source": [
    "!fnirt"
   ]
  },
  {
   "cell_type": "code",
   "execution_count": 36,
   "metadata": {},
   "outputs": [
    {
     "name": "stdout",
     "output_type": "stream",
     "text": [
      "fast.log\t\t\t     my_T1_brain_pveseg.nii.gz\r\n",
      "MNI152_T1_2mm_brain_mask_dil.nii.gz  my_T1_brain_restore.nii.gz\r\n",
      "MNI152_T1_2mm_brain.nii.gz\t     my_T1_brain_seg_0.nii.gz\r\n",
      "MNI152_T1_2mm.nii.gz\t\t     my_T1_brain_seg_1.nii.gz\r\n",
      "my_bold.nii.gz\t\t\t     my_T1_brain_seg_2.nii.gz\r\n",
      "my_T1_brain_bias.nii.gz\t\t     my_T1_brain_seg.nii.gz\r\n",
      "my_T1_brain_mixeltype.nii.gz\t     my_T1.nii.gz\r\n",
      "my_T1_brain.nii.gz\t\t     SpatialImageProcessing.ipynb\r\n",
      "my_T1_brain_pve_0.nii.gz\t     T1_2_MNI.mat\r\n",
      "my_T1_brain_pve_1.nii.gz\t     T1_2_MNI.nii.gz\r\n",
      "my_T1_brain_pve_2.nii.gz\r\n"
     ]
    }
   ],
   "source": [
    "!ls"
   ]
  },
  {
   "cell_type": "code",
   "execution_count": 37,
   "metadata": {},
   "outputs": [],
   "source": [
    "%%bash\n",
    "# FNIRT with default parameters\n",
    "fnirt --iout=T1_2_MNI_head --in=my_T1 --aff=T1_2_MNI.mat \\\n",
    "--cout=T1_2_MNI_warp --iout=T1_2_MNI --jout=T1_2_MNI_jac \\\n",
    "--config=T1_2_MNI152_2mm \\\n",
    "--ref=MNI152_T1_2mm.nii.gz --refmask=MNI152_T1_2mm_brain_mask_dil.nii.gz \\\n",
    "--warpres=10,10,10"
   ]
  },
  {
   "cell_type": "code",
   "execution_count": 46,
   "metadata": {},
   "outputs": [
    {
     "name": "stdout",
     "output_type": "stream",
     "text": [
      "fast.log\t\t\t     my_T1_brain_seg_0.nii.gz\r\n",
      "MNI152_T1_2mm_brain_mask_dil.nii.gz  my_T1_brain_seg_1.nii.gz\r\n",
      "MNI152_T1_2mm_brain.nii.gz\t     my_T1_brain_seg_2.nii.gz\r\n",
      "MNI152_T1_2mm.nii.gz\t\t     my_T1_brain_seg.nii.gz\r\n",
      "my_bold.nii.gz\t\t\t     my_T1.nii.gz\r\n",
      "my_T1_brain_bias.nii.gz\t\t     my_T1_to_MNI152_T1_2mm.log\r\n",
      "my_T1_brain_mixeltype.nii.gz\t     SpatialImageProcessing.ipynb\r\n",
      "my_T1_brain.nii.gz\t\t     T1_2_MNI_aff.nii.gz\r\n",
      "my_T1_brain_pve_0.nii.gz\t     T1_2_MNI_jac.nii.gz\r\n",
      "my_T1_brain_pve_1.nii.gz\t     T1_2_MNI.mat\r\n",
      "my_T1_brain_pve_2.nii.gz\t     T1_2_MNI.nii.gz\r\n",
      "my_T1_brain_pveseg.nii.gz\t     T1_2_MNI_warp.nii.gz\r\n",
      "my_T1_brain_restore.nii.gz\r\n"
     ]
    }
   ],
   "source": [
    "!ls"
   ]
  },
  {
   "cell_type": "code",
   "execution_count": 48,
   "metadata": {},
   "outputs": [],
   "source": [
    "# Again compare alignment for caudate and gyri\n",
    "!fslview MNI152_T1_2mm_brain.nii.gz T1_2_MNI.nii.gz"
   ]
  },
  {
   "cell_type": "markdown",
   "metadata": {},
   "source": [
    "#### Step 3: Apply these transforms together to your T1 image"
   ]
  },
  {
   "cell_type": "code",
   "execution_count": 50,
   "metadata": {},
   "outputs": [
    {
     "name": "stdout",
     "output_type": "stream",
     "text": [
      "***************************************************\r\n",
      "The following COMPULSORY options have not been set:\r\n",
      "\t-i,--in\tfilename of input image (to be warped)\r\n",
      "\t-r,--ref\tfilename for reference image\r\n",
      "\t-o,--out\tfilename for output (warped) image\r\n",
      "***************************************************\r\n",
      "\r\n",
      "Part of FSL (build 509)\r\n",
      "applywarp \r\n",
      "Copyright(c) 2001, University of Oxford (Jesper Andersson)\r\n",
      "\r\n",
      "Usage: \r\n",
      "applywarp -i invol -o outvol -r refvol -w warpvol\r\n",
      "applywarp -i invol -o outvol -r refvol -w coefvol\r\n",
      "\r\n",
      "\r\n",
      "Compulsory arguments (You MUST set one or more of):\r\n",
      "\t-i,--in\tfilename of input image (to be warped)\r\n",
      "\t-r,--ref\tfilename for reference image\r\n",
      "\t-o,--out\tfilename for output (warped) image\r\n",
      "\r\n",
      "Optional arguments (You may optionally specify one or more of):\r\n",
      "\t-w,--warp\tfilename for warp/coefficient (volume)\r\n",
      "\t--abs\t\ttreat warp field as absolute: x' = w(x)\r\n",
      "\t--rel\t\ttreat warp field as relative: x' = x + w(x)\r\n",
      "\t-d,--datatype\tForce output data type [char short int float double].\r\n",
      "\t-s,--super\tintermediary supersampling of output, default is off\r\n",
      "\t--superlevel\tlevel of intermediary supersampling, a for 'automatic' or integer level. Default = 2\r\n",
      "\t--premat\tfilename for pre-transform (affine matrix)\r\n",
      "\t--postmat\tfilename for post-transform (affine matrix)\r\n",
      "\t-m,--mask\tfilename for mask image (in reference space)\r\n",
      "\t--interp\tinterpolation method {nn,trilinear,sinc,spline}\r\n",
      "\t--paddingsize\tExtrapolates outside original volume by n voxels\r\n",
      "\t-v,--verbose\tswitch on diagnostic messages\r\n",
      "\t-h,--help\tdisplay this message\r\n",
      "\r\n",
      "\r\n"
     ]
    }
   ],
   "source": [
    "!applywarp"
   ]
  },
  {
   "cell_type": "code",
   "execution_count": 52,
   "metadata": {},
   "outputs": [],
   "source": [
    "%%bash\n",
    "applywarp -i my_T1_brain.nii.gz -r MNI152_T1_2mm_brain.nii.gz -o T1_2_MNI_nonlin.nii.gz -w T1_2_MNI_warp.nii.gz"
   ]
  },
  {
   "cell_type": "code",
   "execution_count": 55,
   "metadata": {},
   "outputs": [],
   "source": [
    "!fslview MNI152_T1_2mm_brain.nii.gz T1_2_MNI_nonlin.nii.gz"
   ]
  },
  {
   "cell_type": "code",
   "execution_count": null,
   "metadata": {},
   "outputs": [],
   "source": []
  }
 ],
 "metadata": {
  "kernelspec": {
   "display_name": "Python 3",
   "language": "python",
   "name": "python3"
  },
  "language_info": {
   "codemirror_mode": {
    "name": "ipython",
    "version": 3
   },
   "file_extension": ".py",
   "mimetype": "text/x-python",
   "name": "python",
   "nbconvert_exporter": "python",
   "pygments_lexer": "ipython3",
   "version": "3.6.3"
  }
 },
 "nbformat": 4,
 "nbformat_minor": 2
}
