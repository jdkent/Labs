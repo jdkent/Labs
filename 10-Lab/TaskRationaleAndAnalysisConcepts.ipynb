{
 "cells": [
  {
   "cell_type": "markdown",
   "metadata": {},
   "source": [
    "# Lab 10: Task rationale and Analyses Concepts\n",
    "\n",
    "The goal for today is to practice putting the steps together needed for development of a task to use in the scanner and to the plan for analyses. You will work with your group partners to discuss the following questions with each other. We'll walk around to help out with questions and facilitate progress. \n",
    "\n",
    "During the last 30 minutes, each group will take 5 minutes to describe the purpose of their task, draw a draft of the design on the board, explain their contrasts of interest, and ask any questions they're stuck on to the class. "
   ]
  },
  {
   "cell_type": "code",
   "execution_count": null,
   "metadata": {},
   "outputs": [],
   "source": []
  }
 ],
 "metadata": {
  "kernelspec": {
   "display_name": "Python 3",
   "language": "python",
   "name": "python3"
  },
  "language_info": {
   "codemirror_mode": {
    "name": "ipython",
    "version": 3
   },
   "file_extension": ".py",
   "mimetype": "text/x-python",
   "name": "python",
   "nbconvert_exporter": "python",
   "pygments_lexer": "ipython3",
   "version": "3.6.3"
  }
 },
 "nbformat": 4,
 "nbformat_minor": 2
}
