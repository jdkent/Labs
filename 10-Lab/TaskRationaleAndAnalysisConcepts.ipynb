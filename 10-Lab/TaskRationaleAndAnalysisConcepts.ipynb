{
 "cells": [
  {
   "cell_type": "markdown",
   "metadata": {},
   "source": [
    "# Lab 10: Task rationale and Analyses Concepts\n",
    "\n",
    "The goal for today is to practice putting the steps together for development of a task to use in the scanner and to the plan for analyses. You will work with your group partners to discuss the following questions with each other. We'll walk around to help out with questions and facilitate progress. \n",
    "\n",
    "Each group member should fill in their own notes and turn in their own lab. We expect them to be very similar within groups. \n",
    "\n",
    "During the last 30 minutes, each group will take 5 minutes to describe the purpose of their task, draw a draft of the design on the board, explain their contrasts of interest, and ask any questions they're stuck on to the class. "
   ]
  },
  {
   "cell_type": "markdown",
   "metadata": {},
   "source": [
    "## Task concept\n",
    "\n",
    "* What cognitive concept(s) are you interested in?  Even if you are analyzing resting state data, describe why rest is a state of interest."
   ]
  },
  {
   "cell_type": "markdown",
   "metadata": {},
   "source": [
    "* What do you hope to learn from examining the BOLD signal during task performance? "
   ]
  },
  {
   "cell_type": "markdown",
   "metadata": {},
   "source": [
    "* Do you have predictions or competing hypotheses that fMRI could help resolve?"
   ]
  },
  {
   "cell_type": "markdown",
   "metadata": {},
   "source": [
    "## Procedures"
   ]
  },
  {
   "cell_type": "markdown",
   "metadata": {},
   "source": [
    "* Do you want to do an event-related or block design and why?\n"
   ]
  },
  {
   "cell_type": "markdown",
   "metadata": {},
   "source": [
    "* Task parameters:\n",
    "    * Conditions: \n",
    "    * Number of trials per condition:\n",
    "    * Trial duration: \n",
    "    * If a block design, how many trials per block? How long will the blocks and rest periods be?"
   ]
  },
  {
   "cell_type": "markdown",
   "metadata": {},
   "source": [
    "* What software will you program the task in? Do you anticipate needing assistance with any of the task programming?\n",
    "    - options:\n",
    "        - eprime\n",
    "        - [psychopy](http://www.psychopy.org/)\n",
    "            - Install `sudo apt install openssl psychopy`\n",
    "            - [Tutorial](https://youtu.be/pOKjmW0UV6A)\n",
    "        - presentation\n",
    "    "
   ]
  },
  {
   "cell_type": "markdown",
   "metadata": {},
   "source": [
    "## Imaging acquisition\n",
    "* What TR do you want? (typical is 2 seconds)\n",
    "* How many volumes do you estimate you'll need?\n",
    "* Putting these together, how long is your task?"
   ]
  },
  {
   "cell_type": "markdown",
   "metadata": {},
   "source": [
    "## Analyses"
   ]
  },
  {
   "cell_type": "markdown",
   "metadata": {},
   "source": [
    "* What are your main contrasts of interest and why?\n",
    "* Would a region of interest (ROI) approach help you answer your question(s)? If so, what would you do and why?"
   ]
  },
  {
   "cell_type": "markdown",
   "metadata": {},
   "source": [
    "## Questions?"
   ]
  },
  {
   "cell_type": "markdown",
   "metadata": {},
   "source": [
    "* Your notes here"
   ]
  },
  {
   "cell_type": "markdown",
   "metadata": {},
   "source": [
    "## Problem sets"
   ]
  },
  {
   "cell_type": "markdown",
   "metadata": {},
   "source": [
    "Add notes for questions of above during class and complete after class if needed before you turn the lab in. This will help us get a sense of where each group is at and how we can help. You can also use the text from this lab as a first draft for several parts of your final project."
   ]
  },
  {
   "cell_type": "markdown",
   "metadata": {},
   "source": [
    "*1)* What steps do you need to take to get ready for data collection and how will you help your group?"
   ]
  },
  {
   "cell_type": "markdown",
   "metadata": {},
   "source": [
    "* Your notes here"
   ]
  },
  {
   "cell_type": "markdown",
   "metadata": {},
   "source": [
    "*2)* What could most easily ruin your data collection and how could you try to prevent this?"
   ]
  },
  {
   "cell_type": "markdown",
   "metadata": {},
   "source": [
    "* Your notes here"
   ]
  }
 ],
 "metadata": {
  "kernelspec": {
   "display_name": "Python 3",
   "language": "python",
   "name": "python3"
  },
  "language_info": {
   "codemirror_mode": {
    "name": "ipython",
    "version": 3
   },
   "file_extension": ".py",
   "mimetype": "text/x-python",
   "name": "python",
   "nbconvert_exporter": "python",
   "pygments_lexer": "ipython3",
   "version": "3.6.1"
  }
 },
 "nbformat": 4,
 "nbformat_minor": 2
}
