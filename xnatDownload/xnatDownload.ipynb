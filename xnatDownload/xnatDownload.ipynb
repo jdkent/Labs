{
 "cells": [
  {
   "cell_type": "markdown",
   "metadata": {},
   "source": [
    "# Downloading and converting your dicoms to Niftis from xnat"
   ]
  },
  {
   "cell_type": "markdown",
   "metadata": {},
   "source": [
    "1) Go to [docker](https://hub.docker.com/) and create a profile.\n",
    "\n",
    "2) Open your terminal (or a new tab) and type `sudo docker login`\n",
    "    - enter in your username and password that you created on the website\n",
    "3) You are now ready to install [xnat_downloader](https://github.com/HBClab/xnat_downloader)!"
   ]
  },
  {
   "cell_type": "code",
   "execution_count": 5,
   "metadata": {},
   "outputs": [
    {
     "name": "stdout",
     "output_type": "stream",
     "text": [
      "[sudo] password for james: \r\n"
     ]
    }
   ],
   "source": [
    "# download xnat_downloader\n",
    "sudo docker pull jdkent/xnat_downloader"
   ]
  },
  {
   "cell_type": "code",
   "execution_count": 4,
   "metadata": {},
   "outputs": [
    {
     "name": "stdout",
     "output_type": "stream",
     "text": [
      "usage: xnat_downloader [-h] [-c CONFIG] [-b BIDS] [-i INPUT_JSON]\n",
      "\n",
      "xnat_downloader downloads xnat dicoms and saves them in BIDs compatible\n",
      "directory format\n",
      "\n",
      "optional arguments:\n",
      "  -h, --help            show this help message and exit\n",
      "  -c CONFIG, --config CONFIG\n",
      "                        login file (contains user/pass info)\n",
      "  -b BIDS, --bids BIDS  Assume data are stored in a BIDS-ish format on xnat\n",
      "\n",
      "Required arguments:\n",
      "  -i INPUT_JSON, --input_json INPUT_JSON\n",
      "                        json file defining inputs for this script.\n"
     ]
    }
   ],
   "source": [
    "# test it out\n",
    "sudo docker run -it --rm jdkent/xnat_downloader --help"
   ]
  },
  {
   "cell_type": "markdown",
   "metadata": {},
   "source": [
    "## configure your json file\n",
    "\n",
    "your json file will look something like this\n",
    "```\n",
    "{\n",
    "  \"server\": \"https://rpacs.iibi.uiowa.edu/xnat\",\n",
    "  \"destination\": \"/home/brain/Documents/myBIDSTest\",\n",
    "  \"project\": \"xnatDownload\",\n",
    "}\n",
    "```\n",
    "and you can save it as download_config.json, the "
   ]
  },
  {
   "cell_type": "code",
   "execution_count": null,
   "metadata": {},
   "outputs": [],
   "source": []
  }
 ],
 "metadata": {
  "kernelspec": {
   "display_name": "Bash",
   "language": "bash",
   "name": "bash"
  },
  "language_info": {
   "codemirror_mode": "shell",
   "file_extension": ".sh",
   "mimetype": "text/x-sh",
   "name": "bash"
  }
 },
 "nbformat": 4,
 "nbformat_minor": 2
}
