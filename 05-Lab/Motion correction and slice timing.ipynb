{
 "cells": [
  {
   "cell_type": "markdown",
   "metadata": {},
   "source": [
    "# Lab 05: Motion correction and slice timing\n",
    "\n",
    "The purpose of this lab is to practice correcting for volume-to-volume motion in a functional image series, and to learn about common correction parameters and how to describe them with numbers and figures. We will also practice slice-timing correction, and test its effect on the timeseries data. "
   ]
  },
  {
   "cell_type": "markdown",
   "metadata": {},
   "source": [
    "## Preparation\n",
    "* Import python tools for plotting\n",
    "* Copy functional image from lab 01 into our working directory"
   ]
  },
  {
   "cell_type": "code",
   "execution_count": 5,
   "metadata": {},
   "outputs": [],
   "source": [
    "%matplotlib inline\n",
    "import matplotlib.pyplot as plt\n",
    "import pandas as pd\n",
    "from nilearn import plotting\n",
    "from nilearn import image"
   ]
  },
  {
   "cell_type": "code",
   "execution_count": 3,
   "metadata": {},
   "outputs": [],
   "source": [
    "%%bash\n",
    "\n",
    "cp ../01-Lab/osfshare/sub-97_task-flanker_bold.nii.gz my_bold.nii.gz"
   ]
  },
  {
   "cell_type": "markdown",
   "metadata": {},
   "source": [
    "## Describing and detecting motion with FSL tools\n",
    "\n",
    "FSL offers a tool to detect motion outliers and to visually inspect motion and related changes in BOLD signal intensity\n",
    "* [FSL Motion Outliers](https://fsl.fmrib.ox.ac.uk/fsl/fslwiki/FSLMotionOutliers)\n",
    "* This will create a dummy variable that codes for volumes possibly corrupted by motion, which can be used to ignore those volumes in our functional image analysis later. "
   ]
  },
  {
   "cell_type": "code",
   "execution_count": 4,
   "metadata": {},
   "outputs": [],
   "source": [
    "%%bash\n",
    "\n",
    "# Running the bare bones command like below will output only the confound matrix \n",
    "# The default metric for detecting outliers is refrms (root mean square intensity diffs with referece vol, which is middle volume)\n",
    "fsl_motion_outliers -i my_bold.nii.gz -o my_bold_motion "
   ]
  },
  {
   "cell_type": "code",
   "execution_count": 1,
   "metadata": {},
   "outputs": [
    {
     "name": "stdout",
     "output_type": "stream",
     "text": [
      "0   0   0   0   0   0   0   0   0   0   0   0  \n",
      "1   0   0   0   0   0   0   0   0   0   0   0  \n",
      "0   0   0   0   0   0   0   0   0   0   0   0  \n",
      "0   0   0   0   0   0   0   0   0   0   0   0  \n",
      "0   0   0   0   0   0   0   0   0   0   0   0  \n",
      "0   0   0   0   0   0   0   0   0   0   0   0  \n",
      "0   0   0   0   0   0   0   0   0   0   0   0  \n",
      "0   0   0   0   0   0   0   0   0   0   0   0  \n",
      "0   0   0   0   0   0   0   0   0   0   0   0  \n",
      "0   0   0   0   0   0   0   0   0   0   0   0  \n",
      "0   0   0   0   0   0   0   0   0   0   0   0  \n",
      "0   0   0   0   0   0   0   0   0   0   0   0  \n",
      "0   0   0   0   0   0   0   0   0   0   0   0  \n",
      "0   0   0   0   0   0   0   0   0   0   0   0  \n",
      "0   0   0   0   0   0   0   0   0   0   0   0  \n",
      "0   0   0   0   0   0   0   0   0   0   0   0  \n",
      "0   0   0   0   0   0   0   0   0   0   0   0  \n",
      "0   0   0   0   0   0   0   0   0   0   0   0  \n",
      "0   0   0   0   0   0   0   0   0   0   0   0  \n",
      "0   0   0   0   0   0   0   0   0   0   0   0  \n",
      "0   0   0   0   0   0   0   0   0   0   0   0  \n",
      "0   0   0   0   0   0   0   0   0   0   0   0  \n",
      "0   0   0   0   0   0   0   0   0   0   0   0  \n",
      "0   0   0   0   0   0   0   0   0   0   0   0  \n",
      "0   0   0   0   0   0   0   0   0   0   0   0  \n",
      "0   0   0   0   0   0   0   0   0   0   0   0  \n",
      "0   0   0   0   0   0   0   0   0   0   0   0  \n",
      "0   0   0   0   0   0   0   0   0   0   0   0  \n",
      "0   0   0   0   0   0   0   0   0   0   0   0  \n",
      "0   0   0   0   0   0   0   0   0   0   0   0  \n",
      "0   0   0   0   0   0   0   0   0   0   0   0  \n",
      "0   0   0   0   0   0   0   0   0   0   0   0  \n",
      "0   0   0   0   0   0   0   0   0   0   0   0  \n",
      "0   0   0   0   0   0   0   0   0   0   0   0  \n",
      "0   0   0   0   0   0   0   0   0   0   0   0  \n",
      "0   0   0   0   0   0   0   0   0   0   0   0  \n",
      "0   0   0   0   0   0   0   0   0   0   0   0  \n",
      "0   0   0   0   0   0   0   0   0   0   0   0  \n",
      "0   0   0   0   0   0   0   0   0   0   0   0  \n",
      "0   0   0   0   0   0   0   0   0   0   0   0  \n",
      "0   0   0   0   0   0   0   0   0   0   0   0  \n",
      "0   0   0   0   0   0   0   0   0   0   0   0  \n",
      "0   0   0   0   0   0   0   0   0   0   0   0  \n",
      "0   0   0   0   0   0   0   0   0   0   0   0  \n",
      "0   0   0   0   0   0   0   0   0   0   0   0  \n",
      "0   0   0   0   0   0   0   0   0   0   0   0  \n",
      "0   0   0   0   0   0   0   0   0   0   0   0  \n",
      "0   0   0   0   0   0   0   0   0   0   0   0  \n",
      "0   0   0   0   0   0   0   0   0   0   0   0  \n",
      "0   0   0   0   0   0   0   0   0   0   0   0  \n",
      "0   0   0   0   0   0   0   0   0   0   0   0  \n",
      "0   0   0   0   0   0   0   0   0   0   0   0  \n",
      "0   0   0   0   0   0   0   0   0   0   0   0  \n",
      "0   0   0   0   0   0   0   0   0   0   0   0  \n",
      "0   0   0   0   0   0   0   0   0   0   0   0  \n",
      "0   0   0   0   0   0   0   0   0   0   0   0  \n",
      "0   0   0   0   0   0   0   0   0   0   0   0  \n",
      "0   0   0   0   0   0   0   0   0   0   0   0  \n",
      "0   0   0   0   0   0   0   0   0   0   0   0  \n",
      "0   0   0   0   0   0   0   0   0   0   0   0  \n",
      "0   0   0   0   0   0   0   0   0   0   0   0  \n",
      "0   0   0   0   0   0   0   0   0   0   0   0  \n",
      "0   0   0   0   0   0   0   0   0   0   0   0  \n",
      "0   0   0   0   0   0   0   0   0   0   0   0  \n",
      "0   0   0   0   0   0   0   0   0   0   0   0  \n",
      "0   0   0   0   0   0   0   0   0   0   0   0  \n",
      "0   0   0   0   0   0   0   0   0   0   0   0  \n",
      "0   0   0   0   0   0   0   0   0   0   0   0  \n",
      "0   0   0   0   0   0   0   0   0   0   0   0  \n",
      "0   0   0   0   0   0   0   0   0   0   0   0  \n",
      "0   0   0   0   0   0   0   0   0   0   0   0  \n",
      "0   0   0   0   0   0   0   0   0   0   0   0  \n",
      "0   0   0   0   0   0   0   0   0   0   0   0  \n",
      "0   0   0   0   0   0   0   0   0   0   0   0  \n",
      "0   0   0   0   0   0   0   0   0   0   0   0  \n",
      "0   0   0   0   0   0   0   0   0   0   0   0  \n",
      "0   0   0   0   0   0   0   0   0   0   0   0  \n",
      "0   0   0   0   0   0   0   0   0   0   0   0  \n",
      "0   0   0   0   0   0   0   0   0   0   0   0  \n",
      "0   0   0   0   0   0   0   0   0   0   0   0  \n",
      "0   0   0   0   0   0   0   0   0   0   0   0  \n",
      "0   0   0   0   0   0   0   0   0   0   0   0  \n",
      "0   0   0   0   0   0   0   0   0   0   0   0  \n",
      "0   0   0   0   0   0   0   0   0   0   0   0  \n",
      "0   0   0   0   0   0   0   0   0   0   0   0  \n",
      "0   0   0   0   0   0   0   0   0   0   0   0  \n",
      "0   0   0   0   0   0   0   0   0   0   0   0  \n",
      "0   0   0   0   0   0   0   0   0   0   0   0  \n",
      "0   0   0   0   0   0   0   0   0   0   0   0  \n",
      "0   0   0   0   0   0   0   0   0   0   0   0  \n",
      "0   0   0   0   0   0   0   0   0   0   0   0  \n",
      "0   0   0   0   0   0   0   0   0   0   0   0  \n",
      "0   0   0   0   0   0   0   0   0   0   0   0  \n",
      "0   0   0   0   0   0   0   0   0   0   0   0  \n",
      "0   0   0   0   0   0   0   0   0   0   0   0  \n",
      "0   0   0   0   0   0   0   0   0   0   0   0  \n",
      "0   0   0   0   0   0   0   0   0   0   0   0  \n",
      "0   0   0   0   0   0   0   0   0   0   0   0  \n",
      "0   0   0   0   0   0   0   0   0   0   0   0  \n",
      "0   0   0   0   0   0   0   0   0   0   0   0  \n",
      "0   0   0   0   0   0   0   0   0   0   0   0  \n",
      "0   0   0   0   0   0   0   0   0   0   0   0  \n",
      "0   0   0   0   0   0   0   0   0   0   0   0  \n",
      "0   0   0   0   0   0   0   0   0   0   0   0  \n",
      "0   0   0   0   0   0   0   0   0   0   0   0  \n",
      "0   0   0   0   0   0   0   0   0   0   0   0  \n",
      "0   0   0   0   0   0   0   0   0   0   0   0  \n",
      "0   0   0   0   0   0   0   0   0   0   0   0  \n",
      "0   0   0   0   0   0   0   0   0   0   0   0  \n",
      "0   0   0   0   0   0   0   0   0   0   0   0  \n",
      "0   0   0   0   0   0   0   0   0   0   0   0  \n",
      "0   0   0   0   0   0   0   0   0   0   0   0  \n",
      "0   0   0   0   0   0   0   0   0   0   0   0  \n",
      "0   0   0   0   0   0   0   0   0   0   0   0  \n",
      "0   0   0   0   0   0   0   0   0   0   0   0  \n",
      "0   0   0   0   0   0   0   0   0   0   0   0  \n",
      "0   0   0   0   0   0   0   0   0   0   0   0  \n",
      "0   0   0   0   0   0   0   0   0   0   0   0  \n",
      "0   0   0   0   0   0   0   0   0   0   0   0  \n",
      "0   0   0   0   0   0   0   0   0   0   0   0  \n",
      "0   0   0   0   0   0   0   0   0   0   0   0  \n",
      "0   0   0   0   0   0   0   0   0   0   0   0  \n",
      "0   0   0   0   0   0   0   0   0   0   0   0  \n",
      "0   0   0   0   0   0   0   0   0   0   0   0  \n",
      "0   1   0   0   0   0   0   0   0   0   0   0  \n",
      "0   0   1   0   0   0   0   0   0   0   0   0  \n",
      "0   0   0   0   0   0   0   0   0   0   0   0  \n",
      "0   0   0   0   0   0   0   0   0   0   0   0  \n",
      "0   0   0   1   0   0   0   0   0   0   0   0  \n",
      "0   0   0   0   1   0   0   0   0   0   0   0  \n",
      "0   0   0   0   0   0   0   0   0   0   0   0  \n",
      "0   0   0   0   0   0   0   0   0   0   0   0  \n",
      "0   0   0   0   0   0   0   0   0   0   0   0  \n",
      "0   0   0   0   0   0   0   0   0   0   0   0  \n",
      "0   0   0   0   0   0   0   0   0   0   0   0  \n",
      "0   0   0   0   0   0   0   0   0   0   0   0  \n",
      "0   0   0   0   0   0   0   0   0   0   0   0  \n",
      "0   0   0   0   0   0   0   0   0   0   0   0  \n",
      "0   0   0   0   0   0   0   0   0   0   0   0  \n",
      "0   0   0   0   0   0   0   0   0   0   0   0  \n",
      "0   0   0   0   0   0   0   0   0   0   0   0  \n",
      "0   0   0   0   0   0   0   0   0   0   0   0  \n",
      "0   0   0   0   0   1   0   0   0   0   0   0  \n",
      "0   0   0   0   0   0   0   0   0   0   0   0  \n",
      "0   0   0   0   0   0   0   0   0   0   0   0  \n",
      "0   0   0   0   0   0   0   0   0   0   0   0  \n",
      "0   0   0   0   0   0   0   0   0   0   0   0  \n",
      "0   0   0   0   0   0   0   0   0   0   0   0  \n",
      "0   0   0   0   0   0   0   0   0   0   0   0  \n",
      "0   0   0   0   0   0   0   0   0   0   0   0  \n",
      "0   0   0   0   0   0   0   0   0   0   0   0  \n",
      "0   0   0   0   0   0   0   0   0   0   0   0  \n",
      "0   0   0   0   0   0   0   0   0   0   0   0  \n",
      "0   0   0   0   0   0   0   0   0   0   0   0  \n",
      "0   0   0   0   0   0   0   0   0   0   0   0  \n",
      "0   0   0   0   0   0   0   0   0   0   0   0  \n",
      "0   0   0   0   0   0   0   0   0   0   0   0  \n",
      "0   0   0   0   0   0   1   0   0   0   0   0  \n",
      "0   0   0   0   0   0   0   1   0   0   0   0  \n",
      "0   0   0   0   0   0   0   0   0   0   0   0  \n",
      "0   0   0   0   0   0   0   0   0   0   0   0  \n",
      "0   0   0   0   0   0   0   0   0   0   0   0  \n",
      "0   0   0   0   0   0   0   0   0   0   0   0  \n",
      "0   0   0   0   0   0   0   0   0   0   0   0  \n",
      "0   0   0   0   0   0   0   0   0   0   0   0  \n",
      "0   0   0   0   0   0   0   0   0   0   0   0  \n",
      "0   0   0   0   0   0   0   0   0   0   0   0  \n",
      "0   0   0   0   0   0   0   0   0   0   0   0  \n",
      "0   0   0   0   0   0   0   0   0   0   0   0  \n",
      "0   0   0   0   0   0   0   0   0   0   0   0  \n",
      "0   0   0   0   0   0   0   0   0   0   0   0  \n",
      "0   0   0   0   0   0   0   0   0   0   0   0  \n",
      "0   0   0   0   0   0   0   0   0   0   0   0  \n",
      "0   0   0   0   0   0   0   0   0   0   0   0  \n",
      "0   0   0   0   0   0   0   0   0   0   0   0  \n",
      "0   0   0   0   0   0   0   0   0   0   0   0  \n",
      "0   0   0   0   0   0   0   0   0   0   0   0  \n",
      "0   0   0   0   0   0   0   0   0   0   0   0  \n",
      "0   0   0   0   0   0   0   0   0   0   0   0  \n",
      "0   0   0   0   0   0   0   0   0   0   0   0  \n",
      "0   0   0   0   0   0   0   0   0   0   0   0  \n",
      "0   0   0   0   0   0   0   0   0   0   0   0  \n",
      "0   0   0   0   0   0   0   0   0   0   0   0  \n",
      "0   0   0   0   0   0   0   0   0   0   0   0  \n",
      "0   0   0   0   0   0   0   0   0   0   0   0  \n",
      "0   0   0   0   0   0   0   0   0   0   0   0  \n",
      "0   0   0   0   0   0   0   0   0   0   0   0  \n",
      "0   0   0   0   0   0   0   0   0   0   0   0  \n",
      "0   0   0   0   0   0   0   0   0   0   0   0  \n",
      "0   0   0   0   0   0   0   0   0   0   0   0  \n",
      "0   0   0   0   0   0   0   0   0   0   0   0  \n",
      "0   0   0   0   0   0   0   0   0   0   0   0  \n",
      "0   0   0   0   0   0   0   0   0   0   0   0  \n",
      "0   0   0   0   0   0   0   0   0   0   0   0  \n",
      "0   0   0   0   0   0   0   0   0   0   0   0  \n",
      "0   0   0   0   0   0   0   0   0   0   0   0  \n",
      "0   0   0   0   0   0   0   0   0   0   0   0  \n",
      "0   0   0   0   0   0   0   0   0   0   0   0  \n",
      "0   0   0   0   0   0   0   0   0   0   0   0  \n",
      "0   0   0   0   0   0   0   0   0   0   0   0  \n",
      "0   0   0   0   0   0   0   0   0   0   0   0  \n",
      "0   0   0   0   0   0   0   0   0   0   0   0  \n",
      "0   0   0   0   0   0   0   0   0   0   0   0  \n",
      "0   0   0   0   0   0   0   0   0   0   0   0  \n",
      "0   0   0   0   0   0   0   0   0   0   0   0  \n",
      "0   0   0   0   0   0   0   0   0   0   0   0  \n",
      "0   0   0   0   0   0   0   0   0   0   0   0  \n",
      "0   0   0   0   0   0   0   0   0   0   0   0  \n",
      "0   0   0   0   0   0   0   0   0   0   0   0  \n",
      "0   0   0   0   0   0   0   0   0   0   0   0  \n",
      "0   0   0   0   0   0   0   0   0   0   0   0  \n",
      "0   0   0   0   0   0   0   0   0   0   0   0  \n",
      "0   0   0   0   0   0   0   0   0   0   0   0  \n",
      "0   0   0   0   0   0   0   0   0   0   0   0  \n",
      "0   0   0   0   0   0   0   0   0   0   0   0  \n",
      "0   0   0   0   0   0   0   0   0   0   0   0  \n",
      "0   0   0   0   0   0   0   0   0   0   0   0  \n",
      "0   0   0   0   0   0   0   0   0   0   0   0  \n",
      "0   0   0   0   0   0   0   0   0   0   0   0  \n",
      "0   0   0   0   0   0   0   0   0   0   0   0  \n",
      "0   0   0   0   0   0   0   0   0   0   0   0  \n",
      "0   0   0   0   0   0   0   0   0   0   0   0  \n",
      "0   0   0   0   0   0   0   0   0   0   0   0  \n",
      "0   0   0   0   0   0   0   0   0   0   0   0  \n",
      "0   0   0   0   0   0   0   0   0   0   0   0  \n",
      "0   0   0   0   0   0   0   0   0   0   0   0  \n",
      "0   0   0   0   0   0   0   0   0   0   0   0  \n",
      "0   0   0   0   0   0   0   0   0   0   0   0  \n",
      "0   0   0   0   0   0   0   0   0   0   0   0  \n",
      "0   0   0   0   0   0   0   0   0   0   0   0  \n",
      "0   0   0   0   0   0   0   0   0   0   0   0  \n",
      "0   0   0   0   0   0   0   0   0   0   0   0  \n",
      "0   0   0   0   0   0   0   0   0   0   0   0  \n",
      "0   0   0   0   0   0   0   0   0   0   0   0  \n",
      "0   0   0   0   0   0   0   0   0   0   0   0  \n",
      "0   0   0   0   0   0   0   0   0   0   0   0  \n",
      "0   0   0   0   0   0   0   0   0   0   0   0  \n",
      "0   0   0   0   0   0   0   0   0   0   0   0  \n",
      "0   0   0   0   0   0   0   0   0   0   0   0  \n",
      "0   0   0   0   0   0   0   0   0   0   0   0  \n",
      "0   0   0   0   0   0   0   0   0   0   0   0  \n",
      "0   0   0   0   0   0   0   0   0   0   0   0  \n",
      "0   0   0   0   0   0   0   0   0   0   0   0  \n",
      "0   0   0   0   0   0   0   0   0   0   0   0  \n",
      "0   0   0   0   0   0   0   0   0   0   0   0  \n",
      "0   0   0   0   0   0   0   0   0   0   0   0  \n",
      "0   0   0   0   0   0   0   0   0   0   0   0  \n",
      "0   0   0   0   0   0   0   0   0   0   0   0  \n",
      "0   0   0   0   0   0   0   0   0   0   0   0  \n",
      "0   0   0   0   0   0   0   0   0   0   0   0  \n",
      "0   0   0   0   0   0   0   0   0   0   0   0  \n",
      "0   0   0   0   0   0   0   0   0   0   0   0  \n",
      "0   0   0   0   0   0   0   0   0   0   0   0  \n",
      "0   0   0   0   0   0   0   0   0   0   0   0  \n",
      "0   0   0   0   0   0   0   0   0   0   0   0  \n",
      "0   0   0   0   0   0   0   0   0   0   0   0  \n",
      "0   0   0   0   0   0   0   0   0   0   0   0  \n",
      "0   0   0   0   0   0   0   0   0   0   0   0  \n",
      "0   0   0   0   0   0   0   0   0   0   0   0  \n",
      "0   0   0   0   0   0   0   0   0   0   0   0  \n",
      "0   0   0   0   0   0   0   0   0   0   0   0  \n",
      "0   0   0   0   0   0   0   0   0   0   0   0  \n",
      "0   0   0   0   0   0   0   0   0   0   0   0  \n",
      "0   0   0   0   0   0   0   0   0   0   0   0  \n",
      "0   0   0   0   0   0   0   0   0   0   0   0  \n",
      "0   0   0   0   0   0   0   0   0   0   0   0  \n",
      "0   0   0   0   0   0   0   0   0   0   0   0  \n",
      "0   0   0   0   0   0   0   0   0   0   0   0  \n",
      "0   0   0   0   0   0   0   0   0   0   0   0  \n",
      "0   0   0   0   0   0   0   0   0   0   0   0  \n",
      "0   0   0   0   0   0   0   0   0   0   0   0  \n",
      "0   0   0   0   0   0   0   0   0   0   0   0  \n",
      "0   0   0   0   0   0   0   0   0   0   0   0  \n",
      "0   0   0   0   0   0   0   0   0   0   0   0  \n",
      "0   0   0   0   0   0   0   0   0   0   0   0  \n",
      "0   0   0   0   0   0   0   0   0   0   0   0  \n",
      "0   0   0   0   0   0   0   0   0   0   0   0  \n",
      "0   0   0   0   0   0   0   0   0   0   0   0  \n",
      "0   0   0   0   0   0   0   0   0   0   0   0  \n",
      "0   0   0   0   0   0   0   0   0   0   0   0  \n",
      "0   0   0   0   0   0   0   0   0   0   0   0  \n",
      "0   0   0   0   0   0   0   0   0   0   0   0  \n",
      "0   0   0   0   0   0   0   0   0   0   0   0  \n",
      "0   0   0   0   0   0   0   0   0   0   0   0  \n",
      "0   0   0   0   0   0   0   0   0   0   0   0  \n",
      "0   0   0   0   0   0   0   0   0   0   0   0  \n",
      "0   0   0   0   0   0   0   0   0   0   0   0  \n",
      "0   0   0   0   0   0   0   0   0   0   0   0  \n",
      "0   0   0   0   0   0   0   0   0   0   0   0  \n",
      "0   0   0   0   0   0   0   0   0   0   0   0  \n",
      "0   0   0   0   0   0   0   0   0   0   0   0  \n",
      "0   0   0   0   0   0   0   0   0   0   0   0  \n",
      "0   0   0   0   0   0   0   0   0   0   0   0  \n",
      "0   0   0   0   0   0   0   0   0   0   0   0  \n",
      "0   0   0   0   0   0   0   0   0   0   0   0  \n",
      "0   0   0   0   0   0   0   0   0   0   0   0  \n",
      "0   0   0   0   0   0   0   0   0   0   0   0  \n",
      "0   0   0   0   0   0   0   0   0   0   0   0  \n",
      "0   0   0   0   0   0   0   0   0   0   0   0  \n",
      "0   0   0   0   0   0   0   0   0   0   0   0  \n",
      "0   0   0   0   0   0   0   0   0   0   0   0  \n",
      "0   0   0   0   0   0   0   0   0   0   0   0  \n",
      "0   0   0   0   0   0   0   0   0   0   0   0  \n",
      "0   0   0   0   0   0   0   0   0   0   0   0  \n",
      "0   0   0   0   0   0   0   0   1   0   0   0  \n",
      "0   0   0   0   0   0   0   0   0   1   0   0  \n",
      "0   0   0   0   0   0   0   0   0   0   1   0  \n",
      "0   0   0   0   0   0   0   0   0   0   0   1  \n",
      "0   0   0   0   0   0   0   0   0   0   0   0  \n",
      "0   0   0   0   0   0   0   0   0   0   0   0  \n",
      "0   0   0   0   0   0   0   0   0   0   0   0  \n",
      "0   0   0   0   0   0   0   0   0   0   0   0  \n",
      "0   0   0   0   0   0   0   0   0   0   0   0  \n",
      "0   0   0   0   0   0   0   0   0   0   0   0  \n",
      "0   0   0   0   0   0   0   0   0   0   0   0  \n"
     ]
    }
   ],
   "source": [
    "%%bash\n",
    "\n",
    "# What do the columns represent?\n",
    "cat my_bold_motion"
   ]
  },
  {
   "cell_type": "code",
   "execution_count": 14,
   "metadata": {},
   "outputs": [],
   "source": [
    "%%bash\n",
    "\n",
    "# We can produce figures of the motion by adding the -p flag\n",
    "# What is refrms?\n",
    "fsl_motion_outliers -i my_bold.nii.gz -o my_bold_motion -s refrms_ts -p refrms_plot"
   ]
  },
  {
   "cell_type": "markdown",
   "metadata": {},
   "source": [
    "![refrms](refrms_plot.png)"
   ]
  },
  {
   "cell_type": "code",
   "execution_count": 9,
   "metadata": {},
   "outputs": [],
   "source": [
    "%%bash\n",
    "\n",
    "# This version of the command will use dvars as the metric for detecting outliers\n",
    "# DVARS: temporal Derivatives, VARS refers to root mean square of variance of global signal timecourse\n",
    "fsl_motion_outliers -i my_bold.nii.gz -o my_bold_motion --dvars -s dvars_ts -p dvars_plot"
   ]
  },
  {
   "cell_type": "markdown",
   "metadata": {},
   "source": [
    "![dvars](dvars_plot.png)"
   ]
  },
  {
   "cell_type": "code",
   "execution_count": 13,
   "metadata": {},
   "outputs": [],
   "source": [
    "%%bash\n",
    "\n",
    "# This version of the command will use fd as the metric for detecting outliers\n",
    "# FD stands for: \n",
    "fsl_motion_outliers -i my_bold.nii.gz -o my_bold_motion --fd -s fd_ts -p fd_plot"
   ]
  },
  {
   "cell_type": "markdown",
   "metadata": {},
   "source": [
    "![fd](fd_plot.png)"
   ]
  },
  {
   "cell_type": "markdown",
   "metadata": {},
   "source": [
    "### Questions:\n",
    "* What are the similarities and differences of the refrms and dvars metrics?\n",
    "    * Similarities:\n",
    "    * Differences: \n",
    "* How does FD differ from both refrms and dvars?\n",
    "    * Which metric is \"closest to the data\" with respect to describing the effects of motion?"
   ]
  },
  {
   "cell_type": "markdown",
   "metadata": {},
   "source": [
    "### Descriptive statistics on motion metrics"
   ]
  },
  {
   "cell_type": "code",
   "execution_count": 12,
   "metadata": {},
   "outputs": [],
   "source": [
    "dvars=pd.read_table('dvars_ts',header=None)"
   ]
  },
  {
   "cell_type": "code",
   "execution_count": 13,
   "metadata": {},
   "outputs": [
    {
     "data": {
      "text/html": [
       "<div>\n",
       "<style scoped>\n",
       "    .dataframe tbody tr th:only-of-type {\n",
       "        vertical-align: middle;\n",
       "    }\n",
       "\n",
       "    .dataframe tbody tr th {\n",
       "        vertical-align: top;\n",
       "    }\n",
       "\n",
       "    .dataframe thead th {\n",
       "        text-align: right;\n",
       "    }\n",
       "</style>\n",
       "<table border=\"1\" class=\"dataframe\">\n",
       "  <thead>\n",
       "    <tr style=\"text-align: right;\">\n",
       "      <th></th>\n",
       "      <th>0</th>\n",
       "    </tr>\n",
       "  </thead>\n",
       "  <tbody>\n",
       "    <tr>\n",
       "      <th>0</th>\n",
       "      <td>0.0000</td>\n",
       "    </tr>\n",
       "    <tr>\n",
       "      <th>1</th>\n",
       "      <td>38.0018</td>\n",
       "    </tr>\n",
       "    <tr>\n",
       "      <th>2</th>\n",
       "      <td>23.1617</td>\n",
       "    </tr>\n",
       "    <tr>\n",
       "      <th>3</th>\n",
       "      <td>23.4676</td>\n",
       "    </tr>\n",
       "    <tr>\n",
       "      <th>4</th>\n",
       "      <td>19.2310</td>\n",
       "    </tr>\n",
       "  </tbody>\n",
       "</table>\n",
       "</div>"
      ],
      "text/plain": [
       "         0\n",
       "0   0.0000\n",
       "1  38.0018\n",
       "2  23.1617\n",
       "3  23.4676\n",
       "4  19.2310"
      ]
     },
     "execution_count": 13,
     "metadata": {},
     "output_type": "execute_result"
    }
   ],
   "source": [
    "# Preview first 5 values in timeseries\n",
    "dvars.head()"
   ]
  },
  {
   "cell_type": "code",
   "execution_count": 14,
   "metadata": {},
   "outputs": [
    {
     "data": {
      "text/html": [
       "<div>\n",
       "<style scoped>\n",
       "    .dataframe tbody tr th:only-of-type {\n",
       "        vertical-align: middle;\n",
       "    }\n",
       "\n",
       "    .dataframe tbody tr th {\n",
       "        vertical-align: top;\n",
       "    }\n",
       "\n",
       "    .dataframe thead th {\n",
       "        text-align: right;\n",
       "    }\n",
       "</style>\n",
       "<table border=\"1\" class=\"dataframe\">\n",
       "  <thead>\n",
       "    <tr style=\"text-align: right;\">\n",
       "      <th></th>\n",
       "      <th>0</th>\n",
       "    </tr>\n",
       "  </thead>\n",
       "  <tbody>\n",
       "    <tr>\n",
       "      <th>count</th>\n",
       "      <td>315.000000</td>\n",
       "    </tr>\n",
       "    <tr>\n",
       "      <th>mean</th>\n",
       "      <td>22.405915</td>\n",
       "    </tr>\n",
       "    <tr>\n",
       "      <th>std</th>\n",
       "      <td>5.424755</td>\n",
       "    </tr>\n",
       "    <tr>\n",
       "      <th>min</th>\n",
       "      <td>0.000000</td>\n",
       "    </tr>\n",
       "    <tr>\n",
       "      <th>25%</th>\n",
       "      <td>20.086100</td>\n",
       "    </tr>\n",
       "    <tr>\n",
       "      <th>50%</th>\n",
       "      <td>21.482400</td>\n",
       "    </tr>\n",
       "    <tr>\n",
       "      <th>75%</th>\n",
       "      <td>22.951800</td>\n",
       "    </tr>\n",
       "    <tr>\n",
       "      <th>max</th>\n",
       "      <td>66.238100</td>\n",
       "    </tr>\n",
       "  </tbody>\n",
       "</table>\n",
       "</div>"
      ],
      "text/plain": [
       "                0\n",
       "count  315.000000\n",
       "mean    22.405915\n",
       "std      5.424755\n",
       "min      0.000000\n",
       "25%     20.086100\n",
       "50%     21.482400\n",
       "75%     22.951800\n",
       "max     66.238100"
      ]
     },
     "execution_count": 14,
     "metadata": {},
     "output_type": "execute_result"
    }
   ],
   "source": [
    "# Descriptives\n",
    "dvars.describe()"
   ]
  },
  {
   "cell_type": "code",
   "execution_count": 15,
   "metadata": {},
   "outputs": [
    {
     "data": {
      "text/plain": [
       "0    22.405915\n",
       "dtype: float64"
      ]
     },
     "execution_count": 15,
     "metadata": {},
     "output_type": "execute_result"
    }
   ],
   "source": [
    "dvars.mean()"
   ]
  },
  {
   "cell_type": "markdown",
   "metadata": {},
   "source": [
    "### Practice: what is the mean fd ?"
   ]
  },
  {
   "cell_type": "code",
   "execution_count": 9,
   "metadata": {},
   "outputs": [],
   "source": [
    "# Python code\n"
   ]
  },
  {
   "cell_type": "markdown",
   "metadata": {},
   "source": [
    "## Motion correction tools in FSL\n",
    "\n",
    "mcflirt is the basic motion correction tool provided by FSL\n",
    "* [User guide](https://fsl.fmrib.ox.ac.uk/fsl/fslwiki/MCFLIRT)"
   ]
  },
  {
   "cell_type": "code",
   "execution_count": 46,
   "metadata": {},
   "outputs": [
    {
     "name": "stdout",
     "output_type": "stream",
     "text": [
      "Usage: mcflirt -in <infile> [options]\n",
      "\n",
      "  Available options are:\n",
      "        -out, -o <outfile>               (default is infile_mcf)\n",
      "        -cost {mutualinfo,woods,corratio,normcorr,normmi,leastsquares}        (default is normcorr)\n",
      "        -bins <number of histogram bins>   (default is 256)\n",
      "        -dof  <number of transform dofs>   (default is 6)\n",
      "        -refvol <number of reference volume> (default is no_vols/2)- registers to (n+1)th volume in series\n",
      "        -reffile, -r <filename>            use a separate 3d image file as the target for registration (overrides refvol option)\n",
      "        -scaling <num>                             (6.0 is default)\n",
      "        -smooth <num>                      (1.0 is default - controls smoothing in cost function)\n",
      "        -rotation <num>                    specify scaling factor for rotation optimization tolerances\n",
      "        -verbose <num>                     (0 is least and default)\n",
      "        -stages <number of search levels>  (default is 3 - specify 4 for final sinc interpolation)\n",
      "        -fov <num>                         (default is 20mm - specify size of field of view when padding 2d volume)\n",
      "        -2d                                Force padding of volume\n",
      "        -sinc_final                        (applies final transformations using sinc interpolation)\n",
      "        -spline_final                      (applies final transformations using spline interpolation)\n",
      "        -nn_final                          (applies final transformations using Nearest Neighbour interpolation)\n",
      "        -init <filename>                   (initial transform matrix to apply to all vols)\n",
      "        -gdt                               (run search on gradient images)\n",
      "        -meanvol                           register timeseries to mean volume (overrides refvol and reffile options)\n",
      "        -stats                             produce variance and std. dev. images\n",
      "        -mats                              save transformation matricies in subdirectory outfilename.mat\n",
      "        -plots                             save transformation parameters in file outputfilename.par\n",
      "        -report                            report progress to screen\n",
      "        -help\n"
     ]
    }
   ],
   "source": [
    "%%bash\n",
    "\n",
    "# Look at usage for mcflirt\n",
    "mcflirt"
   ]
  },
  {
   "cell_type": "code",
   "execution_count": 10,
   "metadata": {},
   "outputs": [],
   "source": [
    "%%bash\n",
    "\n",
    "# Example mcflirt call with defaults\n",
    "# Input does not have to be skull stripped\n",
    "# Default cost function is normalized correlation\n",
    "# Why is the refvol 157?\n",
    "\n",
    "mcflirt -in my_bold \\\n",
    "-out my_bold_mcf \\\n",
    "-cost normcorr \\\n",
    "-refvol 157 \\\n",
    "-mats -plots \\\n",
    "-rmsrel -rmsabs -spline_final "
   ]
  },
  {
   "cell_type": "markdown",
   "metadata": {},
   "source": [
    "Notes about mcflirt\n",
    "* mats gives us a directory of .mat files, what do these represent?\n",
    "* {out}.par is a text file with 6 columes, the first three columns are rotations for x,y,z and last three are translations for x,y,z\n",
    "* Informative [old post](https://www.jiscmail.ac.uk/cgi-bin/webadmin?A2=fsl;cda6e2ea.1112) about the relation between the .MAT files and the .par parameters"
   ]
  },
  {
   "cell_type": "code",
   "execution_count": 50,
   "metadata": {},
   "outputs": [
    {
     "name": "stdout",
     "output_type": "stream",
     "text": [
      "-0.00235365  -0.00268918  -0.00123003  -0.189328  -0.0381569  -0.103865  \r\n",
      "-0.00193801  -0.00268918  -0.00136075  -0.203558  -0.081004  -0.00842706  \r\n",
      "-0.00276387  -0.00263573  -0.0013004  -0.208256  0.000850255  0.0110615  \r\n",
      "-0.00261557  -0.00268918  -0.00152084  -0.210206  -0.0885671  0.0384276  \r\n",
      "-0.00261557  -0.00245883  -0.0013004  -0.199139  -0.0546978  0.0337166  \r\n",
      "-0.00266724  -0.00269256  -0.00119302  -0.180762  -0.0313508  0.0452187  \r\n",
      "-0.00255521  -0.00228903  -0.0013004  -0.197748  -0.0923565  0.0642676  \r\n",
      "-0.00271359  -0.00228903  -0.0013004  -0.195086  -0.0483549  0.0799969  \r\n",
      "-0.00276466  -0.00248933  -0.00118778  -0.198487  -0.0296003  0.0568272  \r\n",
      "-0.00234539  -0.00228903  -0.0013004  -0.196536  -0.0883617  0.0794092  \r\n",
      "-0.00308568  -0.00258971  -0.0011868  -0.195505  -0.036652  0.0688867  \r\n",
      "-0.00282853  -0.00228903  -0.0013004  -0.188303  -0.0363468  0.066053  \r\n",
      "-0.00287632  -0.00246737  -0.0013004  -0.194856  -0.0803842  0.0817202  \r\n",
      "-0.00304057  -0.00228903  -0.0013004  -0.202229  -0.00892654  0.0618569  \r\n",
      "-0.0028852  -0.00228903  -0.0013004  -0.19696  -0.053201  0.0730187  \r\n",
      "-0.002957  -0.00234587  -0.0013004  -0.191404  -0.0451215  0.0692081  \r\n",
      "-0.00354596  -0.00228903  -0.0011486  -0.190085  -0.000516696  0.0565414  \r\n",
      "-0.00291855  -0.00262302  -0.00117419  -0.189726  -0.0884702  0.0734014  \r\n",
      "-0.00296856  -0.00228903  -0.0013004  -0.191506  -0.0289429  0.0511308  \r\n",
      "-0.00336721  -0.00228903  -0.00118675  -0.180346  0.00307944  0.0548162  \r\n",
      "-0.00302213  -0.00228903  -0.00119401  -0.182639  -0.0714082  0.0801126  \r\n",
      "-0.00311688  -0.00228903  -0.0013004  -0.191506  -0.0206742  0.0493125  \r\n",
      "-0.00313027  -0.00239198  -0.0013004  -0.191322  -0.00998123  0.036038  \r\n",
      "-0.00266402  -0.00228903  -0.0013004  -0.191506  -0.0543019  0.0599911  \r\n",
      "-0.00312115  -0.00239865  -0.00118038  -0.18361  -0.00429174  0.0465667  \r\n",
      "-0.00302104  -0.0024294  -0.00114018  -0.17249  -0.0471835  0.0644235  \r\n",
      "-0.00272027  -0.00228903  -0.00107146  -0.173783  -0.0465326  0.0648195  \r\n",
      "-0.00295993  -0.00228903  -0.00115695  -0.167407  0.0158718  0.0487523  \r\n",
      "-0.00310835  -0.00228903  -0.00119133  -0.167685  -0.0834029  0.0681672  \r\n",
      "-0.00315512  -0.00228903  -0.00120312  -0.1758  0.0121522  0.063758  \r\n",
      "-0.00284378  -0.00223134  -0.00101797  -0.166184  -0.072073  0.0730439  \r\n",
      "-0.00284378  -0.00201882  -0.00108372  -0.167197  -0.0192339  0.06347  \r\n",
      "-0.00289436  -0.00228903  -0.00117758  -0.167584  0.0127451  0.0510108  \r\n",
      "-0.00300467  -0.00214971  -0.00120658  -0.168091  -0.0860388  0.0629251  \r\n",
      "-0.00345404  -0.00205048  -0.000865614  -0.165096  0.00211594  0.0668017  \r\n",
      "-0.00320158  -0.0021025  -0.00105744  -0.166793  -0.0534466  0.0704454  \r\n",
      "-0.0030148  -0.00212576  -0.00112098  -0.167355  -0.0334125  0.0441865  \r\n",
      "-0.00300234  -0.00210872  -0.00113525  -0.161236  -0.0128462  0.0751594  \r\n",
      "-0.00272171  -0.00213707  -0.000865615  -0.164931  -0.0611078  0.0877826  \r\n",
      "-0.00290159  -0.00188477  -0.000865614  -0.147542  0.00123097  0.0790902  \r\n",
      "-0.00310145  -0.00188477  -0.000865615  -0.147542  -0.0658569  0.0984279  \r\n",
      "-0.00317321  -0.00229938  -0.00103551  -0.148382  -0.0251607  0.0829181  \r\n",
      "-0.00311921  -0.00188477  -0.000865615  -0.147542  -0.0220609  0.075893  \r\n",
      "-0.00280945  -0.00188477  -0.000865615  -0.147542  -0.0637689  0.0729716  \r\n",
      "-0.00325675  -0.00206839  -0.000865615  -0.147213  -0.000184309  0.0773524  \r\n",
      "-0.00325513  -0.00188477  -0.000977681  -0.148591  -0.0415413  0.0770822  \r\n",
      "-0.00274521  -0.00188477  -0.000865615  -0.147542  -0.0525106  0.0723101  \r\n",
      "-0.0027983  -0.00188477  -0.000865615  -0.147542  -0.0070786  0.0727878  \r\n",
      "-0.00241796  -0.00188477  -0.00100568  -0.148847  -0.0790725  0.0692184  \r\n",
      "-0.0028092  -0.00204943  -0.000865615  -0.136779  -0.0260602  0.0748305  \r\n",
      "-0.00335926  -0.00188477  -0.00082958  -0.114167  -0.046759  0.0722279  \r\n",
      "-0.00298011  -0.00188477  -0.00084478  -0.130205  -0.0460989  0.0721563  \r\n",
      "-0.00314028  -0.00188477  -0.000796977  -0.126795  -0.000390023  0.0577452  \r\n",
      "-0.00276811  -0.00197578  -0.000828335  -0.129883  -0.0727189  0.0749714  \r\n",
      "-0.00313917  -0.00188477  -0.000794252  -0.12975  -0.00871426  0.0683901  \r\n",
      "-0.00300643  -0.00202663  -0.000662792  -0.113871  -0.0495346  0.0841902  \r\n",
      "-0.00287495  -0.00188477  -0.000815554  -0.121713  -0.0492614  0.0741987  \r\n",
      "-0.00301953  -0.00184095  -0.000634647  -0.116988  -0.0211766  0.0542493  \r\n",
      "-0.00288694  -0.00192018  -0.000827205  -0.110519  -0.0470829  0.070189  \r\n",
      "-0.00312525  -0.00180948  -0.00082629  -0.108018  0.000266872  0.0482898  \r\n",
      "-0.00254079  -0.0018226  -0.00081861  -0.0969452  -0.0494505  0.0683548  \r\n",
      "-0.00291642  -0.00174425  -0.000811487  -0.0970221  -0.0068552  0.0662265  \r\n",
      "-0.00271879  -0.00172099  -0.000825287  -0.0971911  -0.0544627  0.0673622  \r\n",
      "-0.00334855  -0.00142  -0.000615538  -0.0957709  -0.0179614  0.0728337  \r\n",
      "-0.00310442  -0.00171187  -0.000709397  -0.0938474  -0.00769041  0.0576908  \r\n",
      "-0.00255388  -0.00142  -0.000698165  -0.0805262  -0.0373766  0.0653812  \r\n",
      "-0.00346316  -0.00142  -0.000515221  -0.0918078  0.0248457  0.0505455  \r\n",
      "-0.00321474  -0.00142  -0.000715644  -0.0783914  -0.0411654  0.0685266  \r\n",
      "-0.00363345  -0.00142  -0.000716023  -0.0784279  -0.02548  0.0458108  \r\n",
      "-0.00316712  -0.00142  -0.000418555  -0.0904812  -0.0242375  0.0531903  \r\n",
      "-0.00274164  -0.00148032  -0.000418555  -0.0755212  -0.0597851  0.0571222  \r\n",
      "-0.00298614  -0.00142  -0.000620153  -0.0775404  0.0165662  0.0332385  \r\n",
      "-0.0024212  -0.00147936  -0.000762029  -0.0760446  -0.0472339  0.0547544  \r\n",
      "-0.00281976  -0.00142  -0.000630409  -0.0776342  0.0165177  0.0473749  \r\n",
      "-0.00241051  -0.00147861  -0.000691463  -0.0728935  -0.0490925  0.0517938  \r\n",
      "-0.00253631  -0.00119677  -0.000585714  -0.0744024  -0.0212501  0.0481567  \r\n",
      "-0.00277239  -0.0013528  -0.000418555  -0.0757478  -0.0112737  0.0468027  \r\n",
      "-0.00313963  -0.00127925  -0.00054784  -0.0770732  -0.0468068  0.0694888  \r\n",
      "-0.00309857  -0.000950972  -0.000418555  -0.0764654  0.0228087  0.0492656  \r\n",
      "-0.0026773  -0.00135339  -0.000561971  -0.0735783  -0.0550615  0.0544345  \r\n",
      "-0.00247242  -0.000950972  -0.000812765  -0.0801685  -0.0173975  0.0433648  \r\n",
      "-0.00237307  -0.00131559  -0.000747773  -0.0789033  -0.00405409  0.0429146  \r\n",
      "-0.00191579  -0.00126394  -0.000654575  -0.0695923  -0.0574315  0.0385101  \r\n",
      "-0.00237918  -0.00128279  -0.000418555  -0.0599015  -0.00152392  0.0428252  \r\n",
      "-0.00198184  -0.00136738  -0.000736367  -0.0627708  -0.0768359  0.0600355  \r\n",
      "-0.00234832  -0.00122911  -0.000600981  -0.0643258  -0.0203732  0.0513622  \r\n",
      "-0.00201996  -0.0012456  -0.000418555  -0.0569595  -0.0566974  0.0561977  \r\n",
      "-0.00225974  -0.00110201  -0.00059619  -0.0588806  -0.0216207  0.041377  \r\n",
      "-0.00229387  -0.00110646  -0.000418555  -0.0572152  -0.0214527  0.041708  \r\n",
      "-0.00214527  -0.00142352  -0.000418555  -0.0566316  -0.0605409  0.0512954  \r\n",
      "-0.00243799  -0.00132363  -0.000418555  -0.0596391  0.0178787  0.0148921  \r\n",
      "-0.00236606  -0.00122383  -0.000418554  -0.0597227  -0.0424682  0.0621043  \r\n",
      "-0.00234538  -0.00126241  -0.000418554  -0.0569244  -0.0144364  0.037325  \r\n",
      "-0.00234224  -0.00118199  -0.000618823  -0.0687297  -0.00407  0.0368583  \r\n",
      "-0.0020231  -0.00112469  -0.000418554  -0.0571816  -0.0422721  0.0225167  \r\n",
      "-0.00221787  -0.00100701  -0.000418554  -0.0573968  0.016584  0.0252029  \r\n",
      "-0.00184883  -0.0012231  -0.000418554  -0.0569988  -0.0639375  0.0282084  \r\n",
      "-0.00187439  -0.00121859  -0.000418554  -0.0570119  0.0156488  0.00891662  \r\n",
      "-0.00192688  -0.00095097  -0.000418554  -0.0574981  -0.0352177  0.0301476  \r\n",
      "-0.00203935  -0.00095097  -0.000593979  -0.0519124  -0.0322094  0.0256921  \r\n",
      "-0.00182799  -0.0011153  -0.000418554  -0.0571993  -0.015398  0.0227405  \r\n",
      "-0.00173944  -0.00116977  -0.000418554  -0.0570973  -0.0113194  0.0170518  \r\n",
      "-0.00222987  -0.0012112  -0.000418554  -0.0570242  0.0167799  0.0385529  \r\n",
      "-0.00191487  -0.00095097  -0.000418554  -0.0576992  -0.057653  0.0203481  \r\n",
      "-0.00218757  -0.00111683  -0.000418554  -0.0560936  0.012529  0.00356526  \r\n",
      "-0.00149673  -0.00126138  -0.000502927  -0.052741  -0.060347  0.0147106  \r\n",
      "-0.00175587  -0.00095097  -0.000468345  -0.0530733  0.00117377  -0.00283913  \r\n",
      "-0.00175587  -0.00124847  -0.00040926  -0.0570534  -0.0277429  0.00913657  \r\n",
      "-0.00156163  -0.00116067  -0.00021053  -0.0439507  -0.0434469  0.00776764  \r\n",
      "-0.00186593  -0.000950969  -0.000434441  -0.0485982  -0.00143129  0.000313254  \r\n",
      "-0.00153707  -0.000950969  -0.00040023  -0.0525383  -0.0559073  0.0103847  \r\n",
      "-0.00158456  -0.00102582  -0.000357699  -0.0453709  -0.0278912  0.00537284  \r\n",
      "-0.00177673  -0.000950969  -0.000221742  -0.0513798  0.0104285  -0.000947624  \r\n",
      "-0.00146493  -0.000950969  -0.000135976  -0.0375212  -0.0727486  0.0133647  \r\n",
      "-0.00142161  -0.000950969  2.11758e-22  -0.0444789  0.00473668  -0.0186083  \r\n",
      "-0.00132416  -0.000950969  -0.000295337  -0.0390278  -0.0167774  -0.00993305  \r\n",
      "-0.000793567  -0.000950969  0  -0.036252  -0.0404442  0.00998131  \r\n",
      "-0.00112683  -0.000950968  -8.95992e-05  -0.056189  0.0169005  -0.00102399  \r\n",
      "-0.000902153  -0.000950968  0  -0.036252  -0.0519747  0.0109613  \r\n",
      "-0.000788671  -0.000950968  0  -0.030705  -0.0275276  -0.00282199  \r\n",
      "-0.00103422  -0.000899462  -0.000153526  -0.0330883  -0.00541224  0.0121504  \r\n",
      "-0.000799355  -0.000822261  0  -0.0289816  -0.0434611  0.00986974  \r\n",
      "-0.00111331  -0.000892979  0  -0.0158291  0.0262124  -0.0013075  \r\n",
      "-0.000892756  -0.000917721  2.11758e-22  -0.015774  -0.059156  0.0409207  \r\n",
      "-0.000675286  -0.000686764  0  -0.0161881  0.0102597  0.00848226  \r\n",
      "-0.00104169  -0.000844003  -0.000122987  -0.0170652  0.0094379  0.0121124  \r\n",
      "-0.000541255  -0.000866782  0  -0.0158518  -0.049835  0.021294  \r\n",
      "-0.000792199  -0.000633988  0  -0.0236521  0.0288523  0.00943228  \r\n",
      "-0.000903289  -0.000506395  0  -0.0134522  -0.0374954  0.0295043  \r\n",
      "-0.000828095  -0.000581424  1.05879e-22  -0.016376  -0.0218831  0.0251036  \r\n",
      "-0.000979959  -0.000977727  0  -0.00626308  0.00518442  0.00315009  \r\n",
      "-0.000522916  -0.000836186  0  -0.0112411  -0.0366194  0.00422432  \r\n",
      "-0.000829686  -0.000880837  -1.05879e-22  -0.0124649  0.0239835  0.00156464  \r\n",
      "-0.000756426  -0.000506394  0  -0.0157423  -0.0496235  0.0179119  \r\n",
      "-0.000565631  -0.000630104  5.29396e-23  -0.0150085  -0.00335272  -0.00122748  \r\n",
      "-0.00084091  -0.000597082  0  -0.011418  -0.00385328  -0.0021561  \r\n",
      "-0.00081504  -0.000653968  9.44057e-05  0.0020587  -0.0337269  0.00672271  \r\n",
      "-0.000939931  -0.000506394  9.45778e-05  -0.00501341  0.0366405  0.00211594  \r\n",
      "-0.00060852  -0.000748893  5.29396e-23  0.00134995  -0.0629965  0.0214516  \r\n",
      "-0.000801133  -0.000506394  0  0.00091098  0.0240969  -0.00691294  \r\n",
      "-0.000502688  -0.000506394  0  0.000910905  -0.0217051  0.00922324  \r\n",
      "-0.000363786  -0.000506394  7.30609e-05  -0.00990071  -0.0167204  0.0134301  \r\n",
      "-0.000195014  -0.000506394  8.24492e-05  -0.00882581  0.0271445  -0.000302398  \r\n",
      "5.76837e-05  -0.000422701  0  -0.0109258  -0.0639011  0.0161551  \r\n",
      "-0.000209645  -0.000351066  0  0.000630936  -0.0317903  0.0176121  \r\n",
      "-0.00026964  -0.000322255  0  0.000583029  0.0219294  0.00912843  \r\n",
      "-0.00012683  -0  0  0  -0.075154  0.0239953  \r\n",
      "-0.000627114  -5.27427e-05  0  9.43351e-05  0.0142695  0.0102534  \r\n",
      "-0.000259709  -0.000296575  0  -0.00627383  -0.0589532  0.0288956  \r\n",
      "-0.000119015  -0  0  -0.00416266  -0.0304996  0.00124719  \r\n",
      "-0.000276389  -0.000174684  0  0.000309028  -0.00204477  -0.00969786  \r\n",
      "-1.31663e-05  -0  0  0  -0.070375  0.0157344  \r\n",
      "-0.000300387  -0  0  0  0.0206969  0.00291768  \r\n",
      "-0.000251235  -0  0  7.04242e-08  -0.0188951  0.0170536  \r\n",
      "-7.13036e-05  -0  0  0.00659504  -0.0185764  0.000770505  \r\n",
      "5.55065e-05  -0  0  0  0.0397938  -0.000453415  \r\n",
      "0.000248756  -0  0  0.00718491  -0.0525423  0.0201926  \r\n",
      "0  -0  0  0  0  0  \r\n",
      "0  -0  0  0  0.0139747  0.0207273  \r\n",
      "0.000251915  -0  -7.77215e-05  0.00237693  -0.0376586  0.0187842  \r\n",
      "-0.00015435  -0  0  0  0.0172762  0.00143895  \r\n",
      "0.000220583  -0  0  0.00784125  -0.052845  0.0109367  \r\n",
      "0.000259902  6.35227e-05  0  -0.000114841  -0.0171841  -0.00252562  \r\n",
      "0.000259902  -0  0  0.0105916  -0.00800214  0.0121042  \r\n",
      "0.000314502  0.000251108  -0.000102817  -0.00142  -0.0172086  -0.00326328  \r\n",
      "0.000140446  0.000229217  0  -0.000415923  0.0262133  -0.00159424  \r\n",
      "0.000580539  0.000143483  0  0.0040801  -0.0431718  0.00350395  \r\n",
      "-0.000207407  0.00021789  0  -0.000392482  0.041053  0.0138865  \r\n",
      "0.000203262  0.000129115  0  0.0165768  -0.0555511  0.0213025  \r\n",
      "-0.000141102  0.000437251  0  0.012425  -0.0129017  0.0038272  \r\n",
      "0.000110941  0.000437251  0  -0.000793868  0.0176839  -0.00156971  \r\n",
      "0.000462728  0.00025682  0  -0.000459009  -0.0629197  0.0165235  \r\n",
      "0.000243024  0.000437252  0  0.00489712  0.0154643  -0.00281036  \r\n",
      "0.000405968  0.000437252  0  0.010056  -0.0602213  0.0211942  \r\n",
      "0.000450113  0.000437252  -2.64698e-23  -0.000793869  0.000387795  -0.00472212  \r\n",
      "0.000345371  0.000437252  0  0.00405639  0.0474823  -0.00377096  \r\n",
      "0.000903228  0.000289843  5.41439e-05  0.00640999  -0.0609158  0.00960458  \r\n",
      "0.000431831  0.000437252  0  0.0122412  0.00432962  0.00953648  \r\n",
      "0.00061445  0.000437252  0  0.0142328  -0.0247004  0.0276799  \r\n",
      "0.00024831  3.44031e-05  0.000721885  0.0698753  -0.0609232  0.027506  \r\n",
      "-2.55747e-05  0.000186807  0.000640961  0.0627472  0.00555291  0.0267151  \r\n",
      "0.000256825  -0.000108397  0.000654121  0.0710531  -0.0923511  0.0412607  \r\n",
      "0.000528154  8.21656e-06  0.000829306  0.0648504  -0.0299666  0.0260588  \r\n",
      "-0.000107156  8.21657e-06  0.000724796  0.0762273  -0.0248361  0.0409599  \r\n",
      "0.00035073  -0.000133739  0.000829306  0.072624  -0.0785107  0.0526464  \r\n",
      "-0.000204385  -0.000160227  0.000680814  0.0637712  -0.0196701  0.0428699  \r\n",
      "-0.000204385  -0.000211138  0.000651787  0.0636072  -0.0773826  0.0439776  \r\n",
      "-0.000259879  -0.000216789  0.000829306  0.071465  -0.0876734  0.0589026  \r\n",
      "-0.000657259  8.21656e-06  0.000829306  0.0869443  -0.0488343  0.0567514  \r\n",
      "-4.87678e-06  -0.00038301  0.000829306  0.09023  -0.104723  0.07366  \r\n",
      "-7.91242e-05  -0.000231677  0.000829306  0.0883203  -0.0715632  0.0601001  \r\n",
      "-7.91242e-05  -0.000356116  0.000829306  0.107418  -0.0287665  0.0467295  \r\n",
      "-7.93006e-05  -0.000222822  0.000967059  0.10845  -0.114814  0.0697147  \r\n",
      "-0.000591957  8.21656e-06  0.000829306  0.106738  -0.0360103  0.0286951  \r\n",
      "5.74445e-05  -0.000323237  0.000829306  0.107358  -0.102952  0.0624831  \r\n",
      "-0.000391413  -0.000234369  0.000829306  0.0850446  -0.0579607  0.0745595  \r\n",
      "-0.000591957  -4.26823e-05  0.000898922  0.0853435  -0.108899  0.141725  \r\n",
      "-0.000591957  -0.000194578  0.000829307  0.0926475  -0.117845  0.143997  \r\n",
      "-0.000591957  8.21656e-06  0.000829307  0.0906089  -0.0708225  0.13859  \r\n",
      "-0.000166522  -0.000193629  0.000829307  0.0849963  -0.118392  0.141669  \r\n",
      "-0.000176971  8.21656e-06  0.000829307  0.0845954  -0.0657819  0.141552  \r\n",
      "0.00011299  -0.000206261  0.000829307  0.0850207  -0.145955  0.152359  \r\n",
      "-0.000736177  -0.000178232  0.00101953  0.102573  -0.0729267  0.149044  \r\n",
      "-0.000243404  -0.000239811  0.00114087  0.108939  -0.162604  0.161521  \r\n",
      "-0.000732315  -0.000221558  0.00102527  0.103873  -0.0832065  0.146984  \r\n",
      "-0.000280994  -0.000296325  0.00107619  0.0992178  -0.141815  0.148452  \r\n",
      "-0.00057088  8.21657e-06  0.00114771  0.0992119  -0.0966172  0.1352  \r\n",
      "-0.000430783  -0.000321331  0.000829307  0.108281  -0.134641  0.163766  \r\n",
      "-0.000429601  -0.000209722  0.000946956  0.0993478  -0.120686  0.160027  \r\n",
      "-0.000572216  -0.000186258  0.00118432  0.105229  -0.0733151  0.157485  \r\n",
      "-0.000404564  -0.000196096  0.00114698  0.105489  -0.162721  0.168036  \r\n",
      "-0.00061802  8.21657e-06  0.00117939  0.108658  -0.0759503  0.147046  \r\n",
      "-0.000481663  -0.000240469  0.0011251  0.109967  -0.122289  0.16151  \r\n",
      "-0.0005868  8.21657e-06  0.00100329  0.104597  -0.119845  0.16148  \r\n",
      "-0.000779604  -0.000274385  0.00123833  0.120527  -0.0801083  0.145438  \r\n",
      "-0.000306034  -0.000185856  0.00124554  0.109981  -0.163902  0.161986  \r\n",
      "-0.000861277  -0.000290826  0.00120368  0.115681  -0.0915645  0.154464  \r\n",
      "-0.000502855  -0.000296632  0.00115117  0.113961  -0.163202  0.166014  \r\n",
      "-0.000594919  -0.000193082  0.00116031  0.112258  -0.0822183  0.15696  \r\n",
      "-0.000857724  -0.000546159  0.00119817  0.12465  -0.132683  0.146714  \r\n",
      "-0.000999695  -0.000378823  0.00105091  0.126184  -0.140335  0.163036  \r\n",
      "-0.00122673  -0.000401716  0.00119402  0.122291  -0.0650721  0.161656  \r\n",
      "-0.000577976  -0.000165399  0.00108408  0.120777  -0.138342  0.166396  \r\n",
      "-0.0010035  -0.000330244  0.00119179  0.12215  -0.0394801  0.157965  \r\n",
      "-0.000370716  -0.00034706  0.0011955  0.119907  -0.163188  0.158356  \r\n",
      "-0.000604644  -0.000403812  0.00117387  0.122122  -0.0802961  0.151074  \r\n",
      "-0.000861627  -0.000409233  0.0012254  0.12019  -0.0881181  0.155263  \r\n",
      "-0.00031018  -0.000409233  0.00119337  0.11921  -0.143378  0.159676  \r\n",
      "-0.000613889  -0.000409233  0.00125324  0.122874  -0.06252  0.153888  \r\n",
      "-0.000507341  -0.000297262  0.0012371  0.122459  -0.152951  0.168118  \r\n",
      "-0.000524119  -0.00027733  0.00125678  0.122602  -0.0815614  0.152973  \r\n",
      "-0.000440009  -0.000480651  0.00121869  0.122627  -0.111248  0.165774  \r\n",
      "-0.000380528  -0.000364765  0.00119712  0.119756  -0.0994102  0.167053  \r\n",
      "-0.000415671  -0.000364765  0.00124731  0.119804  -0.0675749  0.141648  \r\n",
      "-0.000125034  -0.000409567  0.00119527  0.122285  -0.139378  0.181716  \r\n",
      "0.000259124  -0.000269433  0.00135675  0.116901  -0.0356844  0.124799  \r\n",
      "-0.000503468  -0.000447584  0.00142894  0.124472  -0.111068  0.162544  \r\n",
      "-0.00139534  9.65676e-05  0.00100869  0.0827919  -0.174605  0.143148  \r\n",
      "-0.000797355  -0.000314296  0.000971879  0.0947182  -0.179596  0.189783  \r\n",
      "-0.0012599  -0.000314296  0.00133735  0.112028  -0.0758006  0.174455  \r\n",
      "-0.000555823  -0.000314296  0.00115243  0.106757  -0.18466  0.1885  \r\n",
      "-0.000624145  -0.000314297  0.00142894  0.0965034  -0.0487978  0.167639  \r\n",
      "-0.000286035  -0.000314297  0.00142894  0.108714  -0.138833  0.207008  \r\n",
      "-0.000452411  -0.000314297  0.00123524  0.100807  -0.0895602  0.171309  \r\n",
      "-0.00045666  -0.000314297  0.00129192  0.101431  -0.084664  0.171348  \r\n",
      "-0.000219431  -0.000314297  0.00142894  0.107026  -0.110029  0.184766  \r\n",
      "1.41095e-05  -0.000314297  0.00122733  0.112448  -0.0404626  0.179605  \r\n",
      "0.00019302  -0.00040639  0.00127241  0.112578  -0.138469  0.207715  \r\n",
      "-0.000396147  -0.000314297  0.00136523  0.11043  -0.0804355  0.185288  \r\n",
      "-0.000164077  -0.000314297  0.0012289  0.119859  -0.0725915  0.189278  \r\n",
      "0.000360078  -0.000260069  0.00129036  0.116596  -0.127693  0.186071  \r\n",
      "-0.00022564  -0.000406587  0.0011631  0.114915  -0.0601591  0.178531  \r\n",
      "0.000177075  -0.000314297  0.000980914  0.112721  -0.103645  0.19232  \r\n",
      "3.91931e-05  -7.8915e-07  0.00100315  0.109637  -0.0962972  0.175656  \r\n",
      "-0.000165212  -0.000333925  0.000998711  0.110965  -0.0379128  0.166623  \r\n",
      "0.000393964  -0.000302867  0.00100847  0.115755  -0.129158  0.185388  \r\n",
      "0.000481134  -7.85098e-05  0.00100847  0.103846  -0.0813744  0.184344  \r\n",
      "6.71509e-05  6.29652e-05  0.00100847  0.10949  -0.0581587  0.177933  \r\n",
      "0.000448208  4.93694e-05  0.00100847  0.120511  -0.142394  0.167383  \r\n",
      "5.83687e-05  1.11387e-05  0.000936122  0.107105  -0.0253204  0.173309  \r\n",
      "0.000555844  -0.000103674  0.00117879  0.120928  -0.135142  0.184911  \r\n",
      "0.000402246  -8.26215e-05  0.00100847  0.114076  -0.0623589  0.15396  \r\n",
      "0.000360595  -0.000247506  0.00112556  0.119917  -0.0703106  0.182739  \r\n",
      "0.000554381  -2.93821e-06  0.00100847  0.107511  -0.0962454  0.164328  \r\n",
      "0.000116849  -4.8088e-05  0.00100847  0.113349  -0.0404598  0.178457  \r\n",
      "0.000358786  -8.37762e-05  0.00100847  0.112821  -0.13549  0.193454  \r\n",
      "-0.000111167  0.000229804  0.00100847  0.0999209  -0.0537192  0.164169  \r\n",
      "0.000269158  -0.000140584  0.00110312  0.116412  -0.114883  0.177236  \r\n",
      "0.000446853  3.2722e-05  0.00100847  0.111303  -0.0811818  0.171119  \r\n",
      "-8.47847e-06  -0.000112674  0.00100847  0.113182  -0.0271805  0.172171  \r\n",
      "0.000625236  2.26137e-05  0.00100847  0.0994438  -0.124263  0.194281  \r\n",
      "-0.000220415  0.000229804  0.00100847  0.0961242  -0.0487652  0.191931  \r\n",
      "-1.88616e-05  -0.000144815  0.00111822  0.114555  -0.102045  0.208031  \r\n",
      "-0.000123181  -0.000176422  0.000872723  0.0820881  -0.125605  0.205974  \r\n",
      "-0.00040239  0.000161222  0.000852789  0.0864889  -0.058534  0.186931  \r\n",
      "5.68024e-05  3.12605e-05  0.000850063  0.0814383  -0.147006  0.198633  \r\n",
      "-0.000229363  0.000135628  0.000760118  0.0843187  -0.0718344  0.175393  \r\n",
      "-0.00021487  8.93024e-05  0.000821364  0.0972817  -0.0847213  0.188969  \r\n",
      "0.000143071  0.000123357  0.000777369  0.0937364  -0.117125  0.193081  \r\n",
      "-0.000201261  0.000229804  0.00100847  0.0992155  -0.0294368  0.175014  \r\n",
      "0.000260038  0.000161851  0.000785433  0.0929285  -0.129243  0.203676  \r\n",
      "1.90205e-05  0.000229804  0.00086941  0.0997665  -0.0402167  0.172759  \r\n",
      "0.000115714  0.000177344  0.0008571  0.0953  -0.0910323  0.207824  \r\n",
      "1.40475e-05  0.000229804  0.000872259  0.0864597  -0.102521  0.188838  \r\n",
      "-0.000292266  0.000176809  0.000816262  0.0984732  -0.0771974  0.186782  \r\n",
      "0.000310016  0.000177786  0.00100847  0.0825978  -0.099519  0.181167  \r\n",
      "-0.000292266  0.000229804  0.00100847  0.102226  -0.0491224  0.186725  \r\n",
      "0.000292721  0.00015945  0.00100847  0.105661  -0.140844  0.2014  \r\n",
      "-0.000254797  0.000284901  0.000876829  0.0982072  -0.0495328  0.186314  \r\n",
      "7.898e-05  0.000229804  0.000851477  0.104635  -0.123554  0.204007  \r\n",
      "7.65748e-05  0.000382403  0.00100847  0.0969409  -0.0895497  0.200636  \r\n",
      "-2.86247e-05  0.000355886  0.00100847  0.100818  -0.0579868  0.179925  \r\n",
      "0.000354985  0.000229804  0.00100847  0.0976004  -0.127834  0.197529  \r\n",
      "-9.41516e-05  0.000229804  0.00100847  0.11015  -0.0631988  0.180286  \r\n",
      "0.000367512  0.000229804  0.00100847  0.11029  -0.115929  0.201584  \r\n",
      "0.000102356  0.000229804  0.00100847  0.104138  -0.0766839  0.181964  \r\n",
      "0.000197873  0.000229804  0.00100847  0.11319  -0.0788745  0.181091  \r\n",
      "0.000461386  0.000157848  0.00100847  0.108174  -0.120699  0.207651  \r\n",
      "0.0001334  0.000368639  0.000838181  0.111709  -0.0681193  0.182109  \r\n",
      "0.000119538  0.000323585  0.00100847  0.115312  -0.0606923  0.182264  \r\n",
      "0.000611585  0.000229804  0.00100847  0.11039  -0.1123  0.186485  \r\n",
      "-9.0862e-05  0.000229804  0.00100847  0.0996632  -0.0679657  0.184318  \r\n",
      "8.46499e-05  0.000229804  0.00100847  0.0985032  -0.0999275  0.182705  \r\n",
      "0.000174816  0.000229804  0.00100847  0.0951575  -0.105357  0.188498  \r\n",
      "-0.00153703  -3.63949e-05  0.00140888  0.0866418  0.0349236  -0.208154  \r\n",
      "-0.00151586  -0.000775221  0.00100847  0.097843  -0.331346  -0.14491  \r\n",
      "-0.00469453  -0.000184303  4.58693e-05  0.00223883  -0.330959  -0.0493433  \r\n",
      "-0.00330301  0.000158124  0.000862973  0.101559  -0.0858577  -0.0271282  \r\n",
      "-0.00225298  0.000329367  0.000595933  0.0679673  -0.038016  -0.0409038  \r\n",
      "-0.00194613  0.00048283  0.000618312  0.057031  -0.0019244  0.0169166  \r\n",
      "-0.00237828  0.000377053  0.000345363  0.0447799  0.0359239  -0.00297412  \r\n",
      "-0.00240148  0.000732541  0.000544107  0.0459684  -0.00520307  0.00812831  \r\n",
      "-0.00203501  0.000645204  0.000544107  0.0614181  -0.0216846  0.0117836  \r\n",
      "-0.00203501  0.000886419  0.000544107  0.0585464  0.0098594  0.012817  \r\n",
      "-0.00210824  0.000651837  0.000442701  0.0495217  -0.00349363  0.0187759  \r\n"
     ]
    }
   ],
   "source": [
    "!cat my_bold_mcf.par"
   ]
  },
  {
   "cell_type": "code",
   "execution_count": 52,
   "metadata": {},
   "outputs": [
    {
     "name": "stderr",
     "output_type": "stream",
     "text": [
      "***************************************************\n",
      "The following COMPULSORY options have not been set:\n",
      "\t-i,--in\t        comma-separated list of input file names (ASCII text matrix, one column per timecourse)\n",
      "\t-o,--out\toutput filename for the PNG file\n",
      "***************************************************\n",
      "\n",
      "Part of FSL (build 509)\n",
      "fsl_tsplot \n",
      "Copyright(c) 2007, University of Oxford (Christian F. Beckmann)\n",
      "\n",
      "Usage: \n",
      "fsl_tsplot [options] \n",
      "\n",
      "Compulsory arguments (You MUST set one or more of):\n",
      "\t-i,--in\t        comma-separated list of input file names (ASCII text matrix, one column per timecourse)\n",
      "\t-o,--out\toutput filename for the PNG file\n",
      "\n",
      "Optional arguments (You may optionally specify one or more of):\n",
      "\t-t,--title\tplot title\n",
      "\t-l,--legend\tfile name of ASCII text file, one row per legend entry\n",
      "\t-a,--labels\tcomma-separated list of labels\n",
      "\t--ymin\t        minimum y-value\n",
      "\t--ymax\t        maximum y-value\n",
      "\t-x,--xlabel\tX-axis label\n",
      "\t-y,--ylabel\tY-axis label\n",
      "\t-h,--height\tplot height in pixels (default 150)\n",
      "\t-w,--width\tplot width in pixels (default 600)\n",
      "\t-u,--unit\tscaling units for x-axis (default 1...length of infile\n",
      "\t--precision\tprecision of x-axis labels\n",
      "\t--sci\t        switch on sientific notation\n",
      "\t--start\t        Position of first column to plot\n",
      "\t--finish\tPosition of final column to plot\n",
      "\n",
      "\n"
     ]
    }
   ],
   "source": [
    "%%bash\n",
    "\n",
    "# FSL has a simple plotting command for timeseries data\n",
    "fsl_tsplot"
   ]
  },
  {
   "cell_type": "code",
   "execution_count": 53,
   "metadata": {},
   "outputs": [],
   "source": [
    "%%bash\n",
    "\n",
    "# Plot rotations (radians)\n",
    "fsl_tsplot -i my_bold_mcf.par \\\n",
    "-t 'MCFLIRT estimated rotations (radians)' \\\n",
    "-u 1 --start=1 --finish=3 -a x,y,z -w 640 -h 144 -o rot.png "
   ]
  },
  {
   "cell_type": "markdown",
   "metadata": {},
   "source": [
    "![rotations](rot.png)"
   ]
  },
  {
   "cell_type": "code",
   "execution_count": 54,
   "metadata": {},
   "outputs": [],
   "source": [
    "%%bash\n",
    "\n",
    "# Plot translations (mm)\n",
    "fsl_tsplot -i my_bold_mcf.par \\\n",
    "-t 'MCFLIRT estimated translations (mm)' \\\n",
    "-u 1 --start=4 --finish=6 -a x,y,z -w 640 -h 144 -o trans.png "
   ]
  },
  {
   "cell_type": "markdown",
   "metadata": {},
   "source": [
    "![trans](trans.png)"
   ]
  },
  {
   "cell_type": "code",
   "execution_count": 58,
   "metadata": {},
   "outputs": [],
   "source": [
    "%%bash\n",
    "\n",
    "# Plot displacement. Abs=relative to reference vol. Rel=relative to vol n-1.\n",
    "fsl_tsplot -i my_bold_mcf_abs.rms,my_bold_mcf_rel.rms \\\n",
    "-t 'MCFLIRT estimated mean displacement (mm)' \\\n",
    "-u 1 -w 640 -h 144 -a absolute,relative -o disp.png "
   ]
  },
  {
   "cell_type": "markdown",
   "metadata": {},
   "source": [
    "![disp](disp.png)"
   ]
  },
  {
   "cell_type": "markdown",
   "metadata": {},
   "source": [
    "### Question: \n",
    "* How can you tell what the reference volume is from looking at the figures of rotations, translations, and displacement above?\n",
    "* What is the difference between the absolute and relative traces in the mean displacement plot?"
   ]
  },
  {
   "cell_type": "markdown",
   "metadata": {},
   "source": [
    "Notes:"
   ]
  },
  {
   "cell_type": "code",
   "execution_count": 85,
   "metadata": {},
   "outputs": [],
   "source": [
    "%%bash\n",
    "\n",
    "# Let's compare our functional volume from before to after motion correction in FSLview\n",
    "fslview"
   ]
  },
  {
   "cell_type": "code",
   "execution_count": 63,
   "metadata": {},
   "outputs": [],
   "source": [
    "%%bash\n",
    "\n",
    "# Did we get rid of ALL frame wise displacement?\n",
    "# Run the fsl_motion_outliers program on the motion corrected data to get FD post mc\n",
    "# Note you wouldn't typically do this for reporting FD, this is just for visualization\n"
   ]
  },
  {
   "cell_type": "code",
   "execution_count": null,
   "metadata": {},
   "outputs": [],
   "source": [
    "# Python code to get mean FD post mc"
   ]
  },
  {
   "cell_type": "markdown",
   "metadata": {},
   "source": [
    "Plot of FD post mc:"
   ]
  },
  {
   "cell_type": "code",
   "execution_count": null,
   "metadata": {},
   "outputs": [],
   "source": [
    "%%bash\n",
    "\n",
    "# How would we run fsl_motion_outliers to estimate dvars on data motion corrected once?"
   ]
  },
  {
   "cell_type": "markdown",
   "metadata": {},
   "source": [
    "## Slice timing correction in FSL\n",
    "* Slice timing is often done following motion correction\n",
    "* The purpose is to adjust the bold signal in each slice to the best estimate of what it would have been if all the slices could have been acquired at the same time. \n",
    "* In order to do slice timing correction you'll typically need:\n",
    "    * the order of slice acquisition \n",
    "    * the TR\n",
    "    * with some programs you may be able to specify what the reference slice"
   ]
  },
  {
   "cell_type": "code",
   "execution_count": 60,
   "metadata": {},
   "outputs": [
    {
     "name": "stderr",
     "output_type": "stream",
     "text": [
      "***************************************************\n",
      "The following COMPULSORY options have not been set:\n",
      "\t-i,--in\tfilename of input timeseries\n",
      "***************************************************\n",
      "\n",
      "Part of FSL (build 509)\n",
      "slicetimer \n",
      "FMRIB's Interpolation for Slice Timing\n",
      "Copyright(c) 2001-2009, University of Oxford\n",
      "\n",
      "Usage: \n",
      "slicetimer -i <timeseries> [-o <corrected_timeseries>] [options]\n",
      "\n",
      "\n",
      "Compulsory arguments (You MUST set one or more of):\n",
      "\t-i,--in\tfilename of input timeseries\n",
      "\n",
      "Optional arguments (You may optionally specify one or more of):\n",
      "\t-o,--out\tfilename of output timeseries\n",
      "\t-h,--help\tdisplay this message\n",
      "\t-v,--verbose\tswitch on diagnostic messages\n",
      "\t--down\treverse slice indexing (default is: slices were acquired bottom-up)\n",
      "\t-r,--repeat\tSpecify TR of data - default is 3s\n",
      "\t-d,--direction\tdirection of slice acquisition (x=1,y=2,z=3) - default is z\n",
      "\t--odd\tuse interleaved acquisition\n",
      "\t--tcustom\tfilename of single-column slice timings, in fractions of TR, +ve values shift slices forwards in time.\n",
      "\t--tglobal\tglobal shift in fraction of TR, (default is 0)\n",
      "\t--ocustom\tfilename of single-column custom interleave order file (first slice is referred to as 1 not 0)\n",
      "\n",
      "\n"
     ]
    }
   ],
   "source": [
    "%%bash\n",
    "\n",
    "# Usage\n",
    "slicetimer"
   ]
  },
  {
   "cell_type": "code",
   "execution_count": 61,
   "metadata": {},
   "outputs": [],
   "source": [
    "%%bash\n",
    "\n",
    "slicetimer -i my_bold_mcf.nii.gz \\\n",
    "-r 2 \\\n",
    "-o my_bold_mcf_st.nii.gz"
   ]
  },
  {
   "cell_type": "code",
   "execution_count": 65,
   "metadata": {},
   "outputs": [],
   "source": [
    "%%bash\n",
    "\n",
    "# Look at the images, any apparent differences?\n",
    "# Let's make a mask of the motor cortex and plot the timeseries from it to compare with and without st \n",
    "# Name the mask: my_bold_right_mot_mask.nii.gz\n",
    "fslview"
   ]
  },
  {
   "cell_type": "code",
   "execution_count": 77,
   "metadata": {},
   "outputs": [],
   "source": [
    "%%bash\n",
    "\n",
    "# Extract timeseries with fslmeants\n",
    "\n",
    "# With mc only: mcf_right_mot_ts.txt\n",
    "\n",
    "\n",
    "# With mc + st: mcf_st_right_mot_ts.txt\n"
   ]
  },
  {
   "cell_type": "code",
   "execution_count": 79,
   "metadata": {},
   "outputs": [],
   "source": [
    "mcf_mot = pd.read_table('mcf_right_mot_ts.txt', header=None)\n",
    "mcf_st_mot = pd.read_table('mcf_st_right_mot_ts.txt', header=None)"
   ]
  },
  {
   "cell_type": "code",
   "execution_count": 84,
   "metadata": {},
   "outputs": [
    {
     "data": {
      "text/plain": [
       "<matplotlib.legend.Legend at 0x7f510e29e438>"
      ]
     },
     "execution_count": 84,
     "metadata": {},
     "output_type": "execute_result"
    },
    {
     "data": {
      "image/png": "[encoded data removed]",
      "text/plain": [
       "<matplotlib.figure.Figure at 0x7f510e2c6710>"
      ]
     },
     "metadata": {},
     "output_type": "display_data"
    }
   ],
   "source": [
    "plt.plot(mcf_mot,label='mcf_mot') #plot the variable\n",
    "plt.plot(mcf_st_mot,label='mcf_st_mot',alpha=.5)\n",
    "plt.xlabel('Time (seconds)')\n",
    "plt.ylabel('BOLD')\n",
    "plt.legend(loc='best')"
   ]
  },
  {
   "cell_type": "markdown",
   "metadata": {},
   "source": [
    "# Practice problems"
   ]
  },
  {
   "cell_type": "markdown",
   "metadata": {},
   "source": [
    "### 1. What if we did slice timing correction first?\n",
    "\n",
    "Use what you've learned above to run slice timing first followed by motion correction. It is not uncommon to see this done, so let's see what the effect is on the data by comparing the final estimate of FD with a plot.\n",
    "* Name your slice-time corrected image my_bold_st.nii.gz\n",
    "* Name your slice-time corrected + motion corrected image my_bold_st_mcf.nii.gz"
   ]
  },
  {
   "cell_type": "code",
   "execution_count": 86,
   "metadata": {},
   "outputs": [],
   "source": [
    "%%bash\n",
    "\n",
    "# code to do slice-timing on the raw bold\n",
    "\n"
   ]
  },
  {
   "cell_type": "code",
   "execution_count": 92,
   "metadata": {},
   "outputs": [],
   "source": [
    "%%bash\n",
    "\n",
    "# code to use fsl_motion_outliers to estimate FD on the slice-time corrected func image\n",
    "\n"
   ]
  },
  {
   "cell_type": "code",
   "execution_count": 16,
   "metadata": {},
   "outputs": [],
   "source": [
    "# python code to compare FD from the raw func with FD estimated on the slice-time corrected func"
   ]
  },
  {
   "cell_type": "code",
   "execution_count": null,
   "metadata": {},
   "outputs": [],
   "source": [
    "%%bash\n",
    "\n",
    "# code to do motion correction on st image with mcflirt\n"
   ]
  },
  {
   "cell_type": "code",
   "execution_count": null,
   "metadata": {},
   "outputs": [],
   "source": [
    "%%bash\n",
    "\n",
    "# Plot rotations (radians) of motion on slice-time corrected functional\n"
   ]
  },
  {
   "cell_type": "code",
   "execution_count": null,
   "metadata": {},
   "outputs": [],
   "source": [
    "%%bash \n",
    "\n",
    "# Plot translations (mm) of motion on slice-time corrected functional\n"
   ]
  },
  {
   "cell_type": "code",
   "execution_count": 17,
   "metadata": {},
   "outputs": [],
   "source": [
    "%%bash \n",
    "\n",
    "# Plot displacement (mm) of motion on slice-time corrected functional"
   ]
  },
  {
   "cell_type": "markdown",
   "metadata": {},
   "source": [
    "### 2. Observations"
   ]
  },
  {
   "cell_type": "markdown",
   "metadata": {},
   "source": [
    "a) Was there any obvious difference on FD estimates when doing slice timing first? \n"
   ]
  },
  {
   "cell_type": "markdown",
   "metadata": {},
   "source": [
    "b) Based on the comparison and our discussions, which is better to run first, motion correction or slice timing?"
   ]
  }
 ],
 "metadata": {
  "kernelspec": {
   "display_name": "Python 3",
   "language": "python",
   "name": "python3"
  },
  "language_info": {
   "codemirror_mode": {
    "name": "ipython",
    "version": 3
   },
   "file_extension": ".py",
   "mimetype": "text/x-python",
   "name": "python",
   "nbconvert_exporter": "python",
   "pygments_lexer": "ipython3",
   "version": "3.6.3"
  }
 },
 "nbformat": 4,
 "nbformat_minor": 2
}
