{
 "cells": [
  {
   "cell_type": "markdown",
   "metadata": {},
   "source": [
    "# Lab 05: Motion correction and slice timing\n",
    "\n",
    "The purpose of this lab is to practice correcting for volume-to-volume motion in a functional image series, and to learn about common correction parameters and how to describe them with numbers and figures. We will also practice slice-timing correction, and test its effect on the timeseries data. "
   ]
  },
  {
   "cell_type": "markdown",
   "metadata": {},
   "source": [
    "## Preparation\n",
    "* Import python tools for plotting\n",
    "* Copy functional image from lab 01 into our working directory"
   ]
  },
  {
   "cell_type": "code",
   "execution_count": null,
   "metadata": {},
   "outputs": [],
   "source": [
    "%matplotlib inline\n",
    "import matplotlib.pyplot as plt\n",
    "import pandas as pd\n",
    "from nilearn import plotting\n",
    "from nilearn import image"
   ]
  },
  {
   "cell_type": "code",
   "execution_count": null,
   "metadata": {},
   "outputs": [],
   "source": [
    "%%bash\n",
    "\n",
    "cp ../01-Lab/osfshare/sub-97_task-flanker_bold.nii.gz my_bold.nii.gz"
   ]
  },
  {
   "cell_type": "markdown",
   "metadata": {},
   "source": [
    "## Describing and detecting motion with FSL tools\n",
    "\n",
    "FSL offers a tool to detect motion outliers and to visually inspect motion and related changes in BOLD signal intensity\n",
    "* [FSL Motion Outliers](https://fsl.fmrib.ox.ac.uk/fsl/fslwiki/FSLMotionOutliers)\n",
    "* This will create a dummy variable that codes for volumes possibly corrupted by motion, which can be used to ignore those volumes in our functional image analysis later. "
   ]
  },
  {
   "cell_type": "code",
   "execution_count": null,
   "metadata": {},
   "outputs": [],
   "source": [
    "%%bash\n",
    "\n",
    "# Running the bare bones command like below will output only the confound matrix \n",
    "# The default metric for detecting outliers is refrms (root mean square intensity diffs with referece vol, which is middle volume)\n",
    "fsl_motion_outliers -i my_bold.nii.gz -o my_bold_motion "
   ]
  },
  {
   "cell_type": "code",
   "execution_count": null,
   "metadata": {},
   "outputs": [],
   "source": [
    "%%bash\n",
    "\n",
    "# What do the columns represent?\n",
    "cat my_bold_motion"
   ]
  },
  {
   "cell_type": "code",
   "execution_count": null,
   "metadata": {},
   "outputs": [],
   "source": [
    "%%bash\n",
    "\n",
    "# We can produce figures of the motion by adding the -p flag\n",
    "# What is refrms?\n",
    "fsl_motion_outliers -i my_bold.nii.gz -o my_bold_motion -s refrms_ts -p refrms_plot"
   ]
  },
  {
   "cell_type": "markdown",
   "metadata": {},
   "source": [
    "Plot of refrms:\n",
    "\n",
    "Syntax to plot a .png in the notebook:\n",
    "`![imglabel](filename.png)`"
   ]
  },
  {
   "cell_type": "code",
   "execution_count": null,
   "metadata": {},
   "outputs": [],
   "source": [
    "%%bash\n",
    "\n",
    "# This version of the command will use dvars as the metric for detecting outliers\n",
    "# DVARS: temporal Derivatives, VARS refers to root mean square of variance of global signal timecourse\n",
    "fsl_motion_outliers -i my_bold.nii.gz -o my_bold_motion --dvars -s dvars_ts -p dvars_plot"
   ]
  },
  {
   "cell_type": "markdown",
   "metadata": {},
   "source": [
    "Plot of dvars:"
   ]
  },
  {
   "cell_type": "code",
   "execution_count": null,
   "metadata": {},
   "outputs": [],
   "source": [
    "%%bash\n",
    "\n",
    "# This version of the command will use fd as the metric for detecting outliers\n",
    "# FD stands for: \n",
    "fsl_motion_outliers -i my_bold.nii.gz -o my_bold_motion --fd -s fd_ts -p fd_plot"
   ]
  },
  {
   "cell_type": "markdown",
   "metadata": {},
   "source": [
    "Plot of FD:"
   ]
  },
  {
   "cell_type": "markdown",
   "metadata": {},
   "source": [
    "### Questions:\n",
    "* What are the similarities and differences of the refrms and dvars metrics?\n",
    "    * Similarities:\n",
    "    * Differences: \n",
    "* How does FD differ from both refrms and dvars?\n",
    "    * Which metric is \"closest to the data\" with respect to describing the effects of motion?"
   ]
  },
  {
   "cell_type": "markdown",
   "metadata": {},
   "source": [
    "### Descriptive statistics on motion metrics"
   ]
  },
  {
   "cell_type": "code",
   "execution_count": null,
   "metadata": {},
   "outputs": [],
   "source": [
    "dvars=pd.read_table('dvars_ts',header=None)"
   ]
  },
  {
   "cell_type": "code",
   "execution_count": null,
   "metadata": {},
   "outputs": [],
   "source": [
    "# Preview first 5 values in timeseries\n",
    "dvars.head()"
   ]
  },
  {
   "cell_type": "code",
   "execution_count": null,
   "metadata": {},
   "outputs": [],
   "source": [
    "# Descriptives\n",
    "dvars.describe()"
   ]
  },
  {
   "cell_type": "code",
   "execution_count": null,
   "metadata": {},
   "outputs": [],
   "source": [
    "dvars.mean()"
   ]
  },
  {
   "cell_type": "markdown",
   "metadata": {},
   "source": [
    "### Practice: what is the mean fd ?"
   ]
  },
  {
   "cell_type": "code",
   "execution_count": null,
   "metadata": {},
   "outputs": [],
   "source": [
    "# Python code\n"
   ]
  },
  {
   "cell_type": "markdown",
   "metadata": {},
   "source": [
    "## Motion correction tools in FSL\n",
    "\n",
    "mcflirt is the basic motion correction tool provided by FSL\n",
    "* [User guide](https://fsl.fmrib.ox.ac.uk/fsl/fslwiki/MCFLIRT)"
   ]
  },
  {
   "cell_type": "code",
   "execution_count": null,
   "metadata": {},
   "outputs": [],
   "source": [
    "%%bash\n",
    "\n",
    "# Look at usage for mcflirt\n",
    "mcflirt"
   ]
  },
  {
   "cell_type": "code",
   "execution_count": null,
   "metadata": {},
   "outputs": [],
   "source": [
    "%%bash\n",
    "\n",
    "# Example mcflirt call with defaults\n",
    "# Input does not have to be skull stripped\n",
    "# Default cost function is normalized correlation\n",
    "# Why is the refvol 157?\n",
    "\n",
    "mcflirt -in my_bold \\\n",
    "-out my_bold_mcf \\\n",
    "-cost normcorr \\\n",
    "-refvol 157 \\\n",
    "-mats -plots \\\n",
    "-rmsrel -rmsabs -spline_final "
   ]
  },
  {
   "cell_type": "markdown",
   "metadata": {},
   "source": [
    "Notes about mcflirt\n",
    "* mats gives us a directory of .mat files, what do these represent?\n",
    "* {out}.par is a text file with 6 columes, the first three columns are rotations for x,y,z and last three are translations for x,y,z\n",
    "* Informative [old post](https://www.jiscmail.ac.uk/cgi-bin/webadmin?A2=fsl;cda6e2ea.1112) about the relation between the .MAT files and the .par parameters"
   ]
  },
  {
   "cell_type": "code",
   "execution_count": null,
   "metadata": {},
   "outputs": [],
   "source": [
    "!cat my_bold_mcf.par"
   ]
  },
  {
   "cell_type": "code",
   "execution_count": null,
   "metadata": {},
   "outputs": [],
   "source": [
    "%%bash\n",
    "\n",
    "# FSL has a simple plotting command for timeseries data\n",
    "fsl_tsplot"
   ]
  },
  {
   "cell_type": "code",
   "execution_count": null,
   "metadata": {},
   "outputs": [],
   "source": [
    "%%bash\n",
    "\n",
    "# Plot rotations (radians)\n",
    "fsl_tsplot -i my_bold_mcf.par \\\n",
    "-t 'MCFLIRT estimated rotations (radians)' \\\n",
    "-u 1 --start=1 --finish=3 -a x,y,z -w 640 -h 144 -o rot.png "
   ]
  },
  {
   "cell_type": "markdown",
   "metadata": {},
   "source": [
    "Plot of rotations: \n"
   ]
  },
  {
   "cell_type": "code",
   "execution_count": null,
   "metadata": {},
   "outputs": [],
   "source": [
    "%%bash\n",
    "\n",
    "# Plot translations (mm)\n",
    "fsl_tsplot -i my_bold_mcf.par \\\n",
    "-t 'MCFLIRT estimated translations (mm)' \\\n",
    "-u 1 --start=4 --finish=6 -a x,y,z -w 640 -h 144 -o trans.png "
   ]
  },
  {
   "cell_type": "markdown",
   "metadata": {},
   "source": [
    "Plot of translations:"
   ]
  },
  {
   "cell_type": "code",
   "execution_count": null,
   "metadata": {},
   "outputs": [],
   "source": [
    "%%bash\n",
    "\n",
    "# Plot displacement. Abs=relative to reference vol. Rel=relative to vol n-1.\n",
    "fsl_tsplot -i my_bold_mcf_abs.rms,my_bold_mcf_rel.rms \\\n",
    "-t 'MCFLIRT estimated mean displacement (mm)' \\\n",
    "-u 1 -w 640 -h 144 -a absolute,relative -o disp.png "
   ]
  },
  {
   "cell_type": "markdown",
   "metadata": {},
   "source": [
    "Plot of displacements:"
   ]
  },
  {
   "cell_type": "markdown",
   "metadata": {},
   "source": [
    "### Question: \n",
    "* How can you tell what the reference volume is from looking at the figures of rotations, translations, and displacement above?\n",
    "* What is the difference between the absolute and relative traces in the mean displacement plot?"
   ]
  },
  {
   "cell_type": "markdown",
   "metadata": {},
   "source": [
    "Notes:"
   ]
  },
  {
   "cell_type": "code",
   "execution_count": null,
   "metadata": {},
   "outputs": [],
   "source": [
    "%%bash\n",
    "\n",
    "# Let's compare our functional volume from before to after motion correction in FSLview\n",
    "fslview"
   ]
  },
  {
   "cell_type": "code",
   "execution_count": null,
   "metadata": {},
   "outputs": [],
   "source": [
    "%%bash\n",
    "\n",
    "# Did we get rid of ALL frame wise displacement?\n",
    "# Run the fsl_motion_outliers program on the motion corrected data to get FD post mc\n",
    "# Note you wouldn't typically do this for reporting FD, this is just for visualization\n"
   ]
  },
  {
   "cell_type": "code",
   "execution_count": null,
   "metadata": {},
   "outputs": [],
   "source": [
    "# Python code to get mean FD post mc"
   ]
  },
  {
   "cell_type": "markdown",
   "metadata": {},
   "source": [
    "Plot of FD post mc:"
   ]
  },
  {
   "cell_type": "code",
   "execution_count": null,
   "metadata": {},
   "outputs": [],
   "source": [
    "%%bash\n",
    "\n",
    "# How would we run fsl_motion_outliers to estimate dvars on data motion corrected once?"
   ]
  },
  {
   "cell_type": "markdown",
   "metadata": {},
   "source": [
    "## Slice timing correction in FSL\n",
    "* Slice timing is often done following motion correction\n",
    "* The purpose is to adjust the bold signal in each slice to the best estimate of what it would have been if all the slices could have been acquired at the same time. \n",
    "* In order to do slice timing correction you'll typically need:\n",
    "    * the order of slice acquisition \n",
    "    * the TR\n",
    "    * with some programs you may be able to specify what the reference slice"
   ]
  },
  {
   "cell_type": "code",
   "execution_count": null,
   "metadata": {},
   "outputs": [],
   "source": [
    "%%bash\n",
    "\n",
    "# Usage\n",
    "slicetimer"
   ]
  },
  {
   "cell_type": "code",
   "execution_count": null,
   "metadata": {},
   "outputs": [],
   "source": [
    "%%bash\n",
    "\n",
    "slicetimer -i my_bold_mcf.nii.gz \\\n",
    "-r 2 \\\n",
    "-o my_bold_mcf_st.nii.gz"
   ]
  },
  {
   "cell_type": "code",
   "execution_count": null,
   "metadata": {},
   "outputs": [],
   "source": [
    "%%bash\n",
    "\n",
    "# Look at the images, any apparent differences?\n",
    "# Let's make a mask of the motor cortex and plot the timeseries from it to compare with and without st \n",
    "# Name the mask: my_bold_right_mot_mask.nii.gz\n",
    "fslview"
   ]
  },
  {
   "cell_type": "code",
   "execution_count": null,
   "metadata": {},
   "outputs": [],
   "source": [
    "%%bash\n",
    "\n",
    "# Extract timeseries with fslmeants\n",
    "\n",
    "# With mc only: mcf_right_mot_ts.txt\n",
    "\n",
    "\n",
    "# With mc + st: mcf_st_right_mot_ts.txt\n"
   ]
  },
  {
   "cell_type": "code",
   "execution_count": null,
   "metadata": {},
   "outputs": [],
   "source": [
    "mcf_mot = pd.read_table('mcf_right_mot_ts.txt', header=None)\n",
    "mcf_st_mot = pd.read_table('mcf_st_right_mot_ts.txt', header=None)"
   ]
  },
  {
   "cell_type": "code",
   "execution_count": null,
   "metadata": {},
   "outputs": [],
   "source": [
    "plt.plot(mcf_mot,label='mcf_mot') #plot the variable\n",
    "plt.plot(mcf_st_mot,label='mcf_st_mot',alpha=.5)\n",
    "plt.xlabel('Time (seconds)')\n",
    "plt.ylabel('BOLD')\n",
    "plt.legend(loc='best')"
   ]
  },
  {
   "cell_type": "markdown",
   "metadata": {},
   "source": [
    "# Practice problems"
   ]
  },
  {
   "cell_type": "markdown",
   "metadata": {},
   "source": [
    "### 1. What if we did slice timing correction first?\n",
    "\n",
    "Use what you've learned above to run slice timing first followed by motion correction. It is not uncommon to see this done, so let's see what the effect is on the data by comparing the final estimate of FD with a plot.\n",
    "* Name your slice-time corrected image my_bold_st.nii.gz\n",
    "* Name your slice-time corrected + motion corrected image my_bold_st_mcf.nii.gz"
   ]
  },
  {
   "cell_type": "code",
   "execution_count": null,
   "metadata": {},
   "outputs": [],
   "source": [
    "%%bash\n",
    "\n",
    "# code to do slice-timing on the raw bold\n",
    "\n"
   ]
  },
  {
   "cell_type": "code",
   "execution_count": null,
   "metadata": {},
   "outputs": [],
   "source": [
    "%%bash\n",
    "\n",
    "# code to use fsl_motion_outliers to estimate FD on the slice-time corrected func image\n",
    "\n"
   ]
  },
  {
   "cell_type": "code",
   "execution_count": null,
   "metadata": {},
   "outputs": [],
   "source": [
    "# python code to compare FD from the raw func with FD estimated on the slice-time corrected func"
   ]
  },
  {
   "cell_type": "code",
   "execution_count": null,
   "metadata": {},
   "outputs": [],
   "source": [
    "%%bash\n",
    "\n",
    "# code to do motion correction on st image with mcflirt\n"
   ]
  },
  {
   "cell_type": "code",
   "execution_count": null,
   "metadata": {},
   "outputs": [],
   "source": [
    "%%bash\n",
    "\n",
    "# Plot rotations (radians) of motion on slice-time corrected functional\n"
   ]
  },
  {
   "cell_type": "code",
   "execution_count": null,
   "metadata": {},
   "outputs": [],
   "source": [
    "%%bash \n",
    "\n",
    "# Plot translations (mm) of motion on slice-time corrected functional\n"
   ]
  },
  {
   "cell_type": "code",
   "execution_count": null,
   "metadata": {},
   "outputs": [],
   "source": [
    "%%bash \n",
    "\n",
    "# Plot displacement (mm) of motion on slice-time corrected functional"
   ]
  },
  {
   "cell_type": "markdown",
   "metadata": {},
   "source": [
    "### 2. Observations"
   ]
  },
  {
   "cell_type": "markdown",
   "metadata": {},
   "source": [
    "a) Was there any obvious difference on FD estimates when doing slice timing first? \n"
   ]
  },
  {
   "cell_type": "markdown",
   "metadata": {},
   "source": [
    "b) Based on the comparison and our discussions, which is better to run first, motion correction or slice timing?"
   ]
  }
 ],
 "metadata": {
  "kernelspec": {
   "display_name": "Python 3",
   "language": "python",
   "name": "python3"
  },
  "language_info": {
   "codemirror_mode": {
    "name": "ipython",
    "version": 3
   },
   "file_extension": ".py",
   "mimetype": "text/x-python",
   "name": "python",
   "nbconvert_exporter": "python",
   "pygments_lexer": "ipython3",
   "version": "3.6.3"
  }
 },
 "nbformat": 4,
 "nbformat_minor": 2
}
