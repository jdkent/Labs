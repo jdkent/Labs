{
 "cells": [
  {
   "cell_type": "markdown",
   "metadata": {},
   "source": [
    "# Lab 02: Basic image processing\n",
    "\n",
    "The purpose of this lab is to introduce programs from FSL and AFNI for doing math on images in space and/or time. We will also learn how to summarize information you extract from an image into variables that you can then plot to help understand what just happened to the image."
   ]
  },
  {
   "cell_type": "markdown",
   "metadata": {},
   "source": [
    "## Preparation \n",
    "* import python tools for plotting\n",
    "* learn how to make common plots of timeseries data and images that will be helpful later"
   ]
  },
  {
   "cell_type": "code",
   "execution_count": null,
   "metadata": {},
   "outputs": [],
   "source": [
    "import matplotlib.pyplot as plt\n",
    "import seaborn as sns\n",
    "import numpy as np\n",
    "from nilearn import plotting\n",
    "from nilearn import image"
   ]
  },
  {
   "cell_type": "code",
   "execution_count": null,
   "metadata": {},
   "outputs": [],
   "source": [
    "%matplotlib inline"
   ]
  },
  {
   "cell_type": "markdown",
   "metadata": {},
   "source": [
    "### Plot a timeseries"
   ]
  },
  {
   "cell_type": "code",
   "execution_count": null,
   "metadata": {},
   "outputs": [],
   "source": [
    "# the np below refers to the numpy toolbox we imported above and renamed to np\n",
    "random_timeseries = np.random.rand(180,1)  # fill matrix with numbers, 180 cols by 1 row\n",
    "# plt refers to the plt matplotlib toolbox we imported above and renamed to plt\n",
    "plt.plot(random_timeseries) # plot the variable\n",
    "plt.xlabel('xlabel')\n",
    "plt.ylabel('ylabel')"
   ]
  },
  {
   "cell_type": "code",
   "execution_count": null,
   "metadata": {},
   "outputs": [],
   "source": [
    "# how to get help on a python command\n",
    "plt.plot?"
   ]
  },
  {
   "cell_type": "markdown",
   "metadata": {},
   "source": [
    "### Example: a plot of the two timeseries we've made with a legend and x- and y- axes labeled as time and intensity respectively"
   ]
  },
  {
   "cell_type": "code",
   "execution_count": null,
   "metadata": {},
   "outputs": [],
   "source": [
    "# Answer\n",
    "plt.plot(random_timeseries,label='timeseries1') # plot the variable\n",
    "plt.plot(random_timeseries2,label='timeseries1') # plot the variable\n",
    "plt.legend(loc='upper right')\n",
    "plt.xlabel('time')\n",
    "plt.ylabel('intensity')"
   ]
  },
  {
   "cell_type": "markdown",
   "metadata": {},
   "source": [
    "### Plot a 3D image"
   ]
  },
  {
   "cell_type": "code",
   "execution_count": null,
   "metadata": {},
   "outputs": [],
   "source": [
    "# plot an image to view:\n",
    "# img=\"condA_pre_gt_post_4D_m_susan_tstat1_thrp.99_neg.nii.gz\"\n",
    "img=\"../01-Lab/osfshare/sub-97-T1w_brain.nii.gz\"\n",
    "# plot just the image...\n",
    "display=plotting.plot_anat(img, display_mode=\"ortho\")\n",
    "# learn about this plotting tool here:\n",
    "# http://nilearn.github.io/modules/generated/nilearn.plotting.plot_anat.html#nilearn.plotting.plot_anat"
   ]
  },
  {
   "cell_type": "markdown",
   "metadata": {},
   "source": [
    "### Plot a 3D image with a \"mask\" over top"
   ]
  },
  {
   "cell_type": "code",
   "execution_count": null,
   "metadata": {},
   "outputs": [],
   "source": [
    "img_wskull=\"../01-Lab/osfshare/sub-97-T1w_defaced.nii.gz\"\n",
    "img_mask=\"../01-Lab/osfshare/sub-97-T1w_brain_mask.nii.gz\"\n",
    "display=plotting.plot_roi(img_mask,img_wskull, display_mode=\"ortho\")"
   ]
  },
  {
   "cell_type": "markdown",
   "metadata": {},
   "source": [
    "### <font color=green> Practice: </font>\n",
    "    * Use FSLview to find a coordinate in the right prefrontal cortex for the T1 and functional image, and then plot the images below with the cross-hair centered at the coordinate of interest. \n",
    "    * Another common plot of interest is to specify a row of axial images.  "
   ]
  },
  {
   "cell_type": "code",
   "execution_count": null,
   "metadata": {},
   "outputs": [],
   "source": [
    "# Your code here..."
   ]
  },
  {
   "cell_type": "markdown",
   "metadata": {},
   "source": [
    "## Introducing utilities to do math on images\n",
    "<br>\n",
    "Today we'll get a feel for the programs in FSL that allow you to easily do math on images. Below are common mathematical operations that are done to images during image quality description and preprocessing:\n",
    "* Thresholding\n",
    "* Extract values with a mask\n",
    "* Plot values extracted from an image in jupyter"
   ]
  },
  {
   "cell_type": "markdown",
   "metadata": {},
   "source": [
    "### fslmaths"
   ]
  },
  {
   "cell_type": "code",
   "execution_count": null,
   "metadata": {},
   "outputs": [],
   "source": [
    "%%bash\n",
    "fslmaths"
   ]
  },
  {
   "cell_type": "markdown",
   "metadata": {},
   "source": [
    "### Use fslmaths to \"mask\" an image"
   ]
  },
  {
   "cell_type": "code",
   "execution_count": null,
   "metadata": {},
   "outputs": [],
   "source": [
    "%%bash\n",
    "# Multiply our mask with our skulled image\n",
    "fslmaths ../01-Lab/osfshare/sub-97-T1w_defaced.nii.gz -mul ../01-Lab/osfshare/sub-97-T1w_brain_mask.nii.gz ../01-Lab/osfshare/sub-97-T1w_masked.nii.gz"
   ]
  },
  {
   "cell_type": "code",
   "execution_count": null,
   "metadata": {},
   "outputs": [],
   "source": [
    "%%bash\n",
    "# View them all together in fslview\n",
    "fslview ../01-Lab/osfshare/sub-97-T1w_defaced.nii.gz ../01-Lab/osfshare/sub-97-T1w_brain_mask.nii.gz ../01-Lab/osfshare/sub-97-T1w_masked.nii.gz &"
   ]
  },
  {
   "cell_type": "markdown",
   "metadata": {},
   "source": [
    "### <font color=green> Practice: </font> \n",
    "What if we want to make an image of them overlayed to put in the notebook for easy sharing with collaborator or advisor? Try plotting tools above to do the same thing in line."
   ]
  },
  {
   "cell_type": "code",
   "execution_count": null,
   "metadata": {},
   "outputs": [],
   "source": [
    "# use python plotting tools\n"
   ]
  },
  {
   "cell_type": "markdown",
   "metadata": {},
   "source": [
    "### fslstats"
   ]
  },
  {
   "cell_type": "code",
   "execution_count": null,
   "metadata": {},
   "outputs": [],
   "source": [
    "%%bash\n",
    "fslstats "
   ]
  },
  {
   "cell_type": "markdown",
   "metadata": {},
   "source": [
    "### use fslstats to get summary statistics in your image within a mask"
   ]
  },
  {
   "cell_type": "code",
   "execution_count": null,
   "metadata": {},
   "outputs": [],
   "source": [
    "%%bash\n",
    "# Let's pull out the mean intensity of our structural image within our mask\n",
    "# fslstats with no mask\n",
    "# Reads: with this image, take mean of non-zero voxels\n",
    "fslstats ../01-Lab/osfshare/sub-97-T1w_defaced.nii.gz -M"
   ]
  },
  {
   "cell_type": "code",
   "execution_count": null,
   "metadata": {},
   "outputs": [],
   "source": [
    "%%bash\n",
    "# fslstats with mask\n",
    "# Reads: with this image, apply mask, then take mean of non-zero voxels\n",
    "fslstats ../01-Lab/osfshare/sub-97-T1w_defaced.nii.gz -k ../01-Lab/osfshare/sub-97-T1w_brain_mask.nii.gz -M"
   ]
  },
  {
   "cell_type": "markdown",
   "metadata": {},
   "source": [
    "### <font color = green> Practice: </font> \n",
    "Make a mask on the functional image using fslmaths commands"
   ]
  },
  {
   "cell_type": "code",
   "execution_count": null,
   "metadata": {},
   "outputs": [],
   "source": [
    "%%bash\n",
    "# Hint, first make an image that is the mean of all the functional volumes\n",
    "# Your code here...\n",
    "\n"
   ]
  },
  {
   "cell_type": "code",
   "execution_count": null,
   "metadata": {},
   "outputs": [],
   "source": [
    "%%bash\n",
    "# Binarising the mask after thresholding:\n",
    "\n"
   ]
  },
  {
   "cell_type": "code",
   "execution_count": null,
   "metadata": {},
   "outputs": [],
   "source": [
    "# View your mask on the mean functional\n",
    "fmask=\"your_file_name_mask.nii.gz\"\n",
    "fmean=\"your_file_name_meanfunc.nii.gz\"\n",
    "display=plotting.plot_roi(fmask,fmean, display_mode=\"ortho\")"
   ]
  },
  {
   "cell_type": "markdown",
   "metadata": {},
   "source": [
    "### <font color=green> Practice: Make a mask on the functional image using the fslview GUI </font> \n",
    "\n",
    "Steps: \n",
    "* Open your base image for the mask in FSLview\n",
    "* File menu: File> Create Mask\n",
    "* GUI toolbar: Select pencil to activate mask tools\n",
    "* GUI toolbar: Set pencil width to 5 and value to 1\n",
    "* Draw your mask on contiguous axial slices\n",
    "* When done, File menu: Save as.."
   ]
  },
  {
   "cell_type": "code",
   "execution_count": null,
   "metadata": {},
   "outputs": [],
   "source": [
    "%%bash\n",
    "fslview &"
   ]
  },
  {
   "cell_type": "markdown",
   "metadata": {},
   "source": [
    "### Extract a timeseries using fslmeants and plot it"
   ]
  },
  {
   "cell_type": "code",
   "execution_count": null,
   "metadata": {},
   "outputs": [],
   "source": [
    "%%bash\n",
    "fslmeants"
   ]
  },
  {
   "cell_type": "code",
   "execution_count": null,
   "metadata": {},
   "outputs": [],
   "source": [
    "%%bash\n",
    "#practice use of fslmeants with our mask and functional image\n"
   ]
  },
  {
   "cell_type": "code",
   "execution_count": null,
   "metadata": {},
   "outputs": [],
   "source": [
    "%%bash\n",
    "ls"
   ]
  },
  {
   "cell_type": "code",
   "execution_count": null,
   "metadata": {
    "scrolled": true
   },
   "outputs": [],
   "source": [
    "# use the python tools in pandas to load the text file and then we can plot as above\n",
    "import pandas as pd\n",
    "# https://pandas.pydata.org/pandas-docs/stable/generated/pandas.read_table.html\n",
    "# load a text file and plot it\n",
    "df = pd.read_table('top10_meants.txt', header=None)\n",
    "plt.plot(df) #plot the variable\n",
    "plt.xlabel('Time (seconds)')\n",
    "plt.ylabel('BOLD')"
   ]
  },
  {
   "cell_type": "markdown",
   "metadata": {},
   "source": [
    "Our observations/notes/questions:\n",
    "\n",
    "\n",
    "\n"
   ]
  },
  {
   "cell_type": "markdown",
   "metadata": {},
   "source": [
    "## Practice Problems"
   ]
  },
  {
   "cell_type": "markdown",
   "metadata": {},
   "source": [
    "*1)* Use _fslmaths_ to make a mask of the regions in the functional image that are in the highest 10% of voxels with regard to their standard deviation. Use the bash cell below to show your code to make the mask, and use the python cell to plot your mask on your mean functional image.  "
   ]
  },
  {
   "cell_type": "code",
   "execution_count": null,
   "metadata": {},
   "outputs": [],
   "source": [
    "%%bash\n",
    "# your code here\n",
    "\n"
   ]
  },
  {
   "cell_type": "code",
   "execution_count": null,
   "metadata": {},
   "outputs": [],
   "source": [
    "# python code for plotting\n",
    "\n"
   ]
  },
  {
   "cell_type": "markdown",
   "metadata": {},
   "source": [
    "*2)* Use _FSLview_ to make an ROI that is outside the brain. Use the python cell to plot your mask on your mean functional image."
   ]
  },
  {
   "cell_type": "code",
   "execution_count": null,
   "metadata": {},
   "outputs": [],
   "source": [
    "%%bash\n"
   ]
  },
  {
   "cell_type": "code",
   "execution_count": null,
   "metadata": {},
   "outputs": [],
   "source": [
    "# python code for plotting\n"
   ]
  },
  {
   "cell_type": "markdown",
   "metadata": {},
   "source": [
    "*3)* Use _fslmeants_ to output the mean timeseries from the masks you've made on the functional image that are inside the brain, high in standard deviation, and outside the brain. Use the plotting tools shown above to plot those timeseries data on the same plot and/or in separate plots below. Write out two to three observations about their similarities and differences. "
   ]
  },
  {
   "cell_type": "code",
   "execution_count": null,
   "metadata": {},
   "outputs": [],
   "source": [
    "%%bash\n",
    "# fslmeants command\n"
   ]
  },
  {
   "cell_type": "code",
   "execution_count": null,
   "metadata": {},
   "outputs": [],
   "source": [
    "# python code for plotting\n"
   ]
  },
  {
   "cell_type": "code",
   "execution_count": null,
   "metadata": {},
   "outputs": [],
   "source": [
    "# python code for plotting\n"
   ]
  },
  {
   "cell_type": "code",
   "execution_count": null,
   "metadata": {},
   "outputs": [],
   "source": [
    "# python code for plotting\n"
   ]
  },
  {
   "cell_type": "markdown",
   "metadata": {},
   "source": [
    "Observations: "
   ]
  }
 ],
 "metadata": {
  "kernelspec": {
   "display_name": "Python 3",
   "language": "python",
   "name": "python3"
  },
  "language_info": {
   "codemirror_mode": {
    "name": "ipython",
    "version": 3
   },
   "file_extension": ".py",
   "mimetype": "text/x-python",
   "name": "python",
   "nbconvert_exporter": "python",
   "pygments_lexer": "ipython3",
   "version": "3.6.3"
  }
 },
 "nbformat": 4,
 "nbformat_minor": 2
}
