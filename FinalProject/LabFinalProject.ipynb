{
 "cells": [
  {
   "cell_type": "markdown",
   "metadata": {},
   "source": [
    "# Final Project"
   ]
  },
  {
   "cell_type": "markdown",
   "metadata": {},
   "source": [
    "The goal of the final project is to analyze functional imaging data from start to finish using the skills you learned in class. Below are the sections we would like you to complete as you work through the analyses.\n",
    "\n",
    "The project is worth 20 points based on the following components:\n",
    "* Rationale and discussion\n",
    "* Description of procedures, imaging acquisition, and quality control\n",
    "* Preprocessing \n",
    "* First-level analyses\n",
    "* Group analyses and inference\n",
    "\n",
    "Each component is worth 4 points (4=all complete and accurate, 3=several minor errors, 2=several major errors and/or many minor errors, 1=many major errors or incomplete)."
   ]
  },
  {
   "cell_type": "markdown",
   "metadata": {},
   "source": [
    "## Introduction\n",
    "* Use a markdown cell below to describe the rationale for your analyses. Why are you interested in this task, and do you have predictions or is this an exploratory analyses? Include 2 key references. (aim for 250-500 words, not including the references)."
   ]
  },
  {
   "cell_type": "markdown",
   "metadata": {},
   "source": []
  },
  {
   "cell_type": "markdown",
   "metadata": {},
   "source": [
    "## Methods"
   ]
  },
  {
   "cell_type": "markdown",
   "metadata": {},
   "source": [
    "### Procedures\n",
    "* Describe the procedures for data collection, starting with consent through the end of the imaging session. \n",
    "* If you ran a task in the scanner, describe your task design and rationale for your design with respect to whether you are emphasizing detection or estimation. Be sure to explain the instructions the participants received, what the stimuli are, their timing, the method of response, the presentation software, what behavioral variables/conditions are of interest, and your contrast(s) of interest for fMRI analyses."
   ]
  },
  {
   "cell_type": "markdown",
   "metadata": {},
   "source": [
    "**Procedures:** "
   ]
  },
  {
   "cell_type": "code",
   "execution_count": 1,
   "metadata": {
    "collapsed": true
   },
   "outputs": [],
   "source": [
    "# Use this code block to cat out the top 5 lines of your event files for each regressor"
   ]
  },
  {
   "cell_type": "markdown",
   "metadata": {},
   "source": [
    "### Imaging acquisition\n",
    "\n",
    "Refer to Table [D.2 in COBIDAS](http://www.humanbrainmapping.org/files/2016/COBIDASreport.pdf) on MRI Acquisition to guide what details to report below:\n",
    "\n",
    "* Describe the scanner and coil\n",
    "* Parameters for your T1 images:\n",
    "* Parameters for your T2* images:"
   ]
  },
  {
   "cell_type": "markdown",
   "metadata": {},
   "source": [
    "### Quality control\n",
    "* How did you check for acceptable structural data?\n",
    "    * Describe here \n",
    "* How did you check for acceptable functional data? \n",
    "    * Describe here"
   ]
  },
  {
   "cell_type": "markdown",
   "metadata": {},
   "source": [
    "#### Example T1 and EPI images from your data collection:"
   ]
  },
  {
   "cell_type": "markdown",
   "metadata": {},
   "source": [
    "    "
   ]
  },
  {
   "cell_type": "markdown",
   "metadata": {},
   "source": [
    "#### Motion during the task"
   ]
  },
  {
   "cell_type": "markdown",
   "metadata": {},
   "source": [
    "Provide figure links to the motion during the task for each subject:"
   ]
  },
  {
   "cell_type": "markdown",
   "metadata": {},
   "source": []
  },
  {
   "cell_type": "markdown",
   "metadata": {},
   "source": [
    "### Preprocessing\n",
    "* Describe your preprocessing steps, use Table [D.3. in COBIDAS](http://www.humanbrainmapping.org/files/2016/COBIDASreport.pdf) as a guide.\n",
    "* Include a description of your registration along with a figure of the registration overlays for an example subject."
   ]
  },
  {
   "cell_type": "markdown",
   "metadata": {},
   "source": []
  },
  {
   "cell_type": "markdown",
   "metadata": {},
   "source": [
    "### Statistical modeling for each subject\n",
    "* Describe your first-level statistical model including the type of HRF you used for convolution, what your regressors were and which were convolved, the rationale for your regressors, the model type, and model settings (see [Table D.4 in COBIDAS](http://www.humanbrainmapping.org/files/2016/COBIDASreport.pdf)).\n",
    "* Include a figure of your final design file in this section."
   ]
  },
  {
   "cell_type": "markdown",
   "metadata": {},
   "source": []
  },
  {
   "cell_type": "markdown",
   "metadata": {},
   "source": [
    "### Group analysis and Results\n",
    "* Describe your between-subjects analysis model, and how you thresholded final statistical maps to determine where there is statistically signficant brain activation for your contrasts. \n",
    "* Describe what you found and how it relates to your predictions. Please include some figures to highlight your results. "
   ]
  },
  {
   "cell_type": "code",
   "execution_count": null,
   "metadata": {
    "collapsed": true
   },
   "outputs": [],
   "source": []
  },
  {
   "cell_type": "markdown",
   "metadata": {},
   "source": [
    "## Discussion: highlights and limitations\n",
    "* What is most interesting about your results?\n",
    "* What are the biggest limitations of your results? Looking back, would you change anything about your design or analysis to better answer the question you started with?"
   ]
  },
  {
   "cell_type": "code",
   "execution_count": null,
   "metadata": {
    "collapsed": true
   },
   "outputs": [],
   "source": []
  }
 ],
 "metadata": {
  "kernelspec": {
   "display_name": "Bash",
   "language": "bash",
   "name": "bash"
  },
  "language_info": {
   "codemirror_mode": "shell",
   "file_extension": ".sh",
   "mimetype": "text/x-sh",
   "name": "bash"
  }
 },
 "nbformat": 4,
 "nbformat_minor": 2
}
