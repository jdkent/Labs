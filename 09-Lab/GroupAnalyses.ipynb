{
 "cells": [
  {
   "cell_type": "markdown",
   "metadata": {},
   "source": [
    "# Group analyses\n",
    "\n",
    "The goals of this lab are \n",
    "* to review the output from single-subject analyses\n",
    "* to understand how these output are used in between-subject anaylysis\n",
    "* understand how to set up the design matrix and contrasts for common types of designs"
   ]
  },
  {
   "cell_type": "markdown",
   "metadata": {},
   "source": [
    "## Preparation\n",
    "* Download data that includes 3 subjects that did the event-related flanker task, template design files, and a complete group analysis directory."
   ]
  },
  {
   "cell_type": "code",
   "execution_count": 1,
   "metadata": {},
   "outputs": [],
   "source": [
    "# download data\n",
    "wget --quiet -O 09-Lab_data.tar.gz https://osf.io/nbytx/download &&\\\n",
    "tar -xf 09-Lab_data.tar.gz &&\\\n",
    "rm 09-Lab_data.tar.gz"
   ]
  },
  {
   "cell_type": "markdown",
   "metadata": {},
   "source": [
    "## First-level output \n",
    "* We learned that FSL uses a staged approach for mixed effects analyses. Let's review which files from the first-level are used for the between-subjects analyses."
   ]
  },
  {
   "cell_type": "markdown",
   "metadata": {},
   "source": [
    "![fig](img/featdirs1.png)"
   ]
  },
  {
   "cell_type": "markdown",
   "metadata": {},
   "source": [
    "**Check your understanding:**\n",
    "* What information is reflected in the cope files?\n",
    "* What information is reflected in the varcope files?\n",
    "* When is the reg_standard/stats directory made?\n",
    "* Why is the reg_standard/stats directory needed?"
   ]
  },
  {
   "cell_type": "markdown",
   "metadata": {},
   "source": [
    "## Between-subjects level output\n",
    "* Since each participant only had one fMRI run, our second-level analysis takes as input the output of the first-level individual analyses\n",
    "* [FSL DOCS](https://fsl.fmrib.ox.ac.uk/fsl/fslwiki/FEAT/UserGuide#Higher-Level_FEAT_Output) on higher level output\n",
    "* Study the diagram below and let's explore our .gfeat output in comparison"
   ]
  },
  {
   "cell_type": "markdown",
   "metadata": {},
   "source": [
    "![fig](img/featdirs2.png)"
   ]
  },
  {
   "cell_type": "code",
   "execution_count": 3,
   "metadata": {},
   "outputs": [
    {
     "name": "stdout",
     "output_type": "stream",
     "text": [
      "bash: fg: %%bash: no such job\n"
     ]
    }
   ],
   "source": [
    "# opens the FEAT GUI directly\n",
    "Feat"
   ]
  },
  {
   "cell_type": "code",
   "execution_count": null,
   "metadata": {},
   "outputs": [],
   "source": [
    "# examine outputs in the .gfeat directory\n",
    "fslview"
   ]
  },
  {
   "cell_type": "markdown",
   "metadata": {},
   "source": [
    "**Check your understanding:**\n",
    "* How could you load the group analysis design file in the GUI?\n",
    "* What information do the cope and varcope files now reflect?\n",
    "* Which file would you load into fslview or plot with nilearn to see which regions showed statistically signficant activation for the incongruent>baseline contrast?\n",
    "    * Which text file lists the clusters and coordinates of peak activation for these statistically significant clusters?\n",
    "    * Which nifti files give you a map of \"labels\" for each cluster?\n",
    "    "
   ]
  },
  {
   "cell_type": "code",
   "execution_count": null,
   "metadata": {},
   "outputs": [],
   "source": []
  }
 ],
 "metadata": {
  "kernelspec": {
   "display_name": "Bash",
   "language": "bash",
   "name": "bash"
  },
  "language_info": {
   "codemirror_mode": "shell",
   "file_extension": ".sh",
   "mimetype": "text/x-sh",
   "name": "bash"
  }
 },
 "nbformat": 4,
 "nbformat_minor": 2
}
