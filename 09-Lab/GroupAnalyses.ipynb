{
 "cells": [
  {
   "cell_type": "markdown",
   "metadata": {},
   "source": [
    "# Group analyses\n",
    "\n",
    "The goals of this lab are \n",
    "* to review the output from single-subject analyses\n",
    "* to understand how these output are used in between-subject anaylysis\n",
    "* understand how to set up the design matrix and contrasts for common types of designs"
   ]
  },
  {
   "cell_type": "markdown",
   "metadata": {},
   "source": [
    "## Preparation\n",
    "* Download data that includes 3 subjects that did the event-related flanker task, template design files, and a complete group analysis directory."
   ]
  },
  {
   "cell_type": "code",
   "execution_count": null,
   "metadata": {
    "collapsed": true
   },
   "outputs": [],
   "source": [
    "# download data\n",
    "wget --quiet -O 09-Lab_data.tar.gz https://osf.io/nbytx/download &&\\\n",
    "tar -xf 09-Lab_data.tar.gz &&\\\n",
    "rm 09-Lab_data.tar.gz"
   ]
  },
  {
   "cell_type": "markdown",
   "metadata": {},
   "source": [
    "## First-level output \n",
    "* We learned that FSL uses a staged approach for mixed effects analyses. Let's review which files from the first-level are used for the between-subjects analyses."
   ]
  },
  {
   "cell_type": "markdown",
   "metadata": {},
   "source": [
    "![fig](img/featdirs1.png)"
   ]
  },
  {
   "cell_type": "markdown",
   "metadata": {},
   "source": [
    "**Check your understanding:**\n",
    "* What information is reflected in the cope files?\n",
    "    * fit of bold to a contrast, fit to comparison of conditions\n",
    "* What information is reflected in the varcope files?\n",
    "    * variance associated with a contrast\n",
    "* When is the reg_standard/stats directory made?\n",
    "* Why is the reg_standard/stats directory needed?"
   ]
  },
  {
   "cell_type": "markdown",
   "metadata": {},
   "source": [
    "## Between-subjects level output\n",
    "* Since each participant only had one fMRI run, our second-level analysis takes as input the output of the first-level individual analyses\n",
    "* [FSL DOCS](https://fsl.fmrib.ox.ac.uk/fsl/fslwiki/FEAT/UserGuide#Higher-Level_FEAT_Output) on higher level output\n",
    "* Study the diagram below and let's explore our .gfeat output in comparison"
   ]
  },
  {
   "cell_type": "markdown",
   "metadata": {},
   "source": [
    "![fig](img/featdirs2.png)"
   ]
  },
  {
   "cell_type": "code",
   "execution_count": 7,
   "metadata": {},
   "outputs": [],
   "source": [
    "# opens the FEAT GUI directly\n",
    "Feat"
   ]
  },
  {
   "cell_type": "code",
   "execution_count": null,
   "metadata": {
    "collapsed": true
   },
   "outputs": [],
   "source": [
    "# examine outputs in the .gfeat directory\n",
    "fslview"
   ]
  },
  {
   "cell_type": "markdown",
   "metadata": {},
   "source": [
    "**Check your understanding:**\n",
    "* How could you load the group analysis design file in the GUI?\n",
    "    * How would you change the type of group-level inference? e.g. fixed, mixed OLS, mixed FLAME 1, etc\n",
    "    * How would you change the threshold for what is statistically significant activation for your contrasts?\n",
    "* What information do the cope and varcope files now reflect?\n",
    "* Which file would you load into fslview or plot with nilearn to see which regions showed statistically signficant activation for the incongruent>baseline contrast?\n",
    "    * Which text file lists the clusters and coordinates of peak activation for these statistically significant clusters?\n",
    "    * Which nifti files give you a map of \"labels\" for each cluster?\n",
    "    * How can I use fslview to link the location of clusters to brain anatomy based on an atlas?\n",
    "    "
   ]
  },
  {
   "cell_type": "markdown",
   "metadata": {},
   "source": [
    "## Practice setting up group-level designs\n",
    "* FSL provides examples for how to set up common designs [here](https://fsl.fmrib.ox.ac.uk/fsl/fslwiki/FEAT/UserGuide#Group_Statistics)\n",
    "* Let's practice setting up group designs for example use cases"
   ]
  },
  {
   "cell_type": "code",
   "execution_count": null,
   "metadata": {
    "collapsed": true
   },
   "outputs": [],
   "source": [
    "# make a directory to hold example designs\n",
    "mkdir ExampleDesigns"
   ]
  },
  {
   "cell_type": "markdown",
   "metadata": {},
   "source": [
    "### Group mean\n",
    "* Number of subjects: 10\n",
    "* Want to know: where do the participants show activation for my contrasts on average?"
   ]
  },
  {
   "cell_type": "code",
   "execution_count": 2,
   "metadata": {},
   "outputs": [
    {
     "name": "stdout",
     "output_type": "stream",
     "text": [
      "1\n",
      "1\n",
      "1\n",
      "1\n",
      "1\n",
      "1\n",
      "1\n",
      "1\n",
      "1\n",
      "1\n"
     ]
    }
   ],
   "source": [
    "# print out the design\n",
    "for num in {1..10}; do\n",
    "        echo 1\n",
    "done"
   ]
  },
  {
   "cell_type": "code",
   "execution_count": 3,
   "metadata": {},
   "outputs": [],
   "source": [
    "# Open GLM GUI in FSL, set up the design, and save as GroupMean-n10.fsf\n",
    "Glm"
   ]
  },
  {
   "cell_type": "markdown",
   "metadata": {},
   "source": [
    "Display your contrast .png file\n",
    "![fig](ExampleDesigns/GroupMean-n10.png)"
   ]
  },
  {
   "cell_type": "markdown",
   "metadata": {},
   "source": [
    "### Between-groups comparison \n",
    "* Number of subjects: 10\n",
    "* The first 5 subjects are in groupA and the second 5 are in groupB\n",
    "* Setup the design to examine where each group shows activation and where groupA>groupB and groupB>groupA"
   ]
  },
  {
   "cell_type": "code",
   "execution_count": 5,
   "metadata": {},
   "outputs": [
    {
     "name": "stdout",
     "output_type": "stream",
     "text": [
      "1\t0\n",
      "1\t0\n",
      "1\t0\n",
      "1\t0\n",
      "1\t0\n",
      "0\t1\n",
      "0\t1\n",
      "0\t1\n",
      "0\t1\n",
      "0\t1\n"
     ]
    }
   ],
   "source": [
    "# print the design\n",
    "for num in {1..10}; do\n",
    "    if [ ${num} -le 5 ]; then\n",
    "        echo -e \"1\\t0\"\n",
    "    else\n",
    "        echo -e \"0\\t1\"\n",
    "    fi\n",
    "done"
   ]
  },
  {
   "cell_type": "code",
   "execution_count": 6,
   "metadata": {},
   "outputs": [],
   "source": [
    "Glm"
   ]
  },
  {
   "cell_type": "markdown",
   "metadata": {},
   "source": [
    "### One group with a continous covariate\n",
    "* Number of subjects 10\n",
    "* You want to know whether age (yrs) is related to activation\n",
    "* Below you are given ages for 10 hypothetical participants and their age. \n",
    "Setup the design to examine where the group on average shows activation, where age is positively related to activation, and where age is negatively related to activation."
   ]
  },
  {
   "cell_type": "markdown",
   "metadata": {},
   "source": [
    "| SubIndex        | Age           | \n",
    "| ------------- |:-------------:| \n",
    "| 1      | 4 |\n",
    "| 2      | 2 |\n",
    "| 3      | 4 |\n",
    "| 4      | 2 |\n",
    "| 5      | 4 |\n",
    "| 6      | 6 |\n",
    "| 7      | 8 |\n",
    "| 8      | 6 |\n",
    "| 9      | 8 |\n",
    "| 10     | 6 |\n",
    "| Average        | 5           | "
   ]
  },
  {
   "cell_type": "code",
   "execution_count": 8,
   "metadata": {},
   "outputs": [
    {
     "name": "stdout",
     "output_type": "stream",
     "text": [
      "1\t-1\n",
      "1\t-3\n",
      "1\t-1\n",
      "1\t-3\n",
      "1\t-1\n",
      "1\t1\n",
      "1\t3\n",
      "1\t1\n",
      "1\t3\n",
      "1\t1\n"
     ]
    }
   ],
   "source": [
    "# Calculate the average of age.txt\n",
    "mean=$(awk '{ sum += $1 } END { if (NR > 0) print sum / NR}' age.txt)\n",
    "\n",
    "# demean age.txt and place the results in a file called age_demean.txt\n",
    "for age in $(cat age.txt); do\n",
    "    echo \"${age} - ${mean}\" | bc\n",
    "done > age_demean.txt\n",
    "\n",
    "# construct the design matrix\n",
    "for dage in $(cat age_demean.txt); do\n",
    "    echo -e \"1\\t${dage}\"\n",
    "done "
   ]
  },
  {
   "cell_type": "markdown",
   "metadata": {},
   "source": [
    "## Problem sets"
   ]
  },
  {
   "cell_type": "markdown",
   "metadata": {},
   "source": [
    "*1)*  Load group analysis design file above and compare the output from two types of mixed effects analysis: \n",
    "* Run a group design with Ordinary Least Squares (OLS) and a threshold of uncorrected p-value of p<.05. Name your output directory GroupFlanker_mixed_ols_n3_p.05\n",
    "* Run a group design with FLAME 1 and a threshold of uncorrected p-value of p<.05. Name your output directory GroupFlanker_mixed_flame1_n3_p.05\n",
    "\n",
    "Describe in your own words which analysis method is more statistically liberal and why, and whether the results you see are consistent with this. Show an example of an activation map from each analysis to illustrate your observations."
   ]
  },
  {
   "cell_type": "markdown",
   "metadata": {},
   "source": [
    ":Your answer here"
   ]
  },
  {
   "cell_type": "markdown",
   "metadata": {},
   "source": [
    "*2)* Why aren't there cluster statistics for the analysis we ran with uncorrected p-values of p<.05?"
   ]
  },
  {
   "cell_type": "markdown",
   "metadata": {},
   "source": [
    ": Your answer here"
   ]
  },
  {
   "cell_type": "markdown",
   "metadata": {},
   "source": [
    "*3)* Describe in your own words how the fixed effects analysis we looked at in class differs from the mixed effects analyses you ran with respect to who results can be inferred to, and what type of variance information is considered in the analysis."
   ]
  },
  {
   "cell_type": "markdown",
   "metadata": {},
   "source": [
    ": Your answer here"
   ]
  },
  {
   "cell_type": "markdown",
   "metadata": {},
   "source": [
    "*4)* Suppose we ran 10 subjects in our flanker task. Each person was run under a condition of \"typical sleep\" and \"sleep deprived.\" Use the GLM as we practiced to set up a design matrix that allows you examine mean activation under each condition, typical>deprived, and deprived>typical. Use the examples in the [FSL docs](https://fsl.fmrib.ox.ac.uk/fsl/fslwiki/FEAT/UserGuide#Setting_Up_Higher-Level_Analysis_in_FEAT) to guide you. \n",
    "\n",
    "Use a markdown cell below to describe in words the type of design you needed, and to show the .png file of your design matrix."
   ]
  },
  {
   "cell_type": "markdown",
   "metadata": {},
   "source": [
    ": Your answer here"
   ]
  }
 ],
 "metadata": {
  "kernelspec": {
   "display_name": "Bash",
   "language": "bash",
   "name": "bash"
  },
  "language_info": {
   "codemirror_mode": "shell",
   "file_extension": ".sh",
   "mimetype": "text/x-sh",
   "name": "bash"
  }
 },
 "nbformat": 4,
 "nbformat_minor": 2
}
