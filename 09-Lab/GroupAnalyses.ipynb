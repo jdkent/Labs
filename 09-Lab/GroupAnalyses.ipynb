{
 "cells": [
  {
   "cell_type": "markdown",
   "metadata": {},
   "source": [
    "# Group analyses\n",
    "\n",
    "The goals of this lab are \n",
    "* to review the output from single-subject analyses\n",
    "* to understand how these output are used in between-subject anaylysis\n",
    "* understand how to set up the design matrix and contrasts for common types of designs"
   ]
  },
  {
   "cell_type": "markdown",
   "metadata": {},
   "source": [
    "## Preparation\n",
    "* Download data that includes 3 subjects that did the event-related flanker task, template design files, and a complete group analysis directory."
   ]
  },
  {
   "cell_type": "code",
   "execution_count": 1,
   "metadata": {},
   "outputs": [],
   "source": [
    "# download data\n",
    "wget --quiet -O 09-Lab_data.tar.gz https://osf.io/nbytx/download &&\\\n",
    "tar -xf 09-Lab_data.tar.gz &&\\\n",
    "rm 09-Lab_data.tar.gz"
   ]
  },
  {
   "cell_type": "code",
   "execution_count": null,
   "metadata": {},
   "outputs": [],
   "source": []
  }
 ],
 "metadata": {
  "kernelspec": {
   "display_name": "Bash",
   "language": "bash",
   "name": "bash"
  },
  "language_info": {
   "codemirror_mode": "shell",
   "file_extension": ".sh",
   "mimetype": "text/x-sh",
   "name": "bash"
  }
 },
 "nbformat": 4,
 "nbformat_minor": 2
}
