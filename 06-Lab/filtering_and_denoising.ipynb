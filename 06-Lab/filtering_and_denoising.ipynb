{
 "cells": [
  {
   "cell_type": "markdown",
   "metadata": {},
   "source": [
    "# Lab 06: Spatial smoothing, denoising with ICA, and temporal filtering\n",
    "\n",
    "The goal of this lab is to practice common pre-preprocessing steps that all involve some form of filtering out signal that is deemed to be \"noise\" based on signal processing concepts. We will look at three common steps that follow motion correction and slice-timing: \n",
    "* Spatial smoothing\n",
    "* ICA-based denoising\n",
    "* Temporal filtering"
   ]
  },
  {
   "cell_type": "markdown",
   "metadata": {},
   "source": [
    "## Preparation"
   ]
  },
  {
   "cell_type": "code",
   "execution_count": 1,
   "metadata": {},
   "outputs": [],
   "source": [
    "%matplotlib inline\n",
    "import matplotlib.pyplot as plt\n",
    "import pandas as pd\n",
    "from nilearn import plotting\n",
    "from nilearn import image"
   ]
  },
  {
   "cell_type": "code",
   "execution_count": 4,
   "metadata": {},
   "outputs": [],
   "source": [
    "%%bash\n",
    "\n",
    "# DECIDE WHETHER YOU WANT TO COPY (cp) OR DOWNLOAD THE FILES NECESSARY FOR THIS LAB\n",
    "\n",
    "# default\n",
    "ans=\"cp\"\n",
    "\n",
    "if [ \"${ans}\" == \"cp\" ]; then\n",
    "    cp ../05-Lab/my_bold_mcf_st.nii.gz my_bold_mcf_st.nii.gz\n",
    "    cp ../05-Lab/my_bold_mcf.par my_bold_mcf.par\n",
    "    cp ../04-Lab/func2T1.mat func2T1.mat\n",
    "    cp ../04-Lab/T1_2_MNI_warp.nii.gz T1_2_MNI_warp.nii.gz\n",
    "elif [ \"${ans}\" == \"dl\" ]; then\n",
    "\n",
    "    # Link doesn't work yet place holder\n",
    "    wget --quiet -O 06-Lab_data.tar.gz https://osf.io/j7t6n/download &&\\\n",
    "    tar -xf 06-Lab_data.tar.gz &&\\\n",
    "    rm 06-Lab_data.tar.gz\n",
    "else\n",
    "    printf 'YOU FORGOT TO CHANGE ANS TO \"cp\" OR \"dl\"'\n",
    "fi"
   ]
  },
  {
   "cell_type": "markdown",
   "metadata": {},
   "source": [
    "## Spatial smoothing in FSL\n",
    "\n",
    "FSL's smoothing tool is called SUSAN\n",
    "* See user manual [here](https://fsl.fmrib.ox.ac.uk/fsl/fslwiki/SUSAN)\n",
    "* An important usage note is that SUSAN takes in the smoothing kernel as \"sigma\" which refers to the standard deviation of the smoothing kernel rather than the Full-Width at Half-Max (FWHM) in mm. \n",
    "    * [Link](https://www.jiscmail.ac.uk/cgi-bin/webadmin?A2=FSL;d7249c17.1301) to an informative post on the FSL listserv\n",
    "    * Conversion from sigma from FWHM = `sigma*sqrt(8*ln(2)) = sigma*2.3548`\n",
    "    * Conversion from FWHM from sigma = `mm/sqrt(8*ln(2))`"
   ]
  },
  {
   "cell_type": "code",
   "execution_count": 19,
   "metadata": {},
   "outputs": [
    {
     "name": "stdout",
     "output_type": "stream",
     "text": [
      "\n",
      "Usage: susan <input> <bt> <dt> <dim> <use_median> <n_usans> [<usan1> <bt1> [<usan2> <bt2>]] <output>\n",
      "<bt> is brightness threshold and should be greater than noise level and less than contrast of edges to be preserved.\n",
      "<dt> is spatial size (sigma, i.e., half-width) of smoothing, in mm.\n",
      "<dim> is dimensionality (2 or 3), depending on whether smoothing is to be within-plane (2) or fully 3D (3).\n",
      "<use_median> determines whether to use a local median filter in the cases where single-point noise is detected (0 or 1).\n",
      "<n_usans> determines whether the smoothing area (USAN) is to be found from secondary images (0, 1 or 2).\n",
      "A negative value for any brightness threshold will auto-set the threshold at 10% of the robust range\n"
     ]
    }
   ],
   "source": [
    "%%bash\n",
    "\n",
    "# Usage \n",
    "susan"
   ]
  },
  {
   "cell_type": "code",
   "execution_count": 32,
   "metadata": {},
   "outputs": [],
   "source": [
    "%%bash\n",
    "\n",
    "# Strip the skull from the motion corrected and possibly slice time corrected image\n",
    "\n",
    "# Take mean of the functional image over time\n",
    "fslmaths my_bold_mcf_st.nii.gz -Tmean mean_func\n",
    "# Bet the mean func, tell it to only generate the mask for now, then we rename mask_mask to mask\n",
    "bet2 mean_func mask -f .3 -n -m; mv mask_mask.nii.gz mask.nii.gz\n",
    "# Apply mask to create brain extracted functional image\n",
    "fslmaths my_bold_mcf_st.nii.gz -mas mask.nii.gz my_bold_mcf_st_bet.nii.gz"
   ]
  },
  {
   "cell_type": "code",
   "execution_count": 34,
   "metadata": {},
   "outputs": [],
   "source": [
    "%%bash\n",
    "\n",
    "# Take a look\n",
    "fslview my_bold_mcf_st_bet.nii.gz mask.nii.gz"
   ]
  },
  {
   "cell_type": "code",
   "execution_count": 45,
   "metadata": {},
   "outputs": [
    {
     "name": "stdout",
     "output_type": "stream",
     "text": [
      "Robust range is 0.000000 1113.125000 \n",
      "Brightness thresh for epi is 635.909\n"
     ]
    }
   ],
   "source": [
    "%%bash\n",
    "\n",
    "# FSL preprocessing steps to find brightness thresh and create liberal functional mask \n",
    "\n",
    "# Find \"robust\" range from 2nd to 98th percentile\n",
    "robust_range=$(fslstats my_bold_mcf_st_bet.nii.gz -p 2 -p 98)\n",
    "echo \"Robust range is ${robust_range}\"\n",
    "\n",
    "# Take 10th percentile of this robust range and threshold functional image and make new mask\n",
    "# Voxels most likely noise get excluded from this mask\n",
    "fslmaths my_bold_mcf_st_bet.nii.gz -thr 111.3 -Tmin -bin mask -odt char\n",
    "\n",
    "# Find the median within this mask and then 75% of the median within that mask \n",
    "brightness_thresh=$(fslstats my_bold_mcf_st.nii.gz -k mask -p 50 |  awk '{print ($1*0.75)}')\n",
    "echo \"Brightness thresh for epi is ${brightness_thresh}\"\n",
    "\n",
    "# Dilate the mask to give some extra buffer space\n",
    "fslmaths mask -dilF mask\n",
    "\n",
    "# Apply mask and create new mean func\n",
    "fslmaths my_bold_mcf_st.nii.gz -mas mask.nii.gz my_bold_mcf_st_thresh.nii.gz\n",
    "fslmaths my_bold_mcf_st_thresh.nii.gz -Tmean mean_func"
   ]
  },
  {
   "cell_type": "code",
   "execution_count": 46,
   "metadata": {},
   "outputs": [
    {
     "name": "stdout",
     "output_type": "stream",
     "text": [
      "Smoothing kernel set to 6mm which is 2.54797 in sigma\n"
     ]
    }
   ],
   "source": [
    "%%bash\n",
    "\n",
    "# Now we're ready to smooth!\n",
    "\n",
    "# If working from the terminal, convert desired FWHM (mm) to sigma for input to SUSAN\n",
    "# Below is an example of smoothing at 6mm FWHM\n",
    "smooth=6\n",
    "smoothSigma=$(echo $smooth | awk '{print ($1/(sqrt(8*log(2))))}')\n",
    "echo \"Smoothing kernel set to ${smooth}mm which is ${smoothSigma} in sigma\"\n"
   ]
  },
  {
   "cell_type": "code",
   "execution_count": 51,
   "metadata": {},
   "outputs": [],
   "source": [
    "%%bash\n",
    "\n",
    "# Call to SUSAN\n",
    "# I had trouble calling variables above, wonder why?\n",
    "\n",
    "susan my_bold_mcf_st_thresh.nii.gz 635.909 2.54797 3 1 1 mean_func.nii.gz 635.909 my_bold_mcf_st_thresh_smooth.nii.gz\n"
   ]
  },
  {
   "cell_type": "code",
   "execution_count": 52,
   "metadata": {},
   "outputs": [],
   "source": [
    "%%bash\n",
    "\n",
    "# Compare un-smoothed and smoothed functional image\n",
    "fslview my_bold_mcf_st_thresh.nii.gz my_bold_mcf_st_thresh_smooth.nii.gz"
   ]
  },
  {
   "cell_type": "markdown",
   "metadata": {},
   "source": [
    "## ICA-AROMA"
   ]
  },
  {
   "cell_type": "markdown",
   "metadata": {},
   "source": [
    "* It's my understanding that median intensity scaling isn't necessary so we could simply use as inputs:\n",
    "    * my_bold_mcf_st_thresh_smooth.nii.gz\n",
    "    * .par file copied above for motion parameters\n",
    "    * reg files copied above\n",
    "    * create a more snug mask with our mean func as suggested in manual\n",
    "* Should we have them download ica-aroma from github and run or just download output and understand? Any preference on clone vs. download when pulling a package from github that you won't contributed to. Cloning can make it easier to pull in updates?\n",
    "* It would take too long to run during class and to run on a new data set could be their lab problem since they'd have to run from scratch"
   ]
  },
  {
   "cell_type": "code",
   "execution_count": 55,
   "metadata": {},
   "outputs": [
    {
     "name": "stderr",
     "output_type": "stream",
     "text": [
      "fatal: destination path 'ICA-AROMA' already exists and is not an empty directory.\n"
     ]
    }
   ],
   "source": [
    "%%bash\n",
    "git clone https://github.com/maartenmennes/ICA-AROMA.git"
   ]
  },
  {
   "cell_type": "code",
   "execution_count": 57,
   "metadata": {},
   "outputs": [],
   "source": [
    "%%bash\n",
    "\n",
    "# Make a snugger mask\n",
    "bet mean_func.nii.gz aroma_mask -f .3 -n -m"
   ]
  },
  {
   "cell_type": "code",
   "execution_count": 58,
   "metadata": {},
   "outputs": [],
   "source": [
    "%%bash\n",
    "fslview mean_func.nii.gz aroma_mask_mask.nii.gz"
   ]
  },
  {
   "cell_type": "code",
   "execution_count": 77,
   "metadata": {},
   "outputs": [
    {
     "name": "stdout",
     "output_type": "stream",
     "text": [
      "\n",
      "------------------------------- RUNNING ICA-AROMA ------------------------------- \n",
      "--------------- 'ICA-based Automatic Removal Of Motion Artifacts' --------------- \n",
      "\n",
      "The specified input file does not exist.\n",
      "The specified mc file does does not exist.\n",
      "The specified affmat file does not exist.\n",
      "The specified warp file does not exist.\n",
      "The specified mask does not exist.\n",
      "\n",
      "----------------------------- ICA-AROMA IS CANCELED -----------------------------\n",
      "\n"
     ]
    }
   ],
   "source": [
    "%%bash\n",
    "\n",
    "# Call to ICA-AROMA\n",
    "# Show how to call in bash since they would write in a shell script\n",
    "# What am I doing wrong with below command?\n",
    "\n",
    "python ICA-AROMA/ICA_AROMA.py -in my_bold_mcf_st_thresh_smooth.nii.gz -out ica_aroma -affmat func2T1.mat -warp T1_2_MNI_warp.nii.gz -mc my_bold_mcf.par -m aroma_mask_mask.nii.gz"
   ]
  },
  {
   "cell_type": "code",
   "execution_count": 74,
   "metadata": {},
   "outputs": [
    {
     "name": "stdout",
     "output_type": "stream",
     "text": [
      "/home/brain/Labs/06-Lab\r\n"
     ]
    }
   ],
   "source": []
  },
  {
   "cell_type": "code",
   "execution_count": null,
   "metadata": {},
   "outputs": [],
   "source": []
  }
 ],
 "metadata": {
  "kernelspec": {
   "display_name": "Python 3",
   "language": "python",
   "name": "python3"
  },
  "language_info": {
   "codemirror_mode": {
    "name": "ipython",
    "version": 3
   },
   "file_extension": ".py",
   "mimetype": "text/x-python",
   "name": "python",
   "nbconvert_exporter": "python",
   "pygments_lexer": "ipython3",
   "version": "3.6.3"
  }
 },
 "nbformat": 4,
 "nbformat_minor": 2
}
