{
 "cells": [
  {
   "cell_type": "markdown",
   "metadata": {},
   "source": [
    "# Lab 06: Spatial smoothing, denoising with ICA, and temporal filtering\n",
    "\n",
    "The goal of this lab is to practice common pre-preprocessing steps that all involve some form of filtering out signal that is deemed to be \"noise\" based on signal processing concepts. We will look at three common steps that follow motion correction and slice-timing: \n",
    "* Spatial smoothing\n",
    "* ICA-based denoising\n",
    "* Temporal filtering"
   ]
  },
  {
   "cell_type": "markdown",
   "metadata": {},
   "source": [
    "## Preparation"
   ]
  },
  {
   "cell_type": "code",
   "execution_count": null,
   "metadata": {
    "collapsed": true
   },
   "outputs": [],
   "source": [
    "%%bash\n",
    "\n",
    "# DECIDE WHETHER YOU WANT TO COPY (cp) OR DOWNLOAD THE FILES NECESSARY FOR THIS LAB\n",
    "\n",
    "# default\n",
    "ans=\"dl\"\n",
    "\n",
    "if [ \"${ans}\" == \"cp\" ]; then\n",
    "    cp ../05-Lab/my_bold_mcf_st.nii.gz my_bold_mcf_st.nii.gz\n",
    "    cp ../05-Lab/my_bold_mcf.par my_bold_mcf.par\n",
    "    cp ../04-Lab/func2T1.mat func2T1.mat\n",
    "    cp ../04-Lab/T1_2_MNI_warp.nii.gz T1_2_MNI_warp.nii.gz\n",
    "    # need some other generated outputs from ICA-AROMA\n",
    "elif [ \"${ans}\" == \"dl\" ]; then\n",
    "    wget --quiet -O 06-Lab_data.tar.gz https://osf.io/kf43u/download &&\\\n",
    "    tar -xf 06-Lab_data.tar.gz &&\\\n",
    "    rm 06-Lab_data.tar.gz\n",
    "else\n",
    "    printf 'YOU FORGOT TO CHANGE ANS TO \"cp\" OR \"dl\"'\n",
    "fi"
   ]
  },
  {
   "cell_type": "markdown",
   "metadata": {},
   "source": [
    "## Spatial smoothing in FSL\n",
    "\n",
    "FSL's smoothing tool is called SUSAN\n",
    "* See user manual [here](https://fsl.fmrib.ox.ac.uk/fsl/fslwiki/SUSAN)\n",
    "* An important usage note is that SUSAN takes in the smoothing kernel as \"sigma\" which refers to the standard deviation of the smoothing kernel rather than the Full-Width at Half-Max (FWHM) in mm. \n",
    "    * [Link](https://www.jiscmail.ac.uk/cgi-bin/webadmin?A2=FSL;d7249c17.1301) to an informative post on the FSL listserv\n",
    "    * Conversion from sigma to FWHM = `sigma*sqrt(8*ln(2)) = sigma*2.3548`\n",
    "    * Conversion from FWHM to sigma = `mm/sqrt(8*ln(2))`"
   ]
  },
  {
   "cell_type": "code",
   "execution_count": null,
   "metadata": {},
   "outputs": [],
   "source": [
    "# Usage \n",
    "susan"
   ]
  },
  {
   "cell_type": "code",
   "execution_count": null,
   "metadata": {
    "collapsed": true
   },
   "outputs": [],
   "source": [
    "# Strip the skull from the motion corrected and possibly slice time corrected image\n",
    "\n",
    "# Take mean of the functional image over time\n",
    "fslmaths my_bold_mcf_st.nii.gz -Tmean mean_func\n",
    "# Bet the mean func, tell it to only generate the mask for now, then we rename mask_mask to mask\n",
    "bet2 mean_func mask -f .3 -n -m; mv mask_mask.nii.gz mask.nii.gz\n",
    "# Apply mask to create brain extracted functional image\n",
    "fslmaths my_bold_mcf_st.nii.gz -mas mask.nii.gz my_bold_mcf_st_bet.nii.gz"
   ]
  },
  {
   "cell_type": "code",
   "execution_count": null,
   "metadata": {
    "collapsed": true
   },
   "outputs": [],
   "source": [
    "# Take a look\n",
    "fslview my_bold_mcf_st_bet.nii.gz mask.nii.gz"
   ]
  },
  {
   "cell_type": "code",
   "execution_count": null,
   "metadata": {},
   "outputs": [],
   "source": [
    "# FSL preprocessing steps to find brightness thresh and create liberal functional mask \n",
    "robust_range=$(fslstats my_bold_mcf_st_bet.nii.gz -p 2 -p 98)\n",
    "\n",
    "# Find \"robust\" range from 2nd to 98th percentile\n",
    "# Take 10th percentile of this robust range and threshold functional image and make new mask\n",
    "mask_thres=$(echo \"scale=1; var1=$(echo ${robust_range} | awk -F' ' '{print $2}'); var2=var1/10; var2\" | bc)\n",
    "\n",
    "# Voxels most likely noise get excluded from this mask\n",
    "fslmaths my_bold_mcf_st_bet.nii.gz -thr ${mask_thres} -Tmin -bin mask -odt char\n",
    "\n",
    "# Dilate the mask to give some extra buffer space\n",
    "fslmaths mask -dilF mask\n",
    "\n",
    "# Find the median within this mask and then 75% of the median within that mask \n",
    "brightness_thresh=$(fslstats my_bold_mcf_st.nii.gz -k mask -p 50 | awk '{print ($1*0.75)}')\n",
    "\n",
    "# Apply mask and create new mean func\n",
    "fslmaths my_bold_mcf_st.nii.gz -mas mask.nii.gz my_bold_mcf_st_thresh.nii.gz\n",
    "fslmaths my_bold_mcf_st_thresh.nii.gz -Tmean mean_func\n"
   ]
  },
  {
   "cell_type": "code",
   "execution_count": null,
   "metadata": {},
   "outputs": [],
   "source": [
    "# Now we're ready to smooth!\n",
    "\n",
    "# If working from the terminal, convert desired FWHM (mm) to sigma for input to SUSAN\n",
    "# Below is an example of smoothing at 6mm FWHM\n",
    "smooth=6\n",
    "smoothSigma=$(echo $smooth | awk '{print ($1/(sqrt(8*log(2))))}')\n",
    "echo \"Smoothing kernel set to ${smooth}mm which is ${smoothSigma} in sigma\""
   ]
  },
  {
   "cell_type": "code",
   "execution_count": null,
   "metadata": {
    "collapsed": true
   },
   "outputs": [],
   "source": [
    "# Call to SUSAN\n",
    "susan my_bold_mcf_st_thresh.nii.gz \\\n",
    "      ${brightness_thresh} ${smoothSigma} \\\n",
    "      3 1 1 \\\n",
    "      mean_func.nii.gz \\\n",
    "      ${brightness_thresh} \\\n",
    "      my_bold_mcf_st_thresh_smooth-6mm.nii.gz\n"
   ]
  },
  {
   "cell_type": "code",
   "execution_count": null,
   "metadata": {
    "collapsed": true
   },
   "outputs": [],
   "source": [
    "# Compare un-smoothed and smoothed functional image\n",
    "fslview my_bold_mcf_st_thresh.nii.gz my_bold_mcf_st_thresh_smooth.nii.gz"
   ]
  },
  {
   "cell_type": "markdown",
   "metadata": {},
   "source": [
    "## ICA-AROMA"
   ]
  },
  {
   "cell_type": "markdown",
   "metadata": {},
   "source": [
    "* It's my understanding that median intensity scaling isn't necessary so we could simply use as inputs:\n",
    "    * my_bold_mcf_st_thresh_smooth.nii.gz\n",
    "    * .par file copied above for motion parameters\n",
    "    * reg files copied above\n",
    "    * create a more snug mask with our mean func as suggested in manual\n",
    "* Should we have them download ica-aroma from github and run or just download output and understand? Any preference on clone vs. download when pulling a package from github that you won't contributed to. Cloning can make it easier to pull in updates?\n",
    "* It would take too long to run during class and to run on a new data set could be their lab problem since they'd have to run from scratch"
   ]
  },
  {
   "cell_type": "code",
   "execution_count": null,
   "metadata": {},
   "outputs": [],
   "source": [
    "git clone https://github.com/maartenmennes/ICA-AROMA.git"
   ]
  },
  {
   "cell_type": "code",
   "execution_count": null,
   "metadata": {
    "collapsed": true
   },
   "outputs": [],
   "source": [
    "# Make a snugger mask\n",
    "bet mean_func.nii.gz aroma_mask -f .3 -n -m"
   ]
  },
  {
   "cell_type": "code",
   "execution_count": null,
   "metadata": {
    "collapsed": true
   },
   "outputs": [],
   "source": [
    "fslview mean_func.nii.gz aroma_mask_mask.nii.gz"
   ]
  },
  {
   "cell_type": "code",
   "execution_count": null,
   "metadata": {},
   "outputs": [],
   "source": [
    "# Call to ICA-AROMA\n",
    "\n",
    "# ICA-AROMA/ICA_AROMA.py \\\n",
    "#   -in ../my_bold_mcf_st_thresh_smooth-6mm.nii.gz \\\n",
    "#   -out ../ica_aroma_6mm \\\n",
    "#   -affmat ../func2T1.mat \\\n",
    "#   -warp ../T1_2_MNI_warp.nii.gz \\\n",
    "#   -mc ../my_bold_mcf.par \\\n",
    "#   -m ../aroma_mask_mask.nii.gz"
   ]
  },
  {
   "cell_type": "code",
   "execution_count": null,
   "metadata": {},
   "outputs": [],
   "source": [
    "hp_freq=0.008\n",
    "lp_freq=0.08\n",
    "hp_sigma=$(echo \"1/(2*${TR}*${hp_freq})\" | bc -l)\n",
    "lp_sigma=$(echo \"1/(2*${TR}*${lp_freq})\" | bc -l)\n"
   ]
  },
  {
   "cell_type": "code",
   "execution_count": null,
   "metadata": {},
   "outputs": [],
   "source": [
    "fslmaths | grep -- \"-bptf\""
   ]
  },
  {
   "cell_type": "code",
   "execution_count": null,
   "metadata": {},
   "outputs": [],
   "source": [
    "fslmaths ica_aroma_6mm/denoised_func_data_nonaggr.nii.gz \\\n",
    "         -bptf ${hp_sigma} ${lp_sigma} \\\n",
    "         my_bold_mcf_st_thresh_smooth-6mm_tempfilt-fsl.nii.gz"
   ]
  },
  {
   "cell_type": "code",
   "execution_count": null,
   "metadata": {},
   "outputs": [],
   "source": [
    "3dBandpass -prefix my_bold_mcf_st_thresh_smooth-6mm_tempfilt-afni.nii.gz \\\n",
    "           ${hp_freq} ${lp_freq} \\\n",
    "           ica_aroma_6mm/denoised_func_data_nonaggr.nii.gz"
   ]
  },
  {
   "cell_type": "code",
   "execution_count": null,
   "metadata": {},
   "outputs": [],
   "source": [
    "# FSL power spectrum\n",
    "fslpspec my_bold_mcf_st_thresh_smooth-6mm_tempfilt-fsl.nii.gz pwr_spct_fsl.nii.gz\n",
    "# get a summary measure\n",
    "fslmeants -i pwr_spct_fsl.nii.gz -m aroma_mask_mask.nii.gz\n",
    "\n",
    "# AFNI power spectrum\n",
    "fslpspec my_bold_mcf_st_thresh_smooth-6mm_tempfilt-afni.nii.gz pwr_spct_afni.nii.gz\n",
    "# get a summary measure\n",
    "fslmeants -i pwr_spct_afni.nii.gz -m aroma_mask_mask.nii.gz"
   ]
  }
 ],
 "metadata": {
  "kernelspec": {
   "display_name": "Bash",
   "language": "bash",
   "name": "bash"
  },
  "language_info": {
   "codemirror_mode": "shell",
   "file_extension": ".sh",
   "mimetype": "text/x-sh",
   "name": "bash"
  }
 },
 "nbformat": 4,
 "nbformat_minor": 2
}
