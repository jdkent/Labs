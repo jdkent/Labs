{
 "cells": [
  {
   "cell_type": "markdown",
   "metadata": {},
   "source": [
    "# Lab 06: Spatial smoothing, denoising with ICA, and temporal filtering\n",
    "\n",
    "The goal of this lab is to practice common pre-preprocessing steps that all involve some form of filtering out signal that is deemed to be \"noise\" based on signal processing concepts. We will look at three common steps that follow motion correction and slice-timing: \n",
    "* Spatial smoothing\n",
    "* ICA-based denoising\n",
    "* Temporal filtering"
   ]
  },
  {
   "cell_type": "code",
   "execution_count": null,
   "metadata": {},
   "outputs": [],
   "source": []
  }
 ],
 "metadata": {
  "kernelspec": {
   "display_name": "Python 3",
   "language": "python",
   "name": "python3"
  },
  "language_info": {
   "codemirror_mode": {
    "name": "ipython",
    "version": 3
   },
   "file_extension": ".py",
   "mimetype": "text/x-python",
   "name": "python",
   "nbconvert_exporter": "python",
   "pygments_lexer": "ipython3",
   "version": "3.6.3"
  }
 },
 "nbformat": 4,
 "nbformat_minor": 2
}
