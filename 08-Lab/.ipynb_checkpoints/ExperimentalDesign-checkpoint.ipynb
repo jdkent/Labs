{
 "cells": [
  {
   "cell_type": "markdown",
   "metadata": {},
   "source": [
    "# ExperimentalDesign\n",
    "\n",
    "In this notebook we will be using a genetic algorithm to choose the optimal design for our experiment. Creating random designs in fMRI world often leads to under powered designs because the randomisation does not consider the lagged hemodynamic response and how one trial's response may bleed into another trial's response. This is more of a concern in event related designs, but still something to consider in block designs as well.\n",
    "\n",
    "The below video from Jeanette Mumford helps illuminate task design and to consider what we want from our design"
   ]
  },
  {
   "cell_type": "code",
   "execution_count": 2,
   "metadata": {},
   "outputs": [
    {
     "data": {
      "text/html": [
       "<iframe width=\"560\" height=\"315\" src=\"https://www.youtube.com/embed/FD4ztsoYvSY\" frameborder=\"0\" gesture=\"media\" allow=\"encrypted-media\" allowfullscreen></iframe>"
      ],
      "text/plain": [
       "<IPython.core.display.HTML object>"
      ]
     },
     "execution_count": 2,
     "metadata": {},
     "output_type": "execute_result"
    }
   ],
   "source": [
    "from IPython.display import HTML\n",
    "\n",
    "# Jeanette Mumford video\n",
    "HTML('<iframe width=\"560\" height=\"315\" src=\"https://www.youtube.com/embed/FD4ztsoYvSY\" frameborder=\"0\" gesture=\"media\" allow=\"encrypted-media\" allowfullscreen></iframe>')\n",
    "\n"
   ]
  },
  {
   "cell_type": "markdown",
   "metadata": {},
   "source": [
    "## Designing your own experiment\n",
    "\n",
    "Take some time to think about your own experiment and how you can present your stimuli below. Follow the comments and change your parameters accordingly, some you will most likely want to change and some you will probably want to leave alone. Those parameters you will most likely wish to change will have 'CHANGE' written above them, the parameters to leave alone will have 'NO CHANGE' written above them. To learn more about the parameters you can read the [documentation](http://neurodesign.readthedocs.io/en/latest/_modules/src/geneticalgorithm.html#experiment), and read the information on the webpage version of this program, specifically see [Tutorial]( and Methods"
   ]
  },
  {
   "cell_type": "code",
   "execution_count": null,
   "metadata": {},
   "outputs": [
    {
     "name": "stderr",
     "output_type": "stream",
     "text": [
      "/usr/local/lib/python2.7/dist-packages/neurodesign/geneticalgorithm.py:574: RuntimeWarning: divide by zero encountered in log\n",
      "  res = (h - 1) * np.log(s) + h * np.log(l) - l * s - np.log(gamma(h))\n",
      "  0% |                                                                        |\r"
     ]
    }
   ],
   "source": [
    "# need neurodesign and reportlab, pdfrw, and progressbar\n",
    "# python2 environment (may want to change this for use in python3)\n",
    "# see: https://github.com/neuropower/neurodesign/issues/3\n",
    "# see this page for more info: http://neurodesign.readthedocs.io/en/latest/genalg.html\n",
    "from neurodesign import geneticalgorithm, generate,msequence,report\n",
    "\n",
    "EXP = geneticalgorithm.experiment(\n",
    "    # types of stimuli in the task (e.g. congruent/incongruent)\n",
    "    # CHANGE\n",
    "    n_stimuli = 3,\n",
    "    # the time of repetition (TR)\n",
    "    # NO CHANGE\n",
    "    TR=2,\n",
    "    # number of trials in the experiment\n",
    "    # CHANGE\n",
    "    n_trials=100,\n",
    "    # probability of each stimulus type\n",
    "    # CHANGE\n",
    "    P = [0.33,0.33,0.33],\n",
    "    # the contrasts of interest\n",
    "    # CHANGE\n",
    "    C = [[1,0,0],[0,1,0],[0,0,1],[1,-1,0],[0,1,-1]],\n",
    "    # assumed temperal autocorrelation coefficient\n",
    "    # NO CHANGE\n",
    "    rho = 0.3,\n",
    "    # resolution of the timing of the stimuli (seconds)\n",
    "    # CHANGE\n",
    "    resolution=1,\n",
    "    # how long is stimulus presented on the screen?\n",
    "    # CHANGE\n",
    "    stim_duration=1,\n",
    "    # pre stimulus time\n",
    "    # CHANGE\n",
    "    t_pre = 0,\n",
    "    # post stimulus time\n",
    "    # CHANGE\n",
    "    t_post = 2,\n",
    "    # How many trials between rest blocks\n",
    "    # CHANGE\n",
    "    restnum=0,\n",
    "    # Duration of rest (seconds)\n",
    "    # CHANGE\n",
    "    restdur=0,\n",
    "    # sampling model to choose inter trial intervals (ITIs)\n",
    "    # CHANGE\n",
    "    ITImodel = \"exponential\",\n",
    "    # the smallest ITI (seconds)\n",
    "    # CHANGE\n",
    "    ITImin = 1,\n",
    "    # the average ITI (seconds)\n",
    "    # CHANGE\n",
    "    ITImean = 2,\n",
    "    # the largest ITI (seconds)\n",
    "    # CHANGE\n",
    "    ITImax=4\n",
    "    )\n",
    "\n",
    "POP = geneticalgorithm.population(\n",
    "    experiment=EXP,\n",
    "    # Weights are in the following order\n",
    "    # 0: Design efficiency = 0 (if this is high, then the design will look more event-like)\n",
    "    # 1: Detection power = 0.5 (if this is high, then the design will look more block-like)\n",
    "    # 2: Trial probabilities = 0.25\n",
    "    # 3: Psychological confounds = 0.25\n",
    "    # CHANGE\n",
    "    weights=[0,0.5,0.25,0.25],\n",
    "    # other genetic algorithm parameters\n",
    "    # NO CHANGE\n",
    "    preruncycles = 20,\n",
    "    # NO CHANGE\n",
    "    cycles = 20,\n",
    "    # NO CHANGE\n",
    "    seed=1,\n",
    "    # how many designs should be generated?\n",
    "    # CHANGE\n",
    "    outdes=5,\n",
    "    folder='./design'\n",
    "    )\n",
    "\n",
    "#########################\n",
    "# run natural selection #\n",
    "#########################\n",
    "\n",
    "POP.naturalselection()\n",
    "POP.download()\n",
    "POP.evaluate()\n",
    "POP.print_cmd()\n",
    "\n",
    "################\n",
    "# step by step #\n",
    "################\n",
    "\n",
    "POP.add_new_designs()\n",
    "POP.to_next_generation(seed=1)\n",
    "POP.to_next_generation(seed=1001)\n",
    "\n",
    "#################\n",
    "# export report #\n",
    "#################\n",
    "\n",
    "report.make_report(POP,\"design.pdf\")"
   ]
  }
 ],
 "metadata": {
  "kernelspec": {
   "display_name": "Python 3",
   "language": "python",
   "name": "python3"
  },
  "language_info": {
   "codemirror_mode": {
    "name": "ipython",
    "version": 3
   },
   "file_extension": ".py",
   "mimetype": "text/x-python",
   "name": "python",
   "nbconvert_exporter": "python",
   "pygments_lexer": "ipython3",
   "version": "3.6.3"
  }
 },
 "nbformat": 4,
 "nbformat_minor": 2
}
