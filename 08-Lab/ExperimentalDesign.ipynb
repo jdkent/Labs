{
 "cells": [
  {
   "cell_type": "markdown",
   "metadata": {},
   "source": [
    "# ExperimentalDesign\n",
    "\n",
    "In this notebook we will be using a random-search algorithm to choose the optimal design for our experiment. Creating random designs (without evaluation) in fMRI world often leads to under powered designs because the randomisation does not consider the lagged hemodynamic response and how one trial's response may bleed into another trial's response. This is more of a concern in event related designs, but still something to consider in block designs as well.\n",
    "\n",
    "The video below from Jeanette Mumford helps illuminate task design and to consider what we want from our design"
   ]
  },
  {
   "cell_type": "markdown",
   "metadata": {},
   "source": [
    "### Learning Objectives\n",
    "- Describe the difference between estimation and detection\n",
    "- Understand why choosing a random design can lead to reduced power\n",
    "- State the rule of thumb for a good variance inflation factor (or variance reduction factor)\n",
    "- Learn the options of optseq2 (freesurfer tool) and how to use the tool to design an efficient experimental design\n",
    "- Make an experimental design for your group project (or for a project you may do in the future)"
   ]
  },
  {
   "cell_type": "code",
   "execution_count": null,
   "metadata": {
    "collapsed": true
   },
   "outputs": [],
   "source": [
    "%%bash\n",
    "# Pre lab setup\n",
    "res=$(which optseq2)\n",
    "\n",
    "if [ \"${res}\" == \"\" ]; then\n",
    "    sed -ie 's|export PATH=/home/brain/.packages/miniconda3/bin:/usr/local/bin:/usr/bin:/bin:/usr/local/games:/usr/games|export PATH=/home/brain/.packages/miniconda3/bin:/usr/local/bin:/usr/bin:/bin:/usr/local/games:/usr/games:$PATH|g' ${HOME}/.bashrc\n",
    "    \n",
    "    source ~/.bashrc\n",
    "\n",
    "    rm ${HOME}/.bashrce\n",
    "fi\n",
    "\n",
    "\n",
    "\n",
    "# now close this notebook and open it again"
   ]
  },
  {
   "cell_type": "code",
   "execution_count": null,
   "metadata": {
    "collapsed": true
   },
   "outputs": [],
   "source": [
    "# import necessary packages\n",
    "%matplotlib inline\n",
    "import pandas as pd"
   ]
  },
  {
   "cell_type": "code",
   "execution_count": null,
   "metadata": {},
   "outputs": [],
   "source": [
    "from IPython.display import HTML\n",
    "\n",
    "# If you don't hear this video and you're viewing from virtual machine, you may need to \n",
    "# set up audio in virtual machine settings (you'll need to do this when the machine is powered off)\n",
    "# Jeanette Mumford video\n",
    "HTML('<iframe width=\"560\" height=\"315\" src=\"https://www.youtube.com/embed/FD4ztsoYvSY\" frameborder=\"0\" gesture=\"media\" allow=\"encrypted-media\" allowfullscreen></iframe>')\n",
    "\n"
   ]
  },
  {
   "cell_type": "markdown",
   "metadata": {},
   "source": [
    "## Building An Experiment\n",
    "In lab today we will be considering the flanker experiment we covered in the previous lab (07-Lab).\n",
    "\n",
    "![flanker](img/task.png)\n",
    "\n",
    "The relevant parameters are:\n",
    "- the number of event types (3)\n",
    "- the duration of the event (200 ms)\n",
    "- the duration of the response period (1800 ms) (immediately after the event)\n",
    "- the number of presentations for each event type (40)\n",
    "- the length of the scan (315 volumes = 630 seconds)\n",
    "- the contrast(s) of interest (incongruent - congruent)."
   ]
  },
  {
   "cell_type": "code",
   "execution_count": null,
   "metadata": {},
   "outputs": [],
   "source": [
    "%%bash\n",
    "# display the help of optseq for us to see all the parameters\n",
    "optseq2 --help"
   ]
  },
  {
   "cell_type": "markdown",
   "metadata": {},
   "source": [
    "## Relevant optseq2 Parameters\n",
    "#### --ntp 315\n",
    " - DOC: Number of time points to be acquired during the scan.  This should be\n",
    "for one 'run' not for the entire session. The Total Scanning Time\n",
    "is the number of time points times the TR plus the prescan period,\n",
    "ie, tScanTot = Ntp*TR+tPreScan. \n",
    "- ANS: The flanker scan has 315 volumes.\n",
    "\n",
    "#### --tr 2\n",
    " - DOC: Time between functional volumes (in seconds).\n",
    " - ANS: For this scan the TR is 2 seconds\n",
    " \n",
    "#### --psdwin 0 20 0.2\n",
    " - DOC: Specifications for the FIR event response window. It will be assumed that \n",
    "the entire response can be captured within this window. PSDMin is the \n",
    "minimum PostStimulus Delay (PSD), PSDMax is the maximum PSD. dPSD \n",
    "is the sampling interval within the window. dPSD is optional; if \n",
    "left unset, it will default to the TR. dPSD controls how finely spaced  \n",
    "the event onsets can be scheduled (ie, the onsets will only appear at  \n",
    "integer multiples of the dPSD). \n",
    " -  ANS: I've set the relevant hemodynamic response period to be between 0 and 20 seconds.\n",
    "    This means an event at 8 seconds will have an influence\n",
    "    on the design matrix from 8 - 28 seconds. Real hemodynamic responses can have a residual\n",
    "    effect up to 36 seconds after the event, but the majority of the effect *should* be\n",
    "    done after 20 seconds. The third parameter is the resolution of the design matrix.\n",
    "    This has to be as small as the event duration or a factor smaller (e.g. 0.1, 0.05, etc).\n",
    "\n",
    "#### --ev con 0.2 40 --ev inc 0.2 40 --ev neu 0.2 40\n",
    "- DOC: Event Type specification. The label is just a text label (which may be \n",
    "more informative than a numeric id). Duration is the number of seconds \n",
    "that the stimulus will be presented; it should be an integer multiple \n",
    "of the dPSD (see --psdwin). Nrepetitions is the number of times that \n",
    "this event type will be presented during the course of the run. The \n",
    "number of repetitions can be optimized using the --repvar option. Use \n",
    "a different --ev flag for each event type. NOTE: DO NOT INCLUDE THE \n",
    "NULL STIMULUS AS AN EVENT TYPE.  The total stimulation time, tStimTot, \n",
    "equals the product of the duration and the number of repetitions \n",
    "summed over all the events. It should be obvious that the total \n",
    "stimulation time must be less than the total scanning time. \n",
    "- ANS: The flanker task has three event types: congruent (con), \n",
    "  incongruent (inc), and neutral (neu), each of the stimuli\n",
    "  will be presented for 0.2 seconds (200 milli-seconds) and repeated\n",
    "  40 times each.\n",
    "\n",
    "#### --tnullmin 3.8\n",
    "- DOC: Force the NULL stimulus to be at least tNullMin sec between stimuli.\n",
    "Note that this means that the stimulus duration + tNullMin must be\n",
    "an integer multiple of the dPSD.\n",
    "- ANS: This enforces participants will have the 1.8 second period to respond\n",
    "  after the 0.2 second event, meaning at least 2 seconds of \"rest\" will be given\n",
    "  to participants after each trial.\n",
    "\n",
    "#### --tnullmax 20\n",
    "- DOC: Limit the maximum duration of the NULL stimulus to be tNullMax sec.\n",
    " Note: it may not be possible for a given parameter set to keep the NULL \n",
    "stimulus below a certain amount. In this case, the following error \n",
    "message will be printed out 'ERROR: could not enforce tNullMax'. By\n",
    "default, tNullMax is infinite. \n",
    "- ANS: A pratical limitation to constrain the creation of designs\n",
    "  with loooong rest periods between trials.\n",
    "\n",
    "#### --nsearch 1000\n",
    "- DOC: Search over Nsearch iterations. optseq will randomly construct Nsearch \n",
    "schedules, compute the cost of each one, and keep the ones with the \n",
    "highest cost. It is not permitted to specify both Nsearch and Tsearch. \n",
    "- ANS: I'm generating 1,000 designs for time's sake, you will want \n",
    "  a much larger number (i.e. 10,000 or even 100,000) for actual design generation\n",
    "  \n",
    "#### --evc -1 1 0\n",
    "- DOC: Optimize based on a contrast of the event types. Ci is the contrast \n",
    "weight for event type i. There must be as many weights as event types. \n",
    "Weights are NOT renormalized such that they sum to 1. \n",
    "- ANS: each number corresponds to each `--ev` I've specified in the order I specified them\n",
    "  In this case the -1 corresponds to the congruent condition, 1 corresponds to the incongruent condition\n",
    "  and 0 refers to the neutral condition. The contrast in words means (incongruent - congruent).\n",
    "\n",
    "#### --seed 123\n",
    "- DOC: Initialize the random number generator to seedval. If no seedval is \n",
    "specified, then one will be picked based on the time of day. optseq2 \n",
    "uses drand48(). \n",
    "- ANS: To make sure my analysis is reproducible\n",
    "\n",
    "#### --nkeep 5\n",
    "- DOC: Save nKeep of the best schedules. Increasing this number does not \n",
    "substantially increase the search time, so it is a good idea to  \n",
    "specify more than you think you will need. \n",
    "- ANS: keeping the top five (in case I want to randomise which version I use across participants)\n",
    "\n",
    "#### --o flanker_stims\n",
    "- DOC:Save schedules in outstem-RRR.par, where RRR is the 3-digit \n",
    "zero-padded schedule rank number (there will be nKeep of them). \n",
    "The schedules will be saved in the Paradigm File Format (see below).\n",
    "- ANS: A useful output name"
   ]
  },
  {
   "cell_type": "code",
   "execution_count": null,
   "metadata": {},
   "outputs": [],
   "source": [
    "%%bash\n",
    "optseq2 \\\n",
    "--tprescan -8 `# number of seconds to wait before showing stimuli (allows scanner to reach steady state)` \\\n",
    "--ntp 315 `# number of volumes in the experiment` \\\n",
    "--tr 2 `# repetition time (how long it takes to scan the entire brain once)` \\\n",
    "--psdwin 0 20 0.2 `# The first two numbers give the time range of the HRF, and the third is resolution of the design` \\\n",
    "--ev con 0.2 40 `# congruent (con: 0.2 second duration, 40 repetitions)` \\\n",
    "--ev inc 0.2 40 `# incongruent (inc: 0.2 second duration, 40 repetitions)` \\\n",
    "--ev neu 0.2 40 `# neutral (neu: 0.2 second duration, 40 repetitions)` \\\n",
    "--tnullmin 3.8 `# The minimum time between events. 3.8 - 1.8 (response period) = 2.0 seconds (the real amount of non-processing time)` \\\n",
    "--tnullmax 20 `# The maximum time between events` \\\n",
    "--nsearch 1000 `# The number of designs to consider` \\\n",
    "--evc -1 1 0 `# The contrast of interest for the experiment (inc - con)` \\\n",
    "--seed 123 `# set random seed to get consistent results` \\\n",
    "--nkeep 5 `# keep the top five designs` \\\n",
    "--o flanker_events_orig `# the output base name` &> /dev/null"
   ]
  },
  {
   "cell_type": "code",
   "execution_count": null,
   "metadata": {},
   "outputs": [],
   "source": [
    "\n",
    "\n",
    "# open and read the summary file\n",
    "def parse_optseq_summary(summary_file):\n",
    "    with open(summary_file) as sf:\n",
    "        n = -1\n",
    "        # output collector in a list\n",
    "        outer_lst = []\n",
    "        # for each line\n",
    "        for line in sf:\n",
    "            # We are interested the line starting Rank and the five lines after that\n",
    "            # representing the five designs we made\n",
    "            if line.startswith(\"Rank\"):\n",
    "                n = 5\n",
    "            # if the previous statement set n to 5 store the current and the next \n",
    "            # five lines into a list.\n",
    "            if n >= 0:\n",
    "                # remove the newline character, split by spaces, and remove null string elements.\n",
    "                outer_lst.append([x for x in line.replace('\\n', '').split(' ') if x is not ''])\n",
    "                n -= 1\n",
    "    return outer_lst\n",
    "\n",
    "# the summary file that contains useful information about the designs\n",
    "sum_file = 'flanker_events_orig.sum'\n",
    "# run the function\n",
    "optseq_info = parse_optseq_summary(sum_file)\n",
    "# the top list contains the headers for the dataframe\n",
    "headers = optseq_info.pop(0)\n",
    "\n",
    "# set the dataframe\n",
    "df_orig = pd.DataFrame(optseq_info, columns=headers)\n",
    "# make the contents numeric (were strings)\n",
    "df_orig = df_orig.apply(lambda x: pd.to_numeric(x))\n",
    "# display the first five elements (which are coincidently all the elements)\n",
    "display(df_orig.head())\n",
    "display(df_orig.describe())\n",
    "# plot the Variance Reduction Factor\n",
    "df_orig['VRFAvg'].plot.bar(title='Variance Reduction Factor Average', x='designs')\n"
   ]
  },
  {
   "cell_type": "markdown",
   "metadata": {},
   "source": [
    "### Variance Reduction Factors (VRF)\n",
    "This is a measure of how correlated the regressors (e.g. con, inc, and neu) are with each other. For example, if a congruent trial always followed 2 seconds after an incongruent trial the regressors would be highly correlated resulting in a very low variance reduction factor. Each condition (e.g. congruent, incongruent, and neutral) will have their own variance reduction factor. If $i$ stands for a particular condition $i$ (which can take the value of congruent, incongruent, or neutral in this instance), and $n$ represents the number of conditions (in this case 3), then we can calculate the average variance reduction factor like so:\n",
    "\n",
    "$$1/n\\int\\limits_{i=1}^n 1 - R_i^2$$\n",
    "\n",
    "Where $R_i^2$ is the r-squared component for that particular condition. In other words, $R_i^2$ measures the amount of variance in condition $i$ that can be explained by the other conditions. To give some intuition, a small variance reduction factor means the conditions are highly correlated with each other $R^2 = 0.99; 1 - R^2 = 0.01$, whereas a small variance reduction factor means the conditions are largely independent $R^2 = 0.01; 1 - R^2 = 0.99$. Unfortunately, outside of optseq, people often use variance inflation factor (VIF) when describing colinearity. Thankfully, the average variance inflation factor equation is just the inverse of the variance reduction factor equation.\n",
    "\n",
    "$$1/n\\int\\limits_{i=1}^n 1/(1 - R_i^2)$$\n",
    "\n",
    "Jeanette Mumford gives the rule of thumb the average VIF should ideally be under 5 or just under 10 if there are certain design constraints. So writing those in terms of variance reduction factors, they should be greater than 0.2, or at least greater than 0.1 in a pinch.\n",
    "\n",
    "### VIF RULE OF THUMB\n",
    "- VIF < 5 (or 10)\n",
    "\n",
    "### VRF RULE OF THUMB\n",
    "- VRF > 0.2 (or 0.1)\n"
   ]
  },
  {
   "cell_type": "markdown",
   "metadata": {},
   "source": [
    "### Optseq2 Resources\n",
    "- [optseq2 website](http://surfer.nmr.mgh.harvard.edu/optseq/)\n",
    "- [Andrew Jahn Tutorial](https://www.youtube.com/watch?v=MIx_PN4FkKk)\n",
    "\n",
    "\n",
    "### Other Resources\n",
    "- [Excellent Practical Guide to Study Design](http://imaging.mrc-cbu.cam.ac.uk/imaging/DesignEfficiency)"
   ]
  },
  {
   "cell_type": "markdown",
   "metadata": {},
   "source": [
    "## Practice Problems"
   ]
  },
  {
   "cell_type": "markdown",
   "metadata": {},
   "source": [
    "1a) When we set `psdwin 0 20 0.2`, we essentially told optseq2 to smear the event to have an impact on the design for 20 seconds (as opposed to 0.2 seconds). What do you think would happen if we instead set `psdwin 0 4 0.2`. How would you predict this would impact the VRF (or inversely the VIF)? "
   ]
  },
  {
   "cell_type": "markdown",
   "metadata": {},
   "source": [
    ":Prediction Here:"
   ]
  },
  {
   "cell_type": "code",
   "execution_count": null,
   "metadata": {
    "collapsed": true
   },
   "outputs": [],
   "source": [
    "# Code Here"
   ]
  },
  {
   "cell_type": "markdown",
   "metadata": {},
   "source": [
    "1b) Compare the VRFs you got from 1a with the VRFs calculated from class, you can graph them both or use the describe method on the dataframe (e.g. `df_orig.describe()`)"
   ]
  },
  {
   "cell_type": "code",
   "execution_count": null,
   "metadata": {
    "collapsed": true
   },
   "outputs": [],
   "source": [
    "# Code Here"
   ]
  },
  {
   "cell_type": "markdown",
   "metadata": {},
   "source": [
    ":Describe Results:"
   ]
  },
  {
   "cell_type": "markdown",
   "metadata": {},
   "source": [
    "2) With your group, think up of a experiment and come up with the optseq2 command to optimize your experimental design (remember to set `--nsearch 10000`)"
   ]
  },
  {
   "cell_type": "code",
   "execution_count": null,
   "metadata": {
    "collapsed": true
   },
   "outputs": [],
   "source": [
    "# Code Here"
   ]
  }
 ],
 "metadata": {
  "kernelspec": {
   "display_name": "Python 3",
   "language": "python",
   "name": "python3"
  },
  "language_info": {
   "codemirror_mode": {
    "name": "ipython",
    "version": 3
   },
   "file_extension": ".py",
   "mimetype": "text/x-python",
   "name": "python",
   "nbconvert_exporter": "python",
   "pygments_lexer": "ipython3",
   "version": "3.6.1"
  }
 },
 "nbformat": 4,
 "nbformat_minor": 2
}
