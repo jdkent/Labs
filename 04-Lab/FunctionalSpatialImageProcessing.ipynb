{
 "cells": [
  {
   "cell_type": "markdown",
   "metadata": {},
   "source": [
    "# Lab 04: Functional spatial image processing\n",
    "\n",
    "The purpose of this lab is to practice registration steps that transform a functional image to higher-resolution anatomical space of the same subject, and then to standard space. We will then learn how to use these transforms to move an atlas-based mask from standard space to the subject's functional space."
   ]
  },
  {
   "cell_type": "markdown",
   "metadata": {},
   "source": [
    "## Preparation\n",
    "* Import python tools for plotting 3D images\n",
    "* Copy images from Lab 03 for our sub-97 example that we've been working with"
   ]
  },
  {
   "cell_type": "code",
   "execution_count": null,
   "metadata": {},
   "outputs": [],
   "source": [
    "%matplotlib inline\n",
    "from nilearn import plotting\n",
    "from nilearn import image"
   ]
  },
  {
   "cell_type": "code",
   "execution_count": null,
   "metadata": {},
   "outputs": [],
   "source": [
    "%%bash\n",
    "# Copy files from previous labs so it is easier work with them here\n",
    "\n",
    "# Files from 03 Lab that include our transforms for T1->MNI\n",
    "cp ../03-Lab/my_T1_brain.nii.gz my_T1_brain.nii.gz\n",
    "cp ../03-Lab/my_T1.nii.gz my_T1.nii.gz\n",
    "cp ../03-Lab/MNI152_T1_2mm_brain.nii.gz MNI152_T1_2mm_brain.nii.gz\n",
    "cp ../03-Lab/MNI152_T1_2mm.nii.gz MNI152_T1_2mm.nii.gz\n",
    "cp ../03-Lab/T1_2_MNI.mat T1_2_MNI.mat # affine\n",
    "cp ../03-Lab/T1_2_MNI_warp.nii.gz T1_2_MNI_warp.nii.gz # non-linear warp\n",
    "\n",
    "# Copy functional image from osfshare\n",
    "cp ../01-Lab/osfshare/sub-97_task-flanker_bold.nii.gz my_bold.nii.gz"
   ]
  },
  {
   "cell_type": "markdown",
   "metadata": {},
   "source": [
    "## Registration of functional image to T1\n",
    "\n",
    "Summary of steps \n",
    "* Extract reference volume from the 4D functional image data set \n",
    "    * fslroi tool is handy for this\n",
    "   \n",
    "* Estimation: \n",
    "    * Boundary Based Registration (BBR) which in theory is most accurate but takes a bit of time to run (try at home)\n",
    "    * 6 degrees of freedom (DOF) co-registration (faster, practice in class)"
   ]
  },
  {
   "cell_type": "code",
   "execution_count": null,
   "metadata": {},
   "outputs": [],
   "source": [
    "# There are 315 volumes in this functional data set, it doesn't make a big deal whether you round up or down\n",
    "315/2"
   ]
  },
  {
   "cell_type": "code",
   "execution_count": null,
   "metadata": {},
   "outputs": [],
   "source": [
    "%%bash\n",
    "fslroi"
   ]
  },
  {
   "cell_type": "code",
   "execution_count": null,
   "metadata": {},
   "outputs": [],
   "source": [
    "%%bash\n",
    "\n",
    "# Example usage to name our middle volume as example_func\n",
    "# Reads: take input of my_bold, give back example func after extracting volumes starting at vol 157 with length 1\n",
    "# Remember since indexing of volumes starts at zero, this is the 158th volume\n",
    "fslroi my_bold.nii.gz example_func.nii.gz 157 1"
   ]
  },
  {
   "cell_type": "code",
   "execution_count": null,
   "metadata": {},
   "outputs": [],
   "source": [
    "%%bash\n",
    "\n",
    "# Take a look with fslview\n",
    "fslview example_func.nii.gz"
   ]
  },
  {
   "cell_type": "code",
   "execution_count": null,
   "metadata": {},
   "outputs": [],
   "source": [
    "%%bash\n",
    "\n",
    "# Code for the 6 DOF func2T1 co-registration\n",
    "flirt -in example_func \\\n",
    "-ref my_T1_brain \\\n",
    "-out func2T1_6dof \\\n",
    "-omat func2T1_6dof.mat \\\n",
    "-cost corratio \\\n",
    "-dof 6 \\\n",
    "-searchrx -90 90 -searchry -90 90 -searchrz -90 90 \\\n",
    "-interp trilinear\n"
   ]
  },
  {
   "cell_type": "code",
   "execution_count": null,
   "metadata": {},
   "outputs": [],
   "source": [
    "%%bash\n",
    "\n",
    "# What did this produce? What is our main output of interest? \n"
   ]
  },
  {
   "cell_type": "markdown",
   "metadata": {},
   "source": [
    "## Concatenating transforms\n",
    "\n",
    "For functional image analysis, we often need to align each individual's functional image with a standard space image. The standard space image (e.g., MNI 152 2mm) is a common reference space that we will align all our functional images to. This allows us to have a comparable image space for statistical analyses.  \n",
    "\n",
    "So far we have:\n",
    "* A transform from func to T1 \n",
    "* A transform + warp from T1 to MNI \n",
    "\n",
    "We don't want to apply these sequentially *on the images themselves* because once the func is transformed we lose some precision in the image compared to the original. So we'll combine these transforms mathematically with FSL's convertwarp tool. "
   ]
  },
  {
   "cell_type": "code",
   "execution_count": null,
   "metadata": {},
   "outputs": [],
   "source": [
    "%%bash\n",
    "\n",
    "# Next we need to use convertwarp to concatenate our affine with our nonlinear warp\n",
    "# Usage\n",
    "convertwarp"
   ]
  },
  {
   "cell_type": "code",
   "execution_count": null,
   "metadata": {},
   "outputs": [],
   "source": [
    "%%bash\n",
    "\n",
    "# Concatenate\n",
    "convertwarp --ref=MNI152_T1_2mm_brain --premat=func2T1_6dof.mat --warp1=T1_2_MNI_warp --out=func2MNI_warp"
   ]
  },
  {
   "cell_type": "code",
   "execution_count": null,
   "metadata": {},
   "outputs": [],
   "source": [
    "%%bash\n",
    "\n",
    "# Apply concatenated transform\n",
    "applywarp --ref=MNI152_T1_2mm_brain --in=example_func --out=func2MNI --warp=func2MNI_warp"
   ]
  },
  {
   "cell_type": "code",
   "execution_count": null,
   "metadata": {},
   "outputs": [],
   "source": [
    "%%bash\n",
    "\n",
    "# Let's take a look in fslview\n",
    "fslview MNI152_T1_2mm_brain.nii.gz func2MNI.nii.gz"
   ]
  },
  {
   "cell_type": "code",
   "execution_count": null,
   "metadata": {},
   "outputs": [],
   "source": [
    "# Plot a more static image with edge overlay\n",
    "mni=\"MNI152_T1_2mm.nii.gz\"\n",
    "fimg=\"func2MNI.nii.gz\"\n",
    "display=plotting.plot_anat(mni, display_mode=\"z\",cut_coords=10,title=\"func to MNI with 6DOF func2T1 and FNIRT T1 to MNI\")\n",
    "display.add_edges(fimg)"
   ]
  },
  {
   "cell_type": "markdown",
   "metadata": {},
   "source": [
    "## Invert transform of functional to MNI and apply to a mask\n",
    "\n",
    "So far we have gone in this direction: func -> T1 -> MNI  \n",
    "We can invert our transforms to go in the opposite direction: func <- T1 <- MNI  "
   ]
  },
  {
   "cell_type": "code",
   "execution_count": null,
   "metadata": {},
   "outputs": [],
   "source": [
    "%%bash\n",
    "\n",
    "# We need to invert our warp from T1_2_MNI to get the MNI_2_T1 warp\n",
    "# Generic usage: invwarp -w A2B_warp -o B2A_warp -r A\n",
    "invwarp -w T1_2_MNI_warp -o MNI_2_T1_warp -r my_T1_brain.nii.gz"
   ]
  },
  {
   "cell_type": "code",
   "execution_count": null,
   "metadata": {},
   "outputs": [],
   "source": [
    "%%bash\n",
    "\n",
    "# We can invert our func2T1_6dof.mat with convert_xfm\n",
    "# Try this below, name the inverted matrix T12func.mat\n",
    "convert_xfm -omat T12func_6dof.mat -inverse func2T1_6dof.mat"
   ]
  },
  {
   "cell_type": "code",
   "execution_count": null,
   "metadata": {},
   "outputs": [],
   "source": [
    "%%bash\n",
    "\n",
    "# Extracting an atlas-based region of interest in MNI space\n",
    "# Copy the Harvard-Oxford sub-cortical atlas from fsl's library to our working directory\n",
    "cp /usr/share/fsl/data/atlases/HarvardOxford/HarvardOxford-sub-maxprob-thr50-2mm.nii.gz HarvardOxford-sub-maxprob-thr50-2mm.nii.gz"
   ]
  },
  {
   "cell_type": "code",
   "execution_count": null,
   "metadata": {},
   "outputs": [],
   "source": [
    "%%bash\n",
    "fslview HarvardOxford-sub-maxprob-thr50-2mm.nii.gz"
   ]
  },
  {
   "cell_type": "code",
   "execution_count": null,
   "metadata": {},
   "outputs": [],
   "source": [
    "%%bash\n",
    "\n",
    "# Example for extracting the left putamen (intensity 6)\n",
    "fslmaths HarvardOxford-sub-maxprob-thr50-2mm.nii.gz -thr 6 -uthr 6 Lputamen.nii.gz"
   ]
  },
  {
   "cell_type": "code",
   "execution_count": null,
   "metadata": {},
   "outputs": [],
   "source": [
    "%%bash\n",
    "\n",
    "# Did it work?\n",
    "fslview MNI152_T1_2mm_brain.nii.gz Lputamen.nii.gz"
   ]
  },
  {
   "cell_type": "code",
   "execution_count": null,
   "metadata": {},
   "outputs": [],
   "source": [
    "%%bash\n",
    "\n",
    "# Finally we can use apply warp to apply both our nonlinear and affine warps at once to our functional\n",
    "# This is typically done when we want to put a regional mask in standard space into functional space \n",
    "# e.g., for our atlas-based ROI of the caudate\n",
    "applywarp -i Lputamen -r example_func -o Lputamen_mask_func -w MNI_2_T1_warp --postmat=T12func_6dof.mat"
   ]
  },
  {
   "cell_type": "code",
   "execution_count": null,
   "metadata": {},
   "outputs": [],
   "source": [
    "%%bash\n",
    "\n",
    "# Did it work?  What are the intensity values in the mask and on edges?\n",
    "fslview example_func.nii.gz Lputamen_mask_func.nii.gz"
   ]
  },
  {
   "cell_type": "code",
   "execution_count": null,
   "metadata": {},
   "outputs": [],
   "source": [
    "%%bash\n",
    "\n",
    "# Dealing with edge effects in transformed masks\n",
    "# How could we threshold this to manage edge bleeds?\n",
    "# Name output Lputamen_mask_func_thr_bin.nii.gz\n"
   ]
  },
  {
   "cell_type": "code",
   "execution_count": null,
   "metadata": {},
   "outputs": [],
   "source": [
    "%%bash\n",
    "\n",
    "# See if you like\n",
    "fslview example_func.nii.gz Lputamen_mask_func.nii.gz Lputamen_mask_func_thr_bin.nii.gz"
   ]
  },
  {
   "cell_type": "code",
   "execution_count": null,
   "metadata": {},
   "outputs": [],
   "source": [
    "# Plot a more static image with some transparency using alpha setting\n",
    "fimg=\"example_func.nii.gz\"\n",
    "roi=\"Lputamen_mask_func_thr_bin.nii.gz\"\n",
    "plotting.plot_roi(roi,fimg, display_mode=\"z\",cut_coords=10,alpha=.5,title=\"Lputamen to func\")"
   ]
  },
  {
   "cell_type": "markdown",
   "metadata": {},
   "source": [
    "Why can't we use this to extract the timeseries from this region in the my_bold.nii.gz image yet?"
   ]
  },
  {
   "cell_type": "markdown",
   "metadata": {},
   "source": [
    "## Problem sets"
   ]
  },
  {
   "cell_type": "markdown",
   "metadata": {},
   "source": [
    "*1a)* Use the epi_reg tool to generate a transform from functional to T1 space, and combine these transforms to complete a registration of the functional to MNI using BBR for the functional step.\n",
    "* Name the output of bbr func2T1_bbr\n",
    "* Name the output of the final concatenated warp func2MNI_bbr "
   ]
  },
  {
   "cell_type": "code",
   "execution_count": null,
   "metadata": {},
   "outputs": [],
   "source": [
    "%%bash\n",
    "\n",
    "# Examine usage below\n",
    "epi_reg"
   ]
  },
  {
   "cell_type": "code",
   "execution_count": null,
   "metadata": {},
   "outputs": [],
   "source": [
    "%%bash\n",
    "\n",
    "# The epi_reg command will take a little time because there appears to be a bug when you supply your own _wmseg\n",
    "# Therefore it will run FAST \n"
   ]
  },
  {
   "cell_type": "markdown",
   "metadata": {},
   "source": [
    "*1b)*  Comment on whether you think BBR did a better job and why or why not. Feel free to use figures to help visualize your comparison. "
   ]
  },
  {
   "cell_type": "markdown",
   "metadata": {},
   "source": []
  },
  {
   "cell_type": "markdown",
   "metadata": {},
   "source": [
    "*2)* Extract a different region of interest from the Harvard Oxford sub-cortical atlas. Describe the anatomical region you chose and complete steps to register your mask to the functional bold image. You can use whichever transform set from above worked best.\n",
    "\n",
    "Show your steps below and create a figure with nilearn to visualize your ROI on the reference functional image."
   ]
  },
  {
   "cell_type": "code",
   "execution_count": null,
   "metadata": {},
   "outputs": [],
   "source": [
    "%%bash\n",
    "\n",
    "# Your code "
   ]
  },
  {
   "cell_type": "code",
   "execution_count": null,
   "metadata": {},
   "outputs": [],
   "source": [
    "# Code for your ROI figure"
   ]
  }
 ],
 "metadata": {
  "kernelspec": {
   "display_name": "Python 3",
   "language": "python",
   "name": "python3"
  },
  "language_info": {
   "codemirror_mode": {
    "name": "ipython",
    "version": 3
   },
   "file_extension": ".py",
   "mimetype": "text/x-python",
   "name": "python",
   "nbconvert_exporter": "python",
   "pygments_lexer": "ipython3",
   "version": "3.6.3"
  }
 },
 "nbformat": 4,
 "nbformat_minor": 2
}
