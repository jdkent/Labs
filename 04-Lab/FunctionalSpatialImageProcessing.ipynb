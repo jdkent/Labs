{
 "cells": [
  {
   "cell_type": "markdown",
   "metadata": {},
   "source": [
    "# Lab 04: Functional spatial image processing\n",
    "\n",
    "The purpose of this lab is to practice registration steps that transform a functional image to higher-resolution anatomical space of the same subject, and then to standard space. "
   ]
  },
  {
   "cell_type": "markdown",
   "metadata": {},
   "source": [
    "## Preparation\n",
    "* Import python tools for plotting 3D images\n",
    "* Copy images from Lab 03 for our sub-97 example that we've been working with"
   ]
  },
  {
   "cell_type": "code",
   "execution_count": 1,
   "metadata": {},
   "outputs": [],
   "source": [
    "%matplotlib inline\n",
    "from nilearn import plotting\n",
    "from nilearn import image"
   ]
  },
  {
   "cell_type": "code",
   "execution_count": 2,
   "metadata": {},
   "outputs": [
    {
     "name": "stderr",
     "output_type": "stream",
     "text": [
      "cp: missing destination file operand after ‘../03-Lab/T1_2_MNI.mat’\n",
      "Try 'cp --help' for more information.\n",
      "cp: missing destination file operand after ‘../03-Lab/T1_2_MNI_warp.nii.gz’\n",
      "Try 'cp --help' for more information.\n"
     ]
    }
   ],
   "source": [
    "%%bash\n",
    "# Copy files from previous labs so it is easier work with them here\n",
    "\n",
    "# Files from 03 Lab that include our transforms for T1->MNI\n",
    "cp ../03-Lab/my_T1_brain.nii.gz my_T1_brain.nii.gz\n",
    "cp ../03-Lab/my_T1.nii.gz my_T1.nii.gz\n",
    "cp ../03-Lab/MNI152_T1_2mm_brain.nii.gz MNI152_T1_2mm_brain.nii.gz\n",
    "cp ../03-Lab/MNI152_T1_2mm.nii.gz MNI152_T1_2mm.nii.gz\n",
    "cp ../03-Lab/T1_2_MNI.mat T1_2_MNI.mat # affine\n",
    "cp ../03-Lab/T1_2_MNI_warp.nii.gz T1_2_MNI_warp.nii.gz # non-linear warp\n",
    "\n",
    "# Copy functional image\n",
    "cp ../01-Lab/osfshare/sub-97_task-flanker_bold.nii.gz my_bold.nii.gz"
   ]
  },
  {
   "cell_type": "code",
   "execution_count": null,
   "metadata": {},
   "outputs": [],
   "source": []
  }
 ],
 "metadata": {
  "kernelspec": {
   "display_name": "Python 3",
   "language": "python",
   "name": "python3"
  },
  "language_info": {
   "codemirror_mode": {
    "name": "ipython",
    "version": 3
   },
   "file_extension": ".py",
   "mimetype": "text/x-python",
   "name": "python",
   "nbconvert_exporter": "python",
   "pygments_lexer": "ipython3",
   "version": "3.6.3"
  }
 },
 "nbformat": 4,
 "nbformat_minor": 2
}
