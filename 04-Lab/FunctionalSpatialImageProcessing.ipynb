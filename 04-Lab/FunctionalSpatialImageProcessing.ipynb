{
 "cells": [
  {
   "cell_type": "markdown",
   "metadata": {},
   "source": [
    "# Lab 04: Functional spatial image processing\n",
    "\n",
    "The purpose of this lab is to practice registration steps that transform a functional image to higher-resolution anatomical space of the same subject, and then to standard space. "
   ]
  },
  {
   "cell_type": "markdown",
   "metadata": {},
   "source": [
    "## Preparation\n",
    "* Import python tools for plotting 3D images\n",
    "* Copy images from Lab 03 for our sub-97 example that we've been working with"
   ]
  },
  {
   "cell_type": "code",
   "execution_count": 1,
   "metadata": {},
   "outputs": [],
   "source": [
    "%matplotlib inline\n",
    "from nilearn import plotting\n",
    "from nilearn import image"
   ]
  },
  {
   "cell_type": "code",
   "execution_count": 20,
   "metadata": {},
   "outputs": [],
   "source": [
    "%%bash\n",
    "# Copy files from previous labs so it is easier work with them here\n",
    "\n",
    "# Files from 03 Lab that include our transforms for T1->MNI\n",
    "cp ../03-Lab/my_T1_brain.nii.gz my_T1_brain.nii.gz\n",
    "cp ../03-Lab/my_T1.nii.gz my_T1.nii.gz\n",
    "cp ../03-Lab/MNI152_T1_2mm_brain.nii.gz MNI152_T1_2mm_brain.nii.gz\n",
    "cp ../03-Lab/MNI152_T1_2mm.nii.gz MNI152_T1_2mm.nii.gz\n",
    "cp ../03-Lab/T1_2_MNI.mat T1_2_MNI.mat # affine\n",
    "cp ../03-Lab/T1_2_MNI_warp.nii.gz T1_2_MNI_warp.nii.gz # non-linear warp\n",
    "cp ../03-Lab/my_T1_brain_seg_2.nii.gz my_T1_brain_wmseg.nii.gz \n",
    "\n",
    "# Copy functional image from osfshare\n",
    "cp ../01-Lab/osfshare/sub-97_task-flanker_bold.nii.gz my_bold.nii.gz"
   ]
  },
  {
   "cell_type": "markdown",
   "metadata": {},
   "source": [
    "## Registration of functional image to T1\n",
    "\n",
    "Summary of steps \n",
    "* Extract reference volume from the 4D functional image data set \n",
    "    * fslroi tool is handy for this\n",
    "   \n",
    "* Estimation: \n",
    "    * Boundary Based Registration (BBR) which in theory is most accurate but takes a bit of time to run (try at home)\n",
    "    * 6 degree of freedom (DOF) co-registration (faster, practice in class)\n",
    "    \n",
    "* Apply transform\n",
    "    * applywarp"
   ]
  },
  {
   "cell_type": "code",
   "execution_count": 4,
   "metadata": {},
   "outputs": [
    {
     "data": {
      "text/plain": [
       "157.5"
      ]
     },
     "execution_count": 4,
     "metadata": {},
     "output_type": "execute_result"
    }
   ],
   "source": [
    "# There are 315 volumes in this functional data set, it doesn't make a big deal whether you round up or down\n",
    "315/2"
   ]
  },
  {
   "cell_type": "code",
   "execution_count": 5,
   "metadata": {},
   "outputs": [
    {
     "name": "stdout",
     "output_type": "stream",
     "text": [
      "\n",
      "Usage: fslroi <input> <output> <xmin> <xsize> <ymin> <ysize> <zmin> <zsize>\n",
      "       fslroi <input> <output> <tmin> <tsize>\n",
      "\n",
      "       fslroi <input> <output> <xmin> <xsize> <ymin> <ysize> <zmin> <zsize> <tmin> <tsize>\n",
      "Note: indexing (in both time and space) starts with 0 not 1! Inputting -1 for a size will set it to the full image extent for that dimension.\n"
     ]
    }
   ],
   "source": [
    "%%bash\n",
    "fslroi"
   ]
  },
  {
   "cell_type": "code",
   "execution_count": 6,
   "metadata": {},
   "outputs": [],
   "source": [
    "%%bash\n",
    "\n",
    "# Example usage to name our middle volume as example_func\n",
    "# Reads: take input of my_bold, give back example func after extracting volumes starting at vol 157 with length 1\n",
    "# Remember since indexing of volumes starts at zero, this is the 158th volume\n",
    "fslroi my_bold.nii.gz example_func.nii.gz 157 1"
   ]
  },
  {
   "cell_type": "code",
   "execution_count": 7,
   "metadata": {},
   "outputs": [],
   "source": [
    "%%bash\n",
    "\n",
    "# Take a look with fslview\n",
    "# Decent gray matter/white matter contrast?\n",
    "fslview example_func.nii.gz"
   ]
  },
  {
   "cell_type": "code",
   "execution_count": 31,
   "metadata": {},
   "outputs": [],
   "source": [
    "%%bash\n",
    "\n",
    "# Code for the 6 DOF func2T1 co-registration\n",
    "flirt -in example_func \\\n",
    "-ref my_T1_brain \\\n",
    "-out func2T1_6dof \\\n",
    "-omat func2T1_6dof.mat \\\n",
    "-cost corratio \\\n",
    "-dof 6 \\\n",
    "-searchrx -90 90 -searchry -90 90 -searchrz -90 90 \\\n",
    "-interp trilinear\n"
   ]
  },
  {
   "cell_type": "code",
   "execution_count": 33,
   "metadata": {},
   "outputs": [],
   "source": [
    "%%bash\n",
    "\n",
    "# What did this produce? What is our main output of interest? \n"
   ]
  },
  {
   "cell_type": "markdown",
   "metadata": {},
   "source": [
    "## Problem sets"
   ]
  },
  {
   "cell_type": "markdown",
   "metadata": {},
   "source": [
    "*1).* Use the epi_reg tool to generate a transform from functional to T1 space. Name your output func2T1_bbr "
   ]
  },
  {
   "cell_type": "code",
   "execution_count": 8,
   "metadata": {},
   "outputs": [
    {
     "name": "stdout",
     "output_type": "stream",
     "text": [
      "\n",
      "Usage: epi_reg [options] --epi=<EPI image> --t1=<wholehead T1 image> --t1brain=<brain extracted T1 image> --out=<output name>\n",
      " \n",
      "Optional arguments\n",
      "  --fmap=<image>         : fieldmap image (in rad/s)\n",
      "  --fmapmag=<image>      : fieldmap magnitude image - wholehead extracted\n",
      "  --fmapmagbrain=<image> : fieldmap magnitude image - brain extracted\n",
      "  --wmseg=<image>        : white matter segmentation of T1 image\n",
      "  --echospacing=<val>    : Effective EPI echo spacing (sometimes called dwell time) - in seconds\n",
      "  --pedir=<dir>          : phase encoding direction, dir = x/y/z/-x/-y/-z\n",
      "  --weight=<image>       : weighting image (in T1 space)\n",
      "  --nofmapreg            : do not perform registration of fmap to T1 (use if fmap already registered) \n",
      "  --noclean              : do not clean up intermediate files\n",
      "  -v                     : verbose output\n",
      "  -h                     : display this help message\n",
      " \n",
      "e.g.:  epi_reg --epi=example_func --t1=struct --t1brain=struct_brain --out=epi2struct --fmap=fmap_rads --fmapmag=fmap_mag --fmapmagbrain=fmap_mag_brain --echospacing=0.0005 --pedir=-y\n",
      " \n",
      "Note that if parallel acceleration is used in the EPI acquisition then the *effective* echo spacing is the actual echo spacing between acquired lines in k-space divided by the acceleration factor.\n",
      " \n"
     ]
    }
   ],
   "source": [
    "%%bash\n",
    "\n",
    "# Examine usage below\n",
    "epi_reg"
   ]
  },
  {
   "cell_type": "code",
   "execution_count": 29,
   "metadata": {},
   "outputs": [
    {
     "name": "stdout",
     "output_type": "stream",
     "text": [
      "Running FAST segmentation\n",
      "FLIRT pre-alignment\n",
      "Running BBR\n",
      "0.536758 0.999835 -0.015919 -0.008741 0.000000 0.015846 0.999839 -0.008359 0.000000 0.008872 0.008219 0.999927 0.000000 -2.332991 2.286299 6.458590 1.000000 \n"
     ]
    }
   ],
   "source": [
    "%%bash\n",
    "\n",
    "# The epi_reg command will take some time because there appears to be a bug when you supply your own _wmseg\n",
    "epi_reg --epi=example_func --t1=my_T1 --t1brain=my_T1_brain --out=func2T1"
   ]
  }
 ],
 "metadata": {
  "kernelspec": {
   "display_name": "Python 3",
   "language": "python",
   "name": "python3"
  },
  "language_info": {
   "codemirror_mode": {
    "name": "ipython",
    "version": 3
   },
   "file_extension": ".py",
   "mimetype": "text/x-python",
   "name": "python",
   "nbconvert_exporter": "python",
   "pygments_lexer": "ipython3",
   "version": "3.6.3"
  }
 },
 "nbformat": 4,
 "nbformat_minor": 2
}
