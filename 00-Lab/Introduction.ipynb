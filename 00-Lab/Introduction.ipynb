{
 "cells": [
  {
   "cell_type": "markdown",
   "metadata": {},
   "source": [
    "# Lab 0: Introduction\n",
    "\n",
    "In this lab you will be installing a Virtual Machine on your computer, allowing you run [FSL](https://fsl.fmrib.ox.ac.uk/fsl/fslwiki/), [AFNI](https://afni.nimh.nih.gov/), [freesurfer](https://surfer.nmr.mgh.harvard.edu/), and [nipype](http://nipype.readthedocs.io/en/0.13.1/) on your computer. That will be the software that we will be using for analysis of MRI and fMRI data throughout the class. This software runs well on Linux and Mac OS X. However, it has limitations under Windows. Therefore, you will be using a Virtual Linux machine that can be run under any operating system.\n",
    "\n",
    "### **Brief description of neuroimaging packages**\n",
    "-  FSL: collection of preprocessing/statistical analysis tools\n",
    "-  AFNI: collection of preprocessing/statistical analysis tools\n",
    "-  freesurfer: brain surface analysis tools\n",
    "-  nipype: python umbrella to combine FSL, AFNI, and freesurfer under one roof\n",
    "\n",
    "#### **Alternative VM installation Instructions**\n",
    "You will only need this if you don't install the VM directly and need to build it on your machine.\n",
    "- This will give a different perspective on downloading a virtual machine, potentially worth the read.\n",
    "- [Similar instructions from Neurodebian](http://neuro.debian.net/vm.html#neurodebian-virtual-machine)\n",
    "\n",
    "\n",
    "*Estimated Time to Complete 00-Lab*: 70 minutes (if you have to download/install the VM) "
   ]
  },
  {
   "cell_type": "markdown",
   "metadata": {},
   "source": [
    "## **Resource**\n",
    "\n",
    "Below is a video running through the installation of the VM, in case you want some visually guided steps and if you need to build the VM on your own.\n",
    "\n",
    "**IF YOU ARE A PART OF THE CLASS, YOU MOST LIKELY DO NOT NEED TO COMPLETE ALL THESE STEPS, JUST THE FOLLOWING**:\n",
    "- **COMPLETE STEP 0**\n",
    "- **COMPLETE STEP 4**\n",
    "- **IMPORT THE DOWNLOADED VM to VIRTUALBOX** (we will cover this in class or in a video)"
   ]
  },
  {
   "cell_type": "code",
   "execution_count": 2,
   "metadata": {},
   "outputs": [
    {
     "data": {
      "text/html": [
       "<iframe width=\"560\" height=\"315\" src=\"https://www.youtube.com/embed/xpVdYDY2rfQ\" frameborder=\"0\" gesture=\"media\" allowfullscreen></iframe>"
      ],
      "text/plain": [
       "<IPython.core.display.HTML object>"
      ]
     },
     "execution_count": 2,
     "metadata": {},
     "output_type": "execute_result"
    }
   ],
   "source": [
    "# video running through tutorial\n",
    "from IPython.display import HTML\n",
    "HTML('<iframe width=\"560\" height=\"315\" src=\"https://www.youtube.com/embed/xpVdYDY2rfQ\" frameborder=\"0\" gesture=\"media\" allowfullscreen></iframe>')"
   ]
  },
  {
   "cell_type": "markdown",
   "metadata": {},
   "source": [
    "## Step 0: [Download VirtualBox]( https://www.virtualbox.org/wiki/Downloads)\n",
    "*time estimate: 4 minutes*\n",
    "\n",
    "Follow the link after \"Step 0\" to be directed to the virtualbox homepage and click to download the latest version for your operating system (Windows, Mac osx, linux). Virtualbox is the utility that will handle and run the virtual machine.\n",
    "\n",
    "### NOTES\n",
    "- Download may take few minutes\n",
    "- Follow the instructions for the installer and just use the defaults"
   ]
  },
  {
   "cell_type": "markdown",
   "metadata": {},
   "source": [
    "## Step 1: [Download Vagrant](https://www.vagrantup.com/downloads.html)\n",
    "*time estimate: 4 minutes*\n",
    "\n",
    "Follow the link after \"Step 1\" to be directed to the vagrant homepage. You will see 32bit and 64bit download versions if you are using windows or linux. If you are in doubt, use the 64bit version, this is  the most likely case for your computer. \n",
    "\n",
    "### NOTES\n",
    "- Download may take few minutes\n",
    "- Follow the instructions for the installer and just use the defaults"
   ]
  },
  {
   "cell_type": "markdown",
   "metadata": {},
   "source": [
    "## Step 2: [Download The class Git Repository](https://github.com/HBClab/uiowa-mri-course-2018/archive/master.zip)\n",
    "*time estimate: 1 minute*\n",
    "\n",
    "This zip file will contain the configuration needed to properly install your virtual machine using vagrant. Unzip this file and be aware where the unzipped directory is (probably in your downloads)."
   ]
  },
  {
   "cell_type": "markdown",
   "metadata": {},
   "source": [
    "## Step 3: Start up the virtual machine\n",
    "*time estimate: 60 minutes*\n",
    "\n",
    "### Windows\n",
    "1. [Open up powershell](https://winaero.com/blog/all-ways-to-open-powershell-in-windows-10/)\n",
    "2. Change directories (cd) into the folder where you unzipped the class git repository), like so (assuming it's in downloads):\n",
    "```bash\n",
    "cd .\\Downloads\\uiowa-mri-course-2018-master\\uiowa-mri-course-2018-master\\\n",
    "```\n",
    "3. In that directory type the following in powershell:\n",
    "```bash\n",
    "vagrant.exe up | tee vagrant.log\n",
    "```\n",
    "4. While the configuration is happening you can use the virtual machine for basic tasks. Skip to step 6 for further instructions.\n",
    "\n",
    "### Mac OSX\n",
    "Upcoming...\n",
    "Similar, but different. (one difference is the backslashes (\\) become forward slashes (/) \n",
    "\n",
    "#### NOTES\n",
    "- This will take up to an hour to complete, so make sure your computer is plugged in and has a reliable connection!\n",
    "- The Graphical User Interface (GUI) of the virtual machine will appear during this process, this is normal. It will log you into the virtual machine and you will have access to the virtual environment.\n",
    "- There will a gratutitous amount of output on the terminal/poweshell screen (an ungodly amount), this is normal.\n",
    "- If you believe something didn't happen correctly, contact jdkent on [slack](https://slack.com/).\n",
    "- If you accidently go into another directory type `cd ~` to go back to the original directory like when you opened powershell."
   ]
  },
  {
   "cell_type": "markdown",
   "metadata": {},
   "source": [
    "## Step 4: Check the Virtual Machine on VirtualBox\n",
    "*time estimate: 1 minute*\n",
    "\n",
    "Step 3 set up and configured the virtual machine for us on virtualbox, but we didn't *see* it happen. So to confirm the virtual machine exists, and to get you used to opening the virtual machine, we will look at it manually.\n",
    "\n",
    "**NOTE**: If you are a part of the class, you will have the VM installed via USB and will \"import\" the VM into virtualbox.\n",
    "\n",
    "\n",
    "\n",
    "1. Click on the virtualbox icon on your desktop screen\n",
    "![virtualbox_icon](files/img/virtualbox_icon.png \"friendly neighborhood hover text\")\n",
    "2. There should a virtualbox named uiowa-mri-course-2018 and it should be running if you didn't close out of the box. Click on the uiowa-mri-course-2018 box It should look similar to the following:\n",
    "![virtualbox_screen](files/img/virtualbox_screen.png \"moar hover text\")\n",
    "3. Try closing out of the virtual machine by hitting \"X\" on the window the virtual machine is running on. This should give you a couple options to save the machine state, send the shutdown signal, or power down the machine. Select power down the machine. **WARNING**: Only do this after [step 3](http://localhost:8888/notebooks/InstallVirtualMachine.ipynb#Step-3:-Start-up-the-virtual-machine) has fully completed. "
   ]
  },
  {
   "cell_type": "markdown",
   "metadata": {},
   "source": [
    "## Step 6: Git Outta Town\n",
    "Imagine you and a fellow researcher are analyzing the same data to prepare for your super cool poster at your super cool conference. During your analysis, you found that a couple values didn't make sense, and when you found out someone mistyped the data. You fix the problem and tell your fellow researcher, and find out they did the same thing for other values that you missed and didn't fix. You share files, but realize you set up the data files differently ([long-form versus wide-form](https://sejdemyr.github.io/r-tutorials/basics/wide-and-long/)), so now you have more headaches trying to munge the files together. \n",
    "\n",
    "Several people independently working on the same file/dataset is a recipe for confusion if you don't have some type of version control management. Enter Git. This resource, once understood, will be your best ally in this mad world of data. In it's simplist form, Git is a way of keeping track of changes you make to your files, so you can go back in time in case something went wrong or if you wanted to take your data/scripts/files in another direction. Please read the [Git Parable](http://tom.preston-werner.com/2009/05/19/the-git-parable.html) to understand how git is used in the software development world, but draw connections with your own work and how the same concepts can apply. Don't worry about branches, you won't have to understand those for this class.\n",
    "### [Follow this Tutorial to try the git commands](https://try.github.io/levels/1/challenges/1)\n",
    "Follow the steps (15 minutes), but don't worry if you don't understand branches. \n",
    "\n",
    "Keep the diagram below in mind as you complete the tutorial (image pulled from [here](https://git-scm.com/book/en/v2/Git-Basics-Recording-Changes-to-the-Repository)):\n",
    "![git_basics](https://git-scm.com/book/en/v2/images/lifecycle.png \"basic git diagram\")\n",
    "\n",
    "### [Sign up for an account on github](https://github.com/) (if you haven't already)\n",
    "This account will be your portal to the open access world of software and sharing, try to use your hawkid if available.\n",
    "\n",
    "### Send us your username on slack! (if we haven't added you to the class already)\n",
    "Please send us your username on slack so we can find you in the github universe and add you to the course.\n",
    "\n",
    "### Setup git in your virtual machine\n",
    "**[Supplemental Videos](https://www.lynda.com/Git-tutorials/Configuring-Git/100222/111256-4.html) (login to lynda with your hawkid to get access to the full course)**\n",
    "If you are still shaky on git and how we are using it, watch the introductory videos to get a good background.\n",
    "\n",
    "Inside the virtual machine, click on the little computer at the bottom of your screen and a black box with a flashing cursor will appear. This is your terminal, and it can be a powerful tool to automate menial tasks, but right now, we are going to use it to set up our git account.\n",
    "\n",
    "The first step is set up our username by following the template command below in your terminal, and hit **ENTER** once you are done typing.\n",
    "```bash\n",
    "git config --global user.name \"<hawid> or whatever your github account name is\"\n",
    "```\n",
    "**EXAMPLE**\n",
    "```bash\n",
    "git config --global user.name \"jdkent\"\n",
    "```\n",
    "\n",
    "The next step is to set up our email using the command template below and hit **ENTER** once you are done typing:\n",
    "```bash\n",
    "git config --global user.email \"email@uiowa.edu\"\n",
    "```\n",
    "**EXAMPLE**\n",
    "```bash\n",
    "git config --global user.email \"james-kent@uiowa.edu\"\n",
    "```\n",
    "\n",
    "Now you can check to make sure you did everything correctly by typing the following\n",
    "```bash\n",
    "git config --list\n",
    "```\n",
    "\n",
    "\n"
   ]
  },
  {
   "cell_type": "markdown",
   "metadata": {},
   "source": [
    "## Step 7: Getting your class repository\n",
    "Once you have completed setting up git locally, go back to github and find your repository on the [uiowa-mri-course-2018 organization page](https://github.com/uiowa-mri-course-2018), you should see your repository named \"labs-yourid\" appended after it.\n",
    "\n",
    "1. Click on your repository \"labs-yourid\"\n",
    "2. In the upper right hand corner you should see \"watch\" \"star\" and \"fork\", click on \"fork\"\n",
    "3. Once the repository has been \"forked\" to your account, below \"fork\" you should see \"clone or download\", click on that and then click on the clipboard to copy the URL to your clipboard\n",
    "    - the pathname should be something like https://github.com/jdkent/labs-jdkent.git\n",
    "    - if you see something like https://github.com/uiowa-mri-course-2018/labs-jdkent.git, then you are still on the class repository and not on your forked repository.\n",
    "4. Back on your terminal (what's a terminal?, see step 8), make a directory named uiowa-mri-course-2018 like so: \n",
    "    - `mkdir ~/uiowa-mri-course-2018` \n",
    "    - then change directories in the folder (or directory, same thing) by typing the following into your terminal:\n",
    "    - `cd ~/uiowa-mri-course-2018`\n",
    "5. Finally clone your repository onto your local machine (like downloading)\n",
    "    - `git clone https://github.com/jdkent/labs-jdkent.git` (except replace my name with your username)\n",
    "6. Now you should have a directory named `labs-jdkent` that you can go into. (replace with your username)\n",
    "    - `cd ./jdkent_Labs/00-Lab`\n",
    "7. You are going to make your changes to your forked repository, but we will be adding material to your repository on the organization page. To make sure you are always staying up to date, we are going to connect your forked repository to your \"upstream\" repository on the organization page. Type something like the following (replace with your username!):\n",
    "    - `git remote add upstream https://github.com/uiowa-mri-course-2018/labs-jdkent.git`\n",
    "    - To make sure you have both your forked repository url (\"origin\") and your upstream repository on the organization page (\"upstream\"), type the following:\n",
    "    - `git remote -v` # this will list what online repositories your local copy can \"contact\"\n",
    "8. You can open up your own version of this notebook if you type `jupyter notebook` wait for the browser to open, and click on `Introduction.ipynb`\n",
    "9. Now I want you to answer the following very important question in the next cell. What is your favorite ice cream?"
   ]
  },
  {
   "cell_type": "code",
   "execution_count": 3,
   "metadata": {
    "collapsed": true
   },
   "outputs": [],
   "source": [
    "my_favorite_ice_cream = \"<insert here>\""
   ]
  },
  {
   "cell_type": "markdown",
   "metadata": {},
   "source": [
    "### Making your first commit and pull request\n",
    "1. Once you make your answer, click on the floppy disk to save your changes (it will say save and checkpoint)\n",
    "2. Go back to the terminal screen\n",
    "3. Now we are going to add the change you made to this file when you answered the ice-cream question\n",
    "4. In the terminal type:\n",
    "    - `git add Introduction.ipynb`\n",
    "5. Then type:\n",
    "    - `git commit -m 'ANS: ice_cream_commit'`\n",
    "6. Then \n",
    "    - `git push origin master`\n",
    "7. Now you can visit your repository on your github account and the change will magically appear.\n",
    "8. You should see the option to open a new pull request, select this option. This will open a request to change your \"upstream\" repository, which will be the final resting place of all your work. If you're confused, take a look at this [documentation](https://help.github.com/articles/about-pull-requests/).\n",
    "8. On the pull request page the \"upstream\" repository should be the base (e.g. the one that's associated with the uiowa-mri-course-2018 page), and your forked repository should be in the \"compare\" category.\n",
    "9. Add a helpful to title and message your pull request (e.g. title it 00-Lab: ice cream answer, with message \"I entered my favorite ice-cream\"\n",
    "10. You will be completing this process multiple times throughout the semester, Here is a [link](https://github.com/uiowa-mri-course-2018/Labs/wiki/Student-Git-Workflow) to a general guide so that you will have this notebook as a specific example and the guide as a more general reference."
   ]
  },
  {
   "cell_type": "markdown",
   "metadata": {},
   "source": [
    "## Step 8: Further Reading/Resources\n",
    "*the time spent on this is not calculated in the lab time*\n",
    "\n",
    "Inside the virtual machine, you should be able navigate around and surf the web as if it were a normal operating system. To get introduced to the commandline, which we will be using for the semester (in addition to jupyter notebooks), do the following:\n",
    "1. Along the bottom of the screen there are six icons, but one will be a black box that kind of looks like a retro computer screen, click on that one. Should look similar to the following:\n",
    "![terminal_icon](files/img/terminal_icon.png \"stop hovering on me!!\")\n",
    "2. You may see some startup text that ends with a dollar sign ($) and a greenbar cursor\n",
    "![terminal_screen](files/img/terminal_screen.png \"seriously\")\n",
    "3. Open up [this guide](http://swcarpentry.github.io/shell-novice/) (using the virtual machine web browser) and follow along (only if you've already completed the git training)!\n"
   ]
  },
  {
   "cell_type": "markdown",
   "metadata": {
    "collapsed": true
   },
   "source": [
    "### The More You Know...\n",
    "**Q**: Why do I start counting with 0?\n",
    "\n",
    "**A**: In *most* (looking at you MATLAB) programming languages, all arrays (think of a list of items, steps like in this lab, or labs, like the labs in this repository) [start at zero](http://developeronline.blogspot.com/2008/04/why-array-index-should-start-from-0.html). So if you had a list of numbered items in your grocery list, the first item (or element) would be at index 0, not at index 1. MATLAB is the problem child because the [inventor](https://en.wikipedia.org/wiki/Cleve_Moler) had more background in Linear Algebra/Matrix notation, in which indexing starts at 1.\n",
    "\n",
    "#### **PYTHON/MOST OTHERS**\n",
    "0. eggs\n",
    "1. milk\n",
    "2. bread\n",
    "\n",
    "#### **MATLAB**\n",
    "1. eggs\n",
    "2. milk\n",
    "3. bread"
   ]
  },
  {
   "cell_type": "markdown",
   "metadata": {},
   "source": [
    "## Step 9: Troubleshooting\n",
    "If anything went wrong please contact mwvoss or jdkent on [slack](https://slack.com/)"
   ]
  }
 ],
 "metadata": {
  "kernelspec": {
   "display_name": "Python 3",
   "language": "python",
   "name": "python3"
  },
  "language_info": {
   "codemirror_mode": {
    "name": "ipython",
    "version": 3
   },
   "file_extension": ".py",
   "mimetype": "text/x-python",
   "name": "python",
   "nbconvert_exporter": "python",
   "pygments_lexer": "ipython3",
   "version": "3.6.1"
  }
 },
 "nbformat": 4,
 "nbformat_minor": 2
}
